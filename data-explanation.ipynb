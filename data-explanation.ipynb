{
 "cells": [
  {
   "cell_type": "markdown",
   "id": "bottom-influence",
   "metadata": {},
   "source": [
    "# Data explanation (EXISTING)\n",
    "In this notebook, the first section explores the dataset and the second section walks through how the dataset was gathered and cleaned."
   ]
  },
  {
   "cell_type": "code",
   "execution_count": 1,
   "id": "every-field",
   "metadata": {},
   "outputs": [],
   "source": [
    "import os # for file operations\n",
    "import pandas as pd\n",
    "import wikipedia # gets list of all languages on wikipedia\n",
    "import paramiko"
   ]
  },
  {
   "cell_type": "markdown",
   "id": "about-sudan",
   "metadata": {},
   "source": [
    "---\n",
    "# Intro to the dataset"
   ]
  },
  {
   "cell_type": "code",
   "execution_count": 2,
   "id": "quiet-malaysia",
   "metadata": {},
   "outputs": [
    {
     "data": {
      "text/plain": [
       "['.DS_Store', 'chunked', 'texts', 'extracted']"
      ]
     },
     "execution_count": 2,
     "metadata": {},
     "output_type": "execute_result"
    }
   ],
   "source": [
    "path = '/Users/snc/Documents/wikidata/'\n",
    "os.listdir(path)"
   ]
  },
  {
   "cell_type": "markdown",
   "id": "crucial-pathology",
   "metadata": {},
   "source": [
    "On the highest level of my data directory, there are three subdirectories. \n",
    "\n",
    "The extracted subdirectory contains the raw text of all articles for all languages' wikipedias, untouched except for being extracted from the XML format of the Wikipedia server dumps. Each language is its own .txt file in this directory. \n",
    "\n",
    "In texts, I have the data once all the articles's text bodies have been concatenated together into one very long string, with punctuation, URLs, formatting characters and so on stripped away. Each language has its own file(s) in the texts subdirectory - some languages' wikipedias were too big for the language to be held in just one file and subsequently tranferred to another computer (I would get memory errors), so many languages are split into many installments (the number is proportionate to the size of that wikipedia). \n",
    "\n",
    "Lastly, the chunked subdirectory stores a subset of the texts data for more convenient use when trying out machine learning models. Here, each language is represented by its own file. I randomly selected 500-character chunks from each language's files in the texts subdirectory, then shuffled the order of the chunks. For languages with more than 10000 contiguous 500-character chunks, I capped the number of chunks at 10000. However, smaller wikipedias were to small too have all 10000 chunks."
   ]
  },
  {
   "cell_type": "markdown",
   "id": "tutorial-drink",
   "metadata": {},
   "source": [
    "## The extracted subdirectory\n",
    "Here I'll make a dataframe of all languages/files in extracted and the filesize for that language in megabytes (and recall a gigabyte is 1000 megabytes)\n",
    "### The files"
   ]
  },
  {
   "cell_type": "code",
   "execution_count": 3,
   "id": "premier-lincoln",
   "metadata": {},
   "outputs": [
    {
     "data": {
      "text/html": [
       "<div>\n",
       "<style scoped>\n",
       "    .dataframe tbody tr th:only-of-type {\n",
       "        vertical-align: middle;\n",
       "    }\n",
       "\n",
       "    .dataframe tbody tr th {\n",
       "        vertical-align: top;\n",
       "    }\n",
       "\n",
       "    .dataframe thead th {\n",
       "        text-align: right;\n",
       "    }\n",
       "</style>\n",
       "<table border=\"1\" class=\"dataframe\">\n",
       "  <thead>\n",
       "    <tr style=\"text-align: right;\">\n",
       "      <th></th>\n",
       "      <th>lang</th>\n",
       "      <th>fname</th>\n",
       "      <th>exfsize_MB</th>\n",
       "    </tr>\n",
       "    <tr>\n",
       "      <th>code</th>\n",
       "      <th></th>\n",
       "      <th></th>\n",
       "      <th></th>\n",
       "    </tr>\n",
       "  </thead>\n",
       "  <tbody>\n",
       "    <tr>\n",
       "      <th>kaa</th>\n",
       "      <td>Qaraqalpaqsha</td>\n",
       "      <td>kaa.txt</td>\n",
       "      <td>1.595770</td>\n",
       "    </tr>\n",
       "    <tr>\n",
       "      <th>glk</th>\n",
       "      <td>گیلکی</td>\n",
       "      <td>glk.txt</td>\n",
       "      <td>3.559629</td>\n",
       "    </tr>\n",
       "    <tr>\n",
       "      <th>el</th>\n",
       "      <td>Ελληνικά</td>\n",
       "      <td>el.txt</td>\n",
       "      <td>842.761617</td>\n",
       "    </tr>\n",
       "    <tr>\n",
       "      <th>gd</th>\n",
       "      <td>Gàidhlig</td>\n",
       "      <td>gd.txt</td>\n",
       "      <td>8.785653</td>\n",
       "    </tr>\n",
       "    <tr>\n",
       "      <th>io</th>\n",
       "      <td>Ido</td>\n",
       "      <td>io.txt</td>\n",
       "      <td>23.850933</td>\n",
       "    </tr>\n",
       "  </tbody>\n",
       "</table>\n",
       "</div>"
      ],
      "text/plain": [
       "               lang    fname  exfsize_MB\n",
       "code                                    \n",
       "kaa   Qaraqalpaqsha  kaa.txt    1.595770\n",
       "glk           گیلکی  glk.txt    3.559629\n",
       "el         Ελληνικά   el.txt  842.761617\n",
       "gd         Gàidhlig   gd.txt    8.785653\n",
       "io              Ido   io.txt   23.850933"
      ]
     },
     "execution_count": 3,
     "metadata": {},
     "output_type": "execute_result"
    }
   ],
   "source": [
    "extracted_list = []\n",
    "for f in os.listdir(path+'extracted/'):\n",
    "    if f.startswith('.'): continue #skip system files\n",
    "    fname = f[:f.index('.')]\n",
    "    lang = wikipedia.languages()[fname]\n",
    "    extracted_list.append((fname, lang, f, os.path.getsize(path+'extracted/' + f)/1000000))\n",
    "files= pd.DataFrame(extracted_list, columns=['code', 'lang', 'fname', 'exfsize_MB'])\n",
    "files.set_index('code', inplace=True)\n",
    "files.head()"
   ]
  },
  {
   "cell_type": "code",
   "execution_count": 4,
   "id": "prescribed-negative",
   "metadata": {},
   "outputs": [
    {
     "data": {
      "text/plain": [
       "(248, 3)"
      ]
     },
     "execution_count": 4,
     "metadata": {},
     "output_type": "execute_result"
    }
   ],
   "source": [
    "files.shape"
   ]
  },
  {
   "cell_type": "markdown",
   "id": "paperback-sally",
   "metadata": {},
   "source": [
    "248 files/languages in the extracted subdirectory - each language in the dataset is represented by its own file"
   ]
  },
  {
   "cell_type": "code",
   "execution_count": 5,
   "id": "quality-denmark",
   "metadata": {},
   "outputs": [
    {
     "data": {
      "text/plain": [
       "85047.673301"
      ]
     },
     "execution_count": 5,
     "metadata": {},
     "output_type": "execute_result"
    }
   ],
   "source": [
    "files.exfsize_MB.sum()"
   ]
  },
  {
   "cell_type": "markdown",
   "id": "vietnamese-measurement",
   "metadata": {},
   "source": [
    "This subdirectory is taking up about 85000 megabytes or 85 gigabytes on my computer"
   ]
  },
  {
   "cell_type": "markdown",
   "id": "australian-sharing",
   "metadata": {},
   "source": [
    "### Example for a language\n",
    "Here is an example file, for Greek (language code el):"
   ]
  },
  {
   "cell_type": "code",
   "execution_count": 6,
   "id": "suitable-sensitivity",
   "metadata": {},
   "outputs": [],
   "source": [
    "f = open(path+'extracted/el.txt', 'r')\n",
    "exel = f.readlines()\n",
    "f.close()"
   ]
  },
  {
   "cell_type": "code",
   "execution_count": 7,
   "id": "durable-arthur",
   "metadata": {},
   "outputs": [
    {
     "data": {
      "text/plain": [
       "1473329"
      ]
     },
     "execution_count": 7,
     "metadata": {},
     "output_type": "execute_result"
    }
   ],
   "source": [
    "len(exel) # each title/header and each paragraph of each article is its own line"
   ]
  },
  {
   "cell_type": "code",
   "execution_count": 8,
   "id": "varied-paraguay",
   "metadata": {},
   "outputs": [
    {
     "data": {
      "text/plain": [
       "['Ελληνικός\\n',\n",
       " 'Σαν επίθετο ελληνικά/ελληνικός σημαίνει από, ή σχετικά με την Ελλάδα, το λαό της, ή την κουλτούρα της.\\n',\n",
       " 'Αθλητισμός\\n',\n",
       " 'Ο αθλητισμός είναι η συστηματική σωματική καλλιέργεια και δράση με συγκεκριμένο τρόπο, ειδική μεθοδολογία και παιδαγωγική με σκοπό την ύψιστη σωματική απόδοση, ως επίδοση σε αθλητικούς αγώνες, στο αθλητικό και κοινωνικό γίγνεσθαι . Παράλληλα ο αθλητισμός είναι ένας κοινωνικός θεσμός ο οποίος αντικατοπτρίζει τη δεδομένη κοινωνία και τον πολιτισμό της. Για παράδειγμα στην Αρχαία Ελλάδα, ο αθλητισμός στην Αθήνα θεωρούταν κοινωνικό και πολιτισμικό αγαθό και είχε παιδαγωγικό χαρακτήρα, ενώ αντίθετα στην Σπάρτη ο αθλητισμός χρησιμοποιούταν για την στρατιωτική εκπαίδευση. Ωστόσο σημαντική είναι η στρωματική διάσταση του αθλητισμού στο πέρασμα του χρόνου. Η γενική τάση ήταν ιδίως τον 18ο και 19ο αιώνα τα κατώτερα κοινωνικά στρώματα να ασχολούνται με τα «λαικα παιχνίδια» όπως το ποδόσφαιρο, ενώ τα ανώτερα κοινωνικά στρώματα με τα «ευγενή αθλήματα» όπως ήταν η ιππασία και η ξιφασκία.\\n',\n",
       " 'Η έννοια του αθλητισμού δεν συνάδει απαραίτητα με την εργασία, όπως αυτή δηλώνεται υπό την στενή έννοια του όρου. Έτσι, υπάρχουν άτομα που ασχολούνται επαγγελματικά ή ημιεπαγγελματικά με τον αθλητισμό, ενώ κάποιοι άλλοι επιδιώκουν τη συμμετοχή τους σε αθλοπαιδιές, προκειμένου απλά να διατηρούνται σε καλή φυσική κατάσταση.\\n',\n",
       " 'Οι επαγγελματίες αθλητές διακρίνονται, συνήθως, για την έντονη επιθυμία τους για διακρίσεις, δυναμισμό, αυστηρή πειθαρχία, αυτοκυριαρχία \\xa0και απόλυτη υπακοή στις υποδείξεις των προπονητών τους σε θέματα που αφορούν στην άσκηση και τη διατροφή τους. Η έντονη σωματική άσκηση και ο ιδιαίτερος τρόπος ζωής που ακολουθεί ένας αθλητής θα πρέπει να συνοδεύεται από αρκετή δόση υπομονής και επιμονής, ώστε να καταφέρει να φθάσει στα επιθυμητά για εκείνον αποτελέσματα. Τα σωματικά προσόντα που απαιτούνται για κάθε άθλημα ποικίλουν. Το ίδιο και οι αμοιβές. Στις περισσότερες των περιπτώσεων, όσο μεγαλύτερη φήμη έχει ο αθλητής ή η ομάδα στην οποία ανήκει, τόσο μεγαλύτερη είναι η αμοιβή που απολαμβάνει (σταθερός μισθός,\\xa0 bonus,\\xa0 χορηγίες).\\n',\n",
       " 'Ωστόσο, πρέπει να διαχωριστεί η έννοια της άθλησης από την έννοια της άσκησης. Η άσκηση γίνεται άθληση όταν αποκτά ανταγωνιστικό χαρακτήρα. Για παράδειγμα ένας που τρέχει στο δρόμο ασκείται, ωστόσο άν έχει κάποιον αντίπαλο ώστε για το ποιος θα τερματίσει πρώτος ή ακόμη και αν ανταγωνίζεται τον ίδιο του τον εαυτό, με το χρονόμετρο, αθλείται. Επίσης πρέπει να προστεθεί και η έννοια, της κίνησης.\\n',\n",
       " 'Ο αθλητισμός μπορεί να πάρει πέντε μορφές, είτε ως ερασιτεχνικός, είτε ως επαγγελματικός, είτε ως μαζικός αθλητισμός, είτε ως φυσικές δραστηριότητες, είτε με την μορφή των παιχνιδιών.\\n',\n",
       " 'Υπάρχουν τρεις θεωρίες σχετικά με τη γένεση του αθλητισμού:\\n',\n",
       " 'Ορισμοί\\n']"
      ]
     },
     "execution_count": 8,
     "metadata": {},
     "output_type": "execute_result"
    }
   ],
   "source": [
    "exel[0:10] # first 10 elements"
   ]
  },
  {
   "cell_type": "markdown",
   "id": "coordinate-walker",
   "metadata": {},
   "source": [
    "## The texts subdirectory\n",
    "### The files\n",
    "Since languages can be split up across multiple files, the naming scheme is as follows when dividing language with code 'lang' into n parts: the first file is 'lang0.txt', second is 'lang1.txt' up until 'lang(n-1).txt'."
   ]
  },
  {
   "cell_type": "code",
   "execution_count": 9,
   "id": "downtown-method",
   "metadata": {},
   "outputs": [
    {
     "name": "stderr",
     "output_type": "stream",
     "text": [
      "<ipython-input-9-29816dd4895f>:8: SettingWithCopyWarning: \n",
      "A value is trying to be set on a copy of a slice from a DataFrame\n",
      "\n",
      "See the caveats in the documentation: https://pandas.pydata.org/pandas-docs/stable/user_guide/indexing.html#returning-a-view-versus-a-copy\n",
      "  files['tf_count'][lang] += 1\n",
      "<ipython-input-9-29816dd4895f>:9: SettingWithCopyWarning: \n",
      "A value is trying to be set on a copy of a slice from a DataFrame\n",
      "\n",
      "See the caveats in the documentation: https://pandas.pydata.org/pandas-docs/stable/user_guide/indexing.html#returning-a-view-versus-a-copy\n",
      "  files['tf_totalsize_MB'][lang] += os.path.getsize(path+'texts/'+f)/1000000\n"
     ]
    },
    {
     "data": {
      "text/html": [
       "<div>\n",
       "<style scoped>\n",
       "    .dataframe tbody tr th:only-of-type {\n",
       "        vertical-align: middle;\n",
       "    }\n",
       "\n",
       "    .dataframe tbody tr th {\n",
       "        vertical-align: top;\n",
       "    }\n",
       "\n",
       "    .dataframe thead th {\n",
       "        text-align: right;\n",
       "    }\n",
       "</style>\n",
       "<table border=\"1\" class=\"dataframe\">\n",
       "  <thead>\n",
       "    <tr style=\"text-align: right;\">\n",
       "      <th></th>\n",
       "      <th>lang</th>\n",
       "      <th>fname</th>\n",
       "      <th>exfsize_MB</th>\n",
       "      <th>tf_totalsize_MB</th>\n",
       "      <th>tf_count</th>\n",
       "      <th>tf_avgsize_MB</th>\n",
       "    </tr>\n",
       "    <tr>\n",
       "      <th>code</th>\n",
       "      <th></th>\n",
       "      <th></th>\n",
       "      <th></th>\n",
       "      <th></th>\n",
       "      <th></th>\n",
       "      <th></th>\n",
       "    </tr>\n",
       "  </thead>\n",
       "  <tbody>\n",
       "    <tr>\n",
       "      <th>kaa</th>\n",
       "      <td>Qaraqalpaqsha</td>\n",
       "      <td>kaa.txt</td>\n",
       "      <td>1.595770</td>\n",
       "      <td>1.452531</td>\n",
       "      <td>1</td>\n",
       "      <td>1.452531</td>\n",
       "    </tr>\n",
       "    <tr>\n",
       "      <th>glk</th>\n",
       "      <td>گیلکی</td>\n",
       "      <td>glk.txt</td>\n",
       "      <td>3.559629</td>\n",
       "      <td>3.426984</td>\n",
       "      <td>1</td>\n",
       "      <td>3.426984</td>\n",
       "    </tr>\n",
       "    <tr>\n",
       "      <th>el</th>\n",
       "      <td>Ελληνικά</td>\n",
       "      <td>el.txt</td>\n",
       "      <td>842.761617</td>\n",
       "      <td>818.755837</td>\n",
       "      <td>4</td>\n",
       "      <td>204.688959</td>\n",
       "    </tr>\n",
       "    <tr>\n",
       "      <th>gd</th>\n",
       "      <td>Gàidhlig</td>\n",
       "      <td>gd.txt</td>\n",
       "      <td>8.785653</td>\n",
       "      <td>8.111927</td>\n",
       "      <td>1</td>\n",
       "      <td>8.111927</td>\n",
       "    </tr>\n",
       "    <tr>\n",
       "      <th>io</th>\n",
       "      <td>Ido</td>\n",
       "      <td>io.txt</td>\n",
       "      <td>23.850933</td>\n",
       "      <td>20.424057</td>\n",
       "      <td>1</td>\n",
       "      <td>20.424057</td>\n",
       "    </tr>\n",
       "  </tbody>\n",
       "</table>\n",
       "</div>"
      ],
      "text/plain": [
       "               lang    fname  exfsize_MB  tf_totalsize_MB  tf_count  \\\n",
       "code                                                                  \n",
       "kaa   Qaraqalpaqsha  kaa.txt    1.595770         1.452531         1   \n",
       "glk           گیلکی  glk.txt    3.559629         3.426984         1   \n",
       "el         Ελληνικά   el.txt  842.761617       818.755837         4   \n",
       "gd         Gàidhlig   gd.txt    8.785653         8.111927         1   \n",
       "io              Ido   io.txt   23.850933        20.424057         1   \n",
       "\n",
       "      tf_avgsize_MB  \n",
       "code                 \n",
       "kaa        1.452531  \n",
       "glk        3.426984  \n",
       "el       204.688959  \n",
       "gd         8.111927  \n",
       "io        20.424057  "
      ]
     },
     "execution_count": 9,
     "metadata": {},
     "output_type": "execute_result"
    }
   ],
   "source": [
    "files['tf_totalsize_MB'] = 0.0 # total size for each language in texts subdirectory\n",
    "files['tf_count'] = 0 # number of files dedicated to that language\n",
    "for f in os.listdir(path + 'texts/'):\n",
    "    if f.startswith('.'): continue\n",
    "    lang = f[:f.index('.')]\n",
    "    lang = ''.join([i for i in lang if not i.isdigit()]) # remove \n",
    "                                                        #installment number to get lang code\n",
    "    files['tf_count'][lang] += 1\n",
    "    files['tf_totalsize_MB'][lang] += os.path.getsize(path+'texts/'+f)/1000000\n",
    "files['tf_avgsize_MB'] = files['tf_totalsize_MB'] / files['tf_count']\n",
    "files.head()"
   ]
  },
  {
   "cell_type": "markdown",
   "id": "arbitrary-apparel",
   "metadata": {},
   "source": [
    "For instance, here is the information for the English dataset:"
   ]
  },
  {
   "cell_type": "code",
   "execution_count": 10,
   "id": "blessed-tuner",
   "metadata": {},
   "outputs": [
    {
     "data": {
      "text/plain": [
       "lang               English\n",
       "fname               en.txt\n",
       "exfsize_MB         14186.3\n",
       "tf_totalsize_MB    13384.2\n",
       "tf_count                10\n",
       "tf_avgsize_MB      1338.42\n",
       "Name: en, dtype: object"
      ]
     },
     "execution_count": 10,
     "metadata": {},
     "output_type": "execute_result"
    }
   ],
   "source": [
    "files.loc['en']"
   ]
  },
  {
   "cell_type": "markdown",
   "id": "allied-uncertainty",
   "metadata": {},
   "source": [
    "The `tf_count` entry tells you there's 10 files to store the English wikipedia. The total size of these files (from the `tf_totalsize_MB` entry) is 13384 Megabytes or about 13 gigabytes. The average filesize for each of the 10 English files (since I split the data evenly amongst each file) is 1338 Megabytes or 1.3 gigabytes.\n",
    "\n",
    "Now, you might wonder why I was able to create the 14 gigabyte file to represent English in the extracted directory, but I got a memory error when trying to create one 13 gigabyte file to represent English in the texts directory. I have that question too. Maybe it's because the texts files have no linebreaks while the extracted ones do, making the extracted ones easier to split up when writing to file and transferring to another computer. "
   ]
  },
  {
   "cell_type": "code",
   "execution_count": 11,
   "id": "tropical-information",
   "metadata": {},
   "outputs": [
    {
     "data": {
      "text/plain": [
       "567"
      ]
     },
     "execution_count": 11,
     "metadata": {},
     "output_type": "execute_result"
    }
   ],
   "source": [
    "files['tf_count'].sum()"
   ]
  },
  {
   "cell_type": "code",
   "execution_count": 12,
   "id": "settled-generic",
   "metadata": {},
   "outputs": [
    {
     "data": {
      "text/plain": [
       "80568.077846"
      ]
     },
     "execution_count": 12,
     "metadata": {},
     "output_type": "execute_result"
    }
   ],
   "source": [
    "files['tf_totalsize_MB'].sum()"
   ]
  },
  {
   "cell_type": "markdown",
   "id": "endangered-plate",
   "metadata": {},
   "source": [
    "The total texts directory contains 567 files (divided by 248 languages is average 2.3 files per languages). The total space taken up by this subdirectory is about 80.5 gigabytes on my computer, so just slightly smaller than the extracted subdirectory."
   ]
  },
  {
   "cell_type": "markdown",
   "id": "unable-section",
   "metadata": {},
   "source": [
    "### Example for a language\n",
    "This is the first file for German"
   ]
  },
  {
   "cell_type": "code",
   "execution_count": 13,
   "id": "timely-timber",
   "metadata": {},
   "outputs": [],
   "source": [
    "f = open(path + 'texts/de0.txt', 'r')\n",
    "tede = f.read()\n",
    "f.close()"
   ]
  },
  {
   "cell_type": "markdown",
   "id": "legitimate-merit",
   "metadata": {},
   "source": [
    "The file's contents are just a lot of characters in one continuous line. Other than the very end of the file, the newline character '\\n' is not present:"
   ]
  },
  {
   "cell_type": "code",
   "execution_count": 14,
   "id": "detailed-economics",
   "metadata": {},
   "outputs": [
    {
     "data": {
      "text/plain": [
       "132563807"
      ]
     },
     "execution_count": 14,
     "metadata": {},
     "output_type": "execute_result"
    }
   ],
   "source": [
    "len(tede)"
   ]
  },
  {
   "cell_type": "code",
   "execution_count": 15,
   "id": "homeless-grade",
   "metadata": {},
   "outputs": [
    {
     "data": {
      "text/plain": [
       "False"
      ]
     },
     "execution_count": 15,
     "metadata": {},
     "output_type": "execute_result"
    }
   ],
   "source": [
    "'\\n' in tede[:-1]"
   ]
  },
  {
   "cell_type": "markdown",
   "id": "happy-problem",
   "metadata": {},
   "source": [
    "First 1000 characters:"
   ]
  },
  {
   "cell_type": "code",
   "execution_count": 16,
   "id": "developed-invention",
   "metadata": {},
   "outputs": [
    {
     "data": {
      "text/plain": [
       "'Alan Smithee Alan Smithee steht als Pseudonym für einen fiktiven Regisseur der Filme verantwortet bei denen der eigentliche Regisseur seinen Namen nicht mit dem Werk in Verbindung gebracht haben möchte Von bis wurde es von der Directors Guild of America DGA für solche Situationen empfohlen seither ist es Thomas Lee Alan Smithee ist jedoch weiterhin in Gebrauch Alternative Schreibweisen sind unter anderem die Ursprungsvariante Allen Smithee sowie Alan Smythee und Adam Smithee Auch zwei teilweise asiatisch anmutende Schreibweisen Alan Smi Thee und Sumishii Aran gehören so die Internet Movie Database dazu Das Pseudonym entstand infolge der Arbeiten am WesternFilm Death of a Gunfighter deutscher Titel Frank Patch Deine Stunden sind gezählt Regisseur Robert Totten und Hauptdarsteller Richard Widmark gerieten in einen Streit woraufhin Don Siegel als neuer Regisseur eingesetzt wurde Der Film trug nach Abschluss der Arbeiten noch deutlich Tottens Handschrift der auch mehr Drehtage als Siegel d'"
      ]
     },
     "execution_count": 16,
     "metadata": {},
     "output_type": "execute_result"
    }
   ],
   "source": [
    "tede[:1000]"
   ]
  },
  {
   "cell_type": "markdown",
   "id": "naked-guitar",
   "metadata": {},
   "source": [
    "## The chunked subdirectory\n",
    "### The files"
   ]
  },
  {
   "cell_type": "code",
   "execution_count": 17,
   "id": "north-community",
   "metadata": {},
   "outputs": [
    {
     "name": "stderr",
     "output_type": "stream",
     "text": [
      "<ipython-input-17-c6a859026ee2>:9: SettingWithCopyWarning: \n",
      "A value is trying to be set on a copy of a slice from a DataFrame\n",
      "\n",
      "See the caveats in the documentation: https://pandas.pydata.org/pandas-docs/stable/user_guide/indexing.html#returning-a-view-versus-a-copy\n",
      "  files['nchunks'][lang] = len(chunks)\n",
      "<ipython-input-17-c6a859026ee2>:10: SettingWithCopyWarning: \n",
      "A value is trying to be set on a copy of a slice from a DataFrame\n",
      "\n",
      "See the caveats in the documentation: https://pandas.pydata.org/pandas-docs/stable/user_guide/indexing.html#returning-a-view-versus-a-copy\n",
      "  files['fchunk_size_MB'][lang] = os.path.getsize(path+'chunked/'+f)/1000000\n"
     ]
    },
    {
     "data": {
      "text/html": [
       "<div>\n",
       "<style scoped>\n",
       "    .dataframe tbody tr th:only-of-type {\n",
       "        vertical-align: middle;\n",
       "    }\n",
       "\n",
       "    .dataframe tbody tr th {\n",
       "        vertical-align: top;\n",
       "    }\n",
       "\n",
       "    .dataframe thead th {\n",
       "        text-align: right;\n",
       "    }\n",
       "</style>\n",
       "<table border=\"1\" class=\"dataframe\">\n",
       "  <thead>\n",
       "    <tr style=\"text-align: right;\">\n",
       "      <th></th>\n",
       "      <th>lang</th>\n",
       "      <th>fname</th>\n",
       "      <th>exfsize_MB</th>\n",
       "      <th>tf_totalsize_MB</th>\n",
       "      <th>tf_count</th>\n",
       "      <th>tf_avgsize_MB</th>\n",
       "      <th>fchunk_size_MB</th>\n",
       "      <th>nchunks</th>\n",
       "    </tr>\n",
       "    <tr>\n",
       "      <th>code</th>\n",
       "      <th></th>\n",
       "      <th></th>\n",
       "      <th></th>\n",
       "      <th></th>\n",
       "      <th></th>\n",
       "      <th></th>\n",
       "      <th></th>\n",
       "      <th></th>\n",
       "    </tr>\n",
       "  </thead>\n",
       "  <tbody>\n",
       "    <tr>\n",
       "      <th>kaa</th>\n",
       "      <td>Qaraqalpaqsha</td>\n",
       "      <td>kaa.txt</td>\n",
       "      <td>1.595770</td>\n",
       "      <td>1.452531</td>\n",
       "      <td>1</td>\n",
       "      <td>1.452531</td>\n",
       "      <td>1</td>\n",
       "      <td>2746</td>\n",
       "    </tr>\n",
       "    <tr>\n",
       "      <th>glk</th>\n",
       "      <td>گیلکی</td>\n",
       "      <td>glk.txt</td>\n",
       "      <td>3.559629</td>\n",
       "      <td>3.426984</td>\n",
       "      <td>1</td>\n",
       "      <td>3.426984</td>\n",
       "      <td>3</td>\n",
       "      <td>3823</td>\n",
       "    </tr>\n",
       "    <tr>\n",
       "      <th>el</th>\n",
       "      <td>Ελληνικά</td>\n",
       "      <td>el.txt</td>\n",
       "      <td>842.761617</td>\n",
       "      <td>818.755837</td>\n",
       "      <td>4</td>\n",
       "      <td>204.688959</td>\n",
       "      <td>9</td>\n",
       "      <td>10000</td>\n",
       "    </tr>\n",
       "    <tr>\n",
       "      <th>gd</th>\n",
       "      <td>Gàidhlig</td>\n",
       "      <td>gd.txt</td>\n",
       "      <td>8.785653</td>\n",
       "      <td>8.111927</td>\n",
       "      <td>1</td>\n",
       "      <td>8.111927</td>\n",
       "      <td>5</td>\n",
       "      <td>10000</td>\n",
       "    </tr>\n",
       "    <tr>\n",
       "      <th>io</th>\n",
       "      <td>Ido</td>\n",
       "      <td>io.txt</td>\n",
       "      <td>23.850933</td>\n",
       "      <td>20.424057</td>\n",
       "      <td>1</td>\n",
       "      <td>20.424057</td>\n",
       "      <td>5</td>\n",
       "      <td>10000</td>\n",
       "    </tr>\n",
       "  </tbody>\n",
       "</table>\n",
       "</div>"
      ],
      "text/plain": [
       "               lang    fname  exfsize_MB  tf_totalsize_MB  tf_count  \\\n",
       "code                                                                  \n",
       "kaa   Qaraqalpaqsha  kaa.txt    1.595770         1.452531         1   \n",
       "glk           گیلکی  glk.txt    3.559629         3.426984         1   \n",
       "el         Ελληνικά   el.txt  842.761617       818.755837         4   \n",
       "gd         Gàidhlig   gd.txt    8.785653         8.111927         1   \n",
       "io              Ido   io.txt   23.850933        20.424057         1   \n",
       "\n",
       "      tf_avgsize_MB  fchunk_size_MB  nchunks  \n",
       "code                                          \n",
       "kaa        1.452531               1     2746  \n",
       "glk        3.426984               3     3823  \n",
       "el       204.688959               9    10000  \n",
       "gd         8.111927               5    10000  \n",
       "io        20.424057               5    10000  "
      ]
     },
     "execution_count": 17,
     "metadata": {},
     "output_type": "execute_result"
    }
   ],
   "source": [
    "files['fchunk_size_MB'] = 0 # file size of chunked file\n",
    "files['nchunks'] = 0 # number of chunks (lines) in the file\n",
    "for f in os.listdir(path+'chunked/'):\n",
    "    if f.startswith('.'): continue\n",
    "    lang = f[:f.index('.')]\n",
    "    file = open(path+'chunked/'+f, 'r')\n",
    "    chunks = file.readlines()\n",
    "    file.close()\n",
    "    files['nchunks'][lang] = len(chunks)\n",
    "    files['fchunk_size_MB'][lang] = os.path.getsize(path+'chunked/'+f)/1000000\n",
    "files.head()"
   ]
  },
  {
   "cell_type": "markdown",
   "id": "innovative-scene",
   "metadata": {},
   "source": [
    "As shown in this histogram of the number of chunks per language, most languages have the full 10000 chunks but a non-negligible amount do not."
   ]
  },
  {
   "cell_type": "code",
   "execution_count": 18,
   "id": "legendary-percentage",
   "metadata": {},
   "outputs": [
    {
     "data": {
      "text/plain": [
       "<AxesSubplot:ylabel='Frequency'>"
      ]
     },
     "execution_count": 18,
     "metadata": {},
     "output_type": "execute_result"
    },
    {
     "data": {
      "image/png": "[encoded data removed]",
      "text/plain": [
       "<Figure size 432x288 with 1 Axes>"
      ]
     },
     "metadata": {
      "needs_background": "light"
     },
     "output_type": "display_data"
    }
   ],
   "source": [
    "files['nchunks'].plot.hist(bins=30)"
   ]
  },
  {
   "cell_type": "markdown",
   "id": "balanced-wrong",
   "metadata": {},
   "source": [
    "The average number of chunks is 7719 while the median is 10000. The minimum number of chunks is 343."
   ]
  },
  {
   "cell_type": "code",
   "execution_count": 19,
   "id": "optional-tulsa",
   "metadata": {},
   "outputs": [
    {
     "data": {
      "text/plain": [
       "count      248.000000\n",
       "mean      7719.826613\n",
       "std       3258.018658\n",
       "min        343.000000\n",
       "25%       4488.000000\n",
       "50%      10000.000000\n",
       "75%      10000.000000\n",
       "max      10000.000000\n",
       "Name: nchunks, dtype: float64"
      ]
     },
     "execution_count": 19,
     "metadata": {},
     "output_type": "execute_result"
    }
   ],
   "source": [
    "files['nchunks'].describe()"
   ]
  },
  {
   "cell_type": "markdown",
   "id": "controlling-culture",
   "metadata": {},
   "source": [
    "The language with only 343 chunks is Lakku (лакку)"
   ]
  },
  {
   "cell_type": "code",
   "execution_count": 20,
   "id": "diverse-market",
   "metadata": {},
   "outputs": [
    {
     "data": {
      "text/html": [
       "<div>\n",
       "<style scoped>\n",
       "    .dataframe tbody tr th:only-of-type {\n",
       "        vertical-align: middle;\n",
       "    }\n",
       "\n",
       "    .dataframe tbody tr th {\n",
       "        vertical-align: top;\n",
       "    }\n",
       "\n",
       "    .dataframe thead th {\n",
       "        text-align: right;\n",
       "    }\n",
       "</style>\n",
       "<table border=\"1\" class=\"dataframe\">\n",
       "  <thead>\n",
       "    <tr style=\"text-align: right;\">\n",
       "      <th></th>\n",
       "      <th>lang</th>\n",
       "      <th>fname</th>\n",
       "      <th>exfsize_MB</th>\n",
       "      <th>tf_totalsize_MB</th>\n",
       "      <th>tf_count</th>\n",
       "      <th>tf_avgsize_MB</th>\n",
       "      <th>fchunk_size_MB</th>\n",
       "      <th>nchunks</th>\n",
       "    </tr>\n",
       "    <tr>\n",
       "      <th>code</th>\n",
       "      <th></th>\n",
       "      <th></th>\n",
       "      <th></th>\n",
       "      <th></th>\n",
       "      <th></th>\n",
       "      <th></th>\n",
       "      <th></th>\n",
       "      <th></th>\n",
       "    </tr>\n",
       "  </thead>\n",
       "  <tbody>\n",
       "    <tr>\n",
       "      <th>lbe</th>\n",
       "      <td>лакку</td>\n",
       "      <td>lbe.txt</td>\n",
       "      <td>0.33415</td>\n",
       "      <td>0.312386</td>\n",
       "      <td>1</td>\n",
       "      <td>0.312386</td>\n",
       "      <td>0</td>\n",
       "      <td>343</td>\n",
       "    </tr>\n",
       "  </tbody>\n",
       "</table>\n",
       "</div>"
      ],
      "text/plain": [
       "       lang    fname  exfsize_MB  tf_totalsize_MB  tf_count  tf_avgsize_MB  \\\n",
       "code                                                                         \n",
       "lbe   лакку  lbe.txt     0.33415         0.312386         1       0.312386   \n",
       "\n",
       "      fchunk_size_MB  nchunks  \n",
       "code                           \n",
       "lbe                0      343  "
      ]
     },
     "execution_count": 20,
     "metadata": {},
     "output_type": "execute_result"
    }
   ],
   "source": [
    "files[files['nchunks']==343]"
   ]
  },
  {
   "cell_type": "markdown",
   "id": "collective-struggle",
   "metadata": {},
   "source": [
    "153 out of the 248 languages (so 62%) have a full 10000 chunks."
   ]
  },
  {
   "cell_type": "code",
   "execution_count": 29,
   "id": "received-quarter",
   "metadata": {},
   "outputs": [
    {
     "data": {
      "text/plain": [
       "1366"
      ]
     },
     "execution_count": 29,
     "metadata": {},
     "output_type": "execute_result"
    }
   ],
   "source": [
    "files['fchunk_size_MB'].sum()"
   ]
  },
  {
   "cell_type": "markdown",
   "id": "elementary-maine",
   "metadata": {},
   "source": [
    "These files take up 1366 megabytes or 1.4 gigabytes on my computer - much smaller than the extracted or texts subdirectories!"
   ]
  },
  {
   "cell_type": "markdown",
   "id": "thick-tribe",
   "metadata": {},
   "source": [
    "### Example for a language\n",
    "Here are the Turkish chunks"
   ]
  },
  {
   "cell_type": "code",
   "execution_count": 22,
   "id": "massive-title",
   "metadata": {},
   "outputs": [],
   "source": [
    "f = open(path+'chunked/tr.txt', 'r')\n",
    "chtr = f.readlines()\n",
    "f.close()"
   ]
  },
  {
   "cell_type": "markdown",
   "id": "hybrid-universal",
   "metadata": {},
   "source": [
    "Each line is a chunk. Turkish has 10000 chunks:"
   ]
  },
  {
   "cell_type": "code",
   "execution_count": 23,
   "id": "differential-surgeon",
   "metadata": {},
   "outputs": [
    {
     "data": {
      "text/plain": [
       "10000"
      ]
     },
     "execution_count": 23,
     "metadata": {},
     "output_type": "execute_result"
    }
   ],
   "source": [
    "len(chtr)"
   ]
  },
  {
   "cell_type": "markdown",
   "id": "presidential-running",
   "metadata": {},
   "source": [
    "Each line is 501 characters long (500 characters plus the newline character)"
   ]
  },
  {
   "cell_type": "code",
   "execution_count": 24,
   "id": "diagnostic-marketplace",
   "metadata": {},
   "outputs": [
    {
     "data": {
      "text/plain": [
       "501.0"
      ]
     },
     "execution_count": 24,
     "metadata": {},
     "output_type": "execute_result"
    }
   ],
   "source": [
    "sum([len(l) for l in chtr])/len(chtr) # average line length"
   ]
  },
  {
   "cell_type": "code",
   "execution_count": 25,
   "id": "restricted-technique",
   "metadata": {},
   "outputs": [
    {
     "data": {
      "text/plain": [
       "10000"
      ]
     },
     "execution_count": 25,
     "metadata": {},
     "output_type": "execute_result"
    }
   ],
   "source": [
    "sum([len(l)==501 for l in chtr]) # this is the number of lines in the file that have exactly\n",
    "# 501 characters. you see it's equal to the number of lines in the file"
   ]
  },
  {
   "cell_type": "markdown",
   "id": "blessed-nickel",
   "metadata": {},
   "source": [
    "These are the first five chunks:"
   ]
  },
  {
   "cell_type": "code",
   "execution_count": 26,
   "id": "dense-cooperative",
   "metadata": {},
   "outputs": [
    {
     "data": {
      "text/plain": [
       "['zı ile karşılaşır Uyku kapsülleri içindeki insanlar etrafa saçılmıştır Bunlardan birisinin rüyalarına giren kadın Julia Rusakova olduğunu görerek şaşırır Bu arada Tetin gönderdiği İHAlar uyku kapsüllerine ateş açar ve Jackin canı pahasına koruduğu kadın dışındaki insanlar ölür Jack kadını Tete haber vermeden kendi küçük kulelerine götürür Vica kadını içeri sokmaz istemez ama Jacke karşı koyamaz Kadın sadece adının Julia olduğunu söyler mekiğin kara kutusunu dinlemeden bir şey söylemeyeceğini söy\\n',\n",
       " 'k dönüşlü konu içeriğini bulabilirsiniz Udo Steinkenin Heinrich Böll Willy Brandt ve HansDietrichGenscher ile sıkı dostluk bağları vardı Onun edebiyattaki katkılarından dolayı hatırasına Steinke Institut Bonn şehrinde kuruldu Enstitüt Udo Steinkenin arşivlerini bünyesinde bulundurmaktadır Ceritler Ceritler soy kökünün Oğuzların Bozok koluna bağlı Beğdili Begtili boyu olduğu bildirilir Yerleştikleri yer olarak da Dulkadiroğlu Beyliğinin sınırları içi olduğu değişik kaynaklarda belirtilmektedir Du\\n',\n",
       " 'pan Gökhan Evliyaoğlu bu dallarda ortaokul yıllarından bu yana ödüller aldı Sanat çalışmalarının fikir ve çalışma hayatının yanı sıra lise döneminde başlayan yazarlık ve gazetecilik mesleğinin her dalında çalışan Evliyaoğlu bütün çalışma hayatı boyunca kültür ve sanat hareketlerinin içinde oldu Akciğer yetmezliği nedeniyle tedavi gören Evliyaoğlu Ağustos gecesi vefat etti Siyaset ve basın alanında önemli izler bırakan Evliyaoğlu için Ağustos tarihinde TBMMde bir tören düzenlendi Evliyaoğlunun ce\\n',\n",
       " ' temsil etmek üzere − y ÷ + mod Ekim günü Esin Eşkinat Esin Eşkinat d Ankara Türk çevirmen Orta öğrenimini TED Ankara Kolejinde tamamladı İstanbul Üniversitesi Edebiyat Fakültesi İngiliz Dili ve Edebiyatından mezun olan Esin Eşkinat İngilizceden şu kitapları Türkçeye kazandırdı ElKut Kut Irakın doğu kesiminde Dicle Nehri kıyısında Vasit ilinin merkezi kent a kadar tüm il bu isimle anılırken bu tarihten sonra Vasıt adını almıştır Bir su dağıtım kanalı olan Şattül Gerafın Dicleden ayrıldığı noktad\\n',\n",
       " 'ye ile Orta Doğu ve Kuzey Afrika arasındaki ticaret işlemlerinde uzmanlaşan ilk Türk bankasıdır Kuruluş amacı gelecek vadeden bu bölgede ticareti artırmak için taraflar arasında köprü görevi görmek ve ticari ilişkileri desteklemektir Aktiflerinin değeri milyar doları aşan Libya Merkez Bankasının sahibi olduğu The Libyan Foreign Bank AT BANKın en büyük ortağıdır Bununla birlikte onu Türk bankacılık sektörünün aktif büyüklük bakımından yaklaşık unu ellerinde bulunduran Türkiyenin en büyük iki bank\\n']"
      ]
     },
     "execution_count": 26,
     "metadata": {},
     "output_type": "execute_result"
    }
   ],
   "source": [
    "chtr[:5] "
   ]
  },
  {
   "cell_type": "markdown",
   "id": "flexible-median",
   "metadata": {},
   "source": [
    "---\n",
    "# Explanation of data gathering pipeline\n",
    "Now that the dataset is introduced, I'll explain how I gathered it. To assemble this full, final copy of the dataset, I ran my datagathering script on CRC over a period of days. The script is located in the datagather/crc directory of this repository.\n",
    "\n",
    "I'm not sure how long the script itself would take on its own now because as I ran it, it would crash for various reasons (eg, writing large strings causing memory errors or networking set up wrong) or my session would expire, so I would need to fix the issue and start it running again where it left off. Sometimes I also had up to six copies of the script running at a time over the weekend when CRC had a lot of open resources, each collecting languages starting with a different letter of the alphabet.\n",
    "## 1: Networking setup\n",
    "CRC doesn't have enough storage space for the full dataset, so I needed to periodically send data somewhere else and delete all of one language's files from CRC before moving onto the next language. I would send files to an old laptop I have for storage (see second progress report for more details). \n",
    "\n",
    "Here is an outline of the networking aspects involved in my data gathering/cleaning:\n",
    "\n",
    "Outside script\n",
    "\n",
    "1. Get an internet address (or technically, publically expose port 22) for the storage laptop by running `./ngrok tcp 22` in shell and leaving it running\n",
    "2. On my normal laptop, connect to Pitt's VPN (required to access CRC)\n",
    "2. ssh to crc.h2p.pitt.edu to access CRC\n",
    "3. Pass storage laptop's username, address and port to the script as command line arguments\n",
    "\n",
    "Inside script\n",
    "\n",
    "1. Prompt user for password, store it for future use in the runtime\n",
    "2. Establish a test sftp connection with storage laptop to verify password (if fails, prompt user again)\n",
    "3. After downloading a language's raw dump and extracting XML, send backup to device by opening a new sftp connection, transferring file, then closing connection (forms the extracted subdirectory)\n",
    "4. Transfer another copy of the data after passing through the cleaning steps (forms the texts subdirectory)\n",
    "5. Transfer another copy of the data after the chunking step (forms the chunked subdirectory)\n",
    "\n",
    "What follows is an example that creates a very small exammple helloworld.txt file, then transfers it to another computer. I didn't bother with the VPN or ngrok for this simple example."
   ]
  },
  {
   "cell_type": "code",
   "execution_count": 30,
   "id": "incorporated-survivor",
   "metadata": {},
   "outputs": [],
   "source": [
    "import paramiko\n",
    "import getpass"
   ]
  },
  {
   "cell_type": "code",
   "execution_count": 31,
   "id": "vocal-sense",
   "metadata": {},
   "outputs": [],
   "source": [
    "# create the test file\n",
    "fname = 'helloworld.txt'\n",
    "f = open(fname, 'w')\n",
    "f.writelines('hello world\\n')\n",
    "f.close()"
   ]
  },
  {
   "cell_type": "code",
   "execution_count": 32,
   "id": "stylish-terrorism",
   "metadata": {},
   "outputs": [],
   "source": [
    "username = 'snc'\n",
    "port = 22\n",
    "address = '10.0.0.25' # this is the computer's PRIVATE IP address: the address your internet\n",
    "# router uses to distinguish this computer from any other device on your own network so \n",
    "# you don't recieve all the webpages requested by your brother and grandma or vice versa\n",
    "# you can entering the IP address for your own computer here and use your laptop as the source \n",
    "# and the destination if you want to try it out. Then, it would be a bit like emailing or calling\n",
    "# yourself in that the email is sent to the sender or the call is sent to the caller.\n",
    "\n",
    "# to enable this sftp connection for a mac, go to System Preferences > Sharing > \n",
    "# Enable \"Remote Login\". There, it will display the IP address to use. Your source/local\n",
    "# and destination/remote computers must be on the same wifi network unless you learn to use\n",
    "# ngrok or something similar. Don't know how to do it on other operating systems \n",
    "# but there's probably tutorials on line if it isn't enabled by defailt."
   ]
  },
  {
   "cell_type": "code",
   "execution_count": 33,
   "id": "affecting-producer",
   "metadata": {},
   "outputs": [
    {
     "name": "stdout",
     "output_type": "stream",
     "text": [
      "sftp password: ········\n"
     ]
    }
   ],
   "source": [
    "pwd = getpass.getpass(prompt='sftp password: ') # password for your username \n",
    "# on destination/remote computer"
   ]
  },
  {
   "cell_type": "code",
   "execution_count": 34,
   "id": "sophisticated-scholar",
   "metadata": {},
   "outputs": [
    {
     "name": "stdout",
     "output_type": "stream",
     "text": [
      "\ttransferred helloworld.txt\n"
     ]
    }
   ],
   "source": [
    "# ESTABLISH CONNECTION\n",
    "client = paramiko.client.SSHClient()\n",
    "client.load_system_host_keys() # this loads any local ssh keys\n",
    "client.set_missing_host_key_policy(paramiko.AutoAddPolicy())\n",
    "client.connect(address, port=port, username=username, password=pwd)\n",
    "sftp = client.open_sftp() # type SFTPClient\n",
    "\n",
    "# TRANSFER THE FILE\n",
    "sftp.put('./'+fname, fname) #src, dest path/filename\n",
    "print('transferred', fname)\n",
    "\n",
    "# CLOSE THE CONNECTION\n",
    "client.close()"
   ]
  },
  {
   "cell_type": "markdown",
   "id": "systematic-laptop",
   "metadata": {},
   "source": [
    "If you run this yourself, look in your home (~) directory for the transferred file at the destination/remote computer."
   ]
  },
  {
   "cell_type": "markdown",
   "id": "recreational-register",
   "metadata": {},
   "source": [
    "## 2: Find the data files to download\n",
    "The Wikipedia API offers a dictionary of all the languages of a Wikipedia edition that exists or used to exist. It provides both the language's abbreviation/code and name. So, my code iterates through this list:"
   ]
  },
  {
   "cell_type": "code",
   "execution_count": 35,
   "id": "powerful-brunswick",
   "metadata": {},
   "outputs": [
    {
     "data": {
      "text/plain": [
       "{'aa': 'Qafár af',\n",
       " 'ab': 'Аҧсшәа',\n",
       " 'abs': 'bahasa ambon',\n",
       " 'ace': 'Acèh',\n",
       " 'ady': 'адыгабзэ',\n",
       " 'ady-cyrl': 'адыгабзэ',\n",
       " 'aeb': 'تونسي/Tûnsî',\n",
       " 'aeb-arab': 'تونسي',\n",
       " 'aeb-latn': 'Tûnsî',\n",
       " 'af': 'Afrikaans',\n",
       " 'ak': 'Akan',\n",
       " 'aln': 'Gegë',\n",
       " 'als': 'Alemannisch',\n",
       " 'alt': 'алтай тил',\n",
       " 'am': 'አማርኛ',\n",
       " 'ami': 'Pangcah',\n",
       " 'an': 'aragonés',\n",
       " 'ang': 'Ænglisc',\n",
       " 'anp': 'अङ्गिका',\n",
       " 'ar': 'العربية',\n",
       " 'arc': 'ܐܪܡܝܐ',\n",
       " 'arn': 'mapudungun',\n",
       " 'arq': 'جازايرية',\n",
       " 'ary': 'الدارجة',\n",
       " 'arz': 'مصرى',\n",
       " 'as': 'অসমীয়া',\n",
       " 'ase': 'American sign language',\n",
       " 'ast': 'asturianu',\n",
       " 'atj': 'Atikamekw',\n",
       " 'av': 'авар',\n",
       " 'avk': 'Kotava',\n",
       " 'awa': 'अवधी',\n",
       " 'ay': 'Aymar aru',\n",
       " 'az': 'azərbaycanca',\n",
       " 'azb': 'تۆرکجه',\n",
       " 'ba': 'башҡортса',\n",
       " 'ban': 'Basa Bali',\n",
       " 'ban-bali': 'ᬩᬲᬩᬮᬶ',\n",
       " 'bar': 'Boarisch',\n",
       " 'bat-smg': 'žemaitėška',\n",
       " 'bbc': 'Batak Toba',\n",
       " 'bbc-latn': 'Batak Toba',\n",
       " 'bcc': 'جهلسری بلوچی',\n",
       " 'bcl': 'Bikol Central',\n",
       " 'be': 'беларуская',\n",
       " 'be-tarask': 'беларуская (тарашкевіца)\\u200e',\n",
       " 'be-x-old': 'беларуская (тарашкевіца)\\u200e',\n",
       " 'bg': 'български',\n",
       " 'bgn': 'روچ کپتین بلوچی',\n",
       " 'bh': 'भोजपुरी',\n",
       " 'bho': 'भोजपुरी',\n",
       " 'bi': 'Bislama',\n",
       " 'bjn': 'Banjar',\n",
       " 'bm': 'bamanankan',\n",
       " 'bn': 'বাংলা',\n",
       " 'bo': 'བོད་ཡིག',\n",
       " 'bpy': 'বিষ্ণুপ্রিয়া মণিপুরী',\n",
       " 'bqi': 'بختیاری',\n",
       " 'br': 'brezhoneg',\n",
       " 'brh': 'Bráhuí',\n",
       " 'bs': 'bosanski',\n",
       " 'btm': 'Batak Mandailing',\n",
       " 'bto': 'Iriga Bicolano',\n",
       " 'bug': 'ᨅᨔ ᨕᨘᨁᨗ',\n",
       " 'bxr': 'буряад',\n",
       " 'ca': 'català',\n",
       " 'cbk-zam': 'Chavacano de Zamboanga',\n",
       " 'cdo': 'Mìng-dĕ̤ng-ngṳ̄',\n",
       " 'ce': 'нохчийн',\n",
       " 'ceb': 'Cebuano',\n",
       " 'ch': 'Chamoru',\n",
       " 'cho': 'Choctaw',\n",
       " 'chr': 'ᏣᎳᎩ',\n",
       " 'chy': 'Tsetsêhestâhese',\n",
       " 'ckb': 'کوردی',\n",
       " 'co': 'corsu',\n",
       " 'cps': 'Capiceño',\n",
       " 'cr': 'Nēhiyawēwin / ᓀᐦᐃᔭᐍᐏᐣ',\n",
       " 'crh': 'qırımtatarca',\n",
       " 'crh-cyrl': 'къырымтатарджа (Кирилл)\\u200e',\n",
       " 'crh-latn': 'qırımtatarca (Latin)\\u200e',\n",
       " 'cs': 'čeština',\n",
       " 'csb': 'kaszëbsczi',\n",
       " 'cu': 'словѣньскъ / ⰔⰎⰑⰂⰡⰐⰠⰔⰍⰟ',\n",
       " 'cv': 'Чӑвашла',\n",
       " 'cy': 'Cymraeg',\n",
       " 'da': 'dansk',\n",
       " 'de': 'Deutsch',\n",
       " 'de-at': 'Österreichisches Deutsch',\n",
       " 'de-ch': 'Schweizer Hochdeutsch',\n",
       " 'de-formal': 'Deutsch (Sie-Form)\\u200e',\n",
       " 'din': 'Thuɔŋjäŋ',\n",
       " 'diq': 'Zazaki',\n",
       " 'dsb': 'dolnoserbski',\n",
       " 'dtp': 'Dusun Bundu-liwan',\n",
       " 'dty': 'डोटेली',\n",
       " 'dv': 'ދިވެހިބަސް',\n",
       " 'dz': 'ཇོང་ཁ',\n",
       " 'ee': 'eʋegbe',\n",
       " 'egl': 'Emiliàn',\n",
       " 'el': 'Ελληνικά',\n",
       " 'eml': 'emiliàn e rumagnòl',\n",
       " 'en': 'English',\n",
       " 'en-ca': 'Canadian English',\n",
       " 'en-gb': 'British English',\n",
       " 'eo': 'Esperanto',\n",
       " 'es': 'español',\n",
       " 'es-419': 'español de América Latina',\n",
       " 'es-formal': 'español (formal)\\u200e',\n",
       " 'et': 'eesti',\n",
       " 'eu': 'euskara',\n",
       " 'ext': 'estremeñu',\n",
       " 'fa': 'فارسی',\n",
       " 'ff': 'Fulfulde',\n",
       " 'fi': 'suomi',\n",
       " 'fit': 'meänkieli',\n",
       " 'fiu-vro': 'võro',\n",
       " 'fj': 'Na Vosa Vakaviti',\n",
       " 'fo': 'føroyskt',\n",
       " 'fr': 'français',\n",
       " 'frc': 'français cadien',\n",
       " 'frp': 'arpetan',\n",
       " 'frr': 'Nordfriisk',\n",
       " 'fur': 'furlan',\n",
       " 'fy': 'Frysk',\n",
       " 'ga': 'Gaeilge',\n",
       " 'gag': 'Gagauz',\n",
       " 'gan': '贛語',\n",
       " 'gan-hans': '赣语（简体）\\u200e',\n",
       " 'gan-hant': '贛語（繁體）\\u200e',\n",
       " 'gcr': 'kriyòl gwiyannen',\n",
       " 'gd': 'Gàidhlig',\n",
       " 'gl': 'galego',\n",
       " 'glk': 'گیلکی',\n",
       " 'gn': \"Avañe'ẽ\",\n",
       " 'gom': 'गोंयची कोंकणी / Gõychi Konknni',\n",
       " 'gom-deva': 'गोंयची कोंकणी',\n",
       " 'gom-latn': 'Gõychi Konknni',\n",
       " 'gor': 'Bahasa Hulontalo',\n",
       " 'got': '𐌲𐌿𐍄𐌹𐍃𐌺',\n",
       " 'grc': 'Ἀρχαία ἑλληνικὴ',\n",
       " 'gsw': 'Alemannisch',\n",
       " 'gu': 'ગુજરાતી',\n",
       " 'guc': 'wayuunaiki',\n",
       " 'gv': 'Gaelg',\n",
       " 'ha': 'Hausa',\n",
       " 'hak': '客家語/Hak-kâ-ngî',\n",
       " 'haw': 'Hawaiʻi',\n",
       " 'he': 'עברית',\n",
       " 'hi': 'हिन्दी',\n",
       " 'hif': 'Fiji Hindi',\n",
       " 'hif-latn': 'Fiji Hindi',\n",
       " 'hil': 'Ilonggo',\n",
       " 'ho': 'Hiri Motu',\n",
       " 'hr': 'hrvatski',\n",
       " 'hrx': 'Hunsrik',\n",
       " 'hsb': 'hornjoserbsce',\n",
       " 'ht': 'Kreyòl ayisyen',\n",
       " 'hu': 'magyar',\n",
       " 'hu-formal': 'magyar (formal)\\u200e',\n",
       " 'hy': 'հայերեն',\n",
       " 'hyw': 'Արեւմտահայերէն',\n",
       " 'hz': 'Otsiherero',\n",
       " 'ia': 'interlingua',\n",
       " 'id': 'Bahasa Indonesia',\n",
       " 'ie': 'Interlingue',\n",
       " 'ig': 'Igbo',\n",
       " 'ii': 'ꆇꉙ',\n",
       " 'ik': 'Iñupiak',\n",
       " 'ike-cans': 'ᐃᓄᒃᑎᑐᑦ',\n",
       " 'ike-latn': 'inuktitut',\n",
       " 'ilo': 'Ilokano',\n",
       " 'inh': 'ГӀалгӀай',\n",
       " 'io': 'Ido',\n",
       " 'is': 'íslenska',\n",
       " 'it': 'italiano',\n",
       " 'iu': 'ᐃᓄᒃᑎᑐᑦ/inuktitut',\n",
       " 'ja': '日本語',\n",
       " 'jam': 'Patois',\n",
       " 'jbo': 'la .lojban.',\n",
       " 'jut': 'jysk',\n",
       " 'jv': 'Jawa',\n",
       " 'ka': 'ქართული',\n",
       " 'kaa': 'Qaraqalpaqsha',\n",
       " 'kab': 'Taqbaylit',\n",
       " 'kbd': 'Адыгэбзэ',\n",
       " 'kbd-cyrl': 'Адыгэбзэ',\n",
       " 'kbp': 'Kabɩyɛ',\n",
       " 'kcg': 'Tyap',\n",
       " 'kg': 'Kongo',\n",
       " 'khw': 'کھوار',\n",
       " 'ki': 'Gĩkũyũ',\n",
       " 'kiu': 'Kırmancki',\n",
       " 'kj': 'Kwanyama',\n",
       " 'kjp': 'ဖၠုံလိက်',\n",
       " 'kk': 'қазақша',\n",
       " 'kk-arab': 'قازاقشا (تٴوتە)\\u200f',\n",
       " 'kk-cn': 'قازاقشا (جۇنگو)\\u200f',\n",
       " 'kk-cyrl': 'қазақша (кирил)\\u200e',\n",
       " 'kk-kz': 'қазақша (Қазақстан)\\u200e',\n",
       " 'kk-latn': 'qazaqşa (latın)\\u200e',\n",
       " 'kk-tr': 'qazaqşa (Türkïya)\\u200e',\n",
       " 'kl': 'kalaallisut',\n",
       " 'km': 'ភាសាខ្មែរ',\n",
       " 'kn': 'ಕನ್ನಡ',\n",
       " 'ko': '한국어',\n",
       " 'ko-kp': '조선말',\n",
       " 'koi': 'перем коми',\n",
       " 'kr': 'Kanuri',\n",
       " 'krc': 'къарачай-малкъар',\n",
       " 'kri': 'Krio',\n",
       " 'krj': 'Kinaray-a',\n",
       " 'krl': 'karjal',\n",
       " 'ks': 'कॉशुर / کٲشُر',\n",
       " 'ks-arab': 'کٲشُر',\n",
       " 'ks-deva': 'कॉशुर',\n",
       " 'ksh': 'Ripoarisch',\n",
       " 'ku': 'kurdî',\n",
       " 'ku-arab': 'كوردي (عەرەبی)\\u200f',\n",
       " 'ku-latn': 'kurdî (latînî)\\u200e',\n",
       " 'kum': 'къумукъ',\n",
       " 'kv': 'коми',\n",
       " 'kw': 'kernowek',\n",
       " 'ky': 'Кыргызча',\n",
       " 'la': 'Latina',\n",
       " 'lad': 'Ladino',\n",
       " 'lb': 'Lëtzebuergesch',\n",
       " 'lbe': 'лакку',\n",
       " 'lez': 'лезги',\n",
       " 'lfn': 'Lingua Franca Nova',\n",
       " 'lg': 'Luganda',\n",
       " 'li': 'Limburgs',\n",
       " 'lij': 'Ligure',\n",
       " 'liv': 'Līvõ kēļ',\n",
       " 'lki': 'لەکی',\n",
       " 'lld': 'Ladin',\n",
       " 'lmo': 'lumbaart',\n",
       " 'ln': 'lingála',\n",
       " 'lo': 'ລາວ',\n",
       " 'loz': 'Silozi',\n",
       " 'lrc': 'لۊری شومالی',\n",
       " 'lt': 'lietuvių',\n",
       " 'ltg': 'latgaļu',\n",
       " 'lus': 'Mizo ţawng',\n",
       " 'luz': 'لئری دوٙمینی',\n",
       " 'lv': 'latviešu',\n",
       " 'lzh': '文言',\n",
       " 'lzz': 'Lazuri',\n",
       " 'mad': 'Madhurâ',\n",
       " 'mai': 'मैथिली',\n",
       " 'map-bms': 'Basa Banyumasan',\n",
       " 'mdf': 'мокшень',\n",
       " 'mg': 'Malagasy',\n",
       " 'mh': 'Ebon',\n",
       " 'mhr': 'олык марий',\n",
       " 'mi': 'Māori',\n",
       " 'min': 'Minangkabau',\n",
       " 'mk': 'македонски',\n",
       " 'ml': 'മലയാളം',\n",
       " 'mn': 'монгол',\n",
       " 'mni': 'ꯃꯤꯇꯩ ꯂꯣꯟ',\n",
       " 'mnw': 'ဘာသာ မန်',\n",
       " 'mo': 'молдовеняскэ',\n",
       " 'mr': 'मराठी',\n",
       " 'mrh': 'Mara',\n",
       " 'mrj': 'кырык мары',\n",
       " 'ms': 'Bahasa Melayu',\n",
       " 'mt': 'Malti',\n",
       " 'mus': 'Mvskoke',\n",
       " 'mwl': 'Mirandés',\n",
       " 'my': 'မြန်မာဘာသာ',\n",
       " 'myv': 'эрзянь',\n",
       " 'mzn': 'مازِرونی',\n",
       " 'na': 'Dorerin Naoero',\n",
       " 'nah': 'Nāhuatl',\n",
       " 'nan': 'Bân-lâm-gú',\n",
       " 'nap': 'Napulitano',\n",
       " 'nb': 'norsk bokmål',\n",
       " 'nds': 'Plattdüütsch',\n",
       " 'nds-nl': 'Nedersaksies',\n",
       " 'ne': 'नेपाली',\n",
       " 'new': 'नेपाल भाषा',\n",
       " 'ng': 'Oshiwambo',\n",
       " 'nia': 'Li Niha',\n",
       " 'niu': 'Niuē',\n",
       " 'nl': 'Nederlands',\n",
       " 'nl-informal': 'Nederlands (informeel)\\u200e',\n",
       " 'nn': 'norsk nynorsk',\n",
       " 'no': 'norsk',\n",
       " 'nov': 'Novial',\n",
       " 'nqo': 'ߒߞߏ',\n",
       " 'nrm': 'Nouormand',\n",
       " 'nso': 'Sesotho sa Leboa',\n",
       " 'nv': 'Diné bizaad',\n",
       " 'ny': 'Chi-Chewa',\n",
       " 'nys': 'Nyunga',\n",
       " 'oc': 'occitan',\n",
       " 'olo': 'livvinkarjala',\n",
       " 'om': 'Oromoo',\n",
       " 'or': 'ଓଡ଼ିଆ',\n",
       " 'os': 'Ирон',\n",
       " 'pa': 'ਪੰਜਾਬੀ',\n",
       " 'pag': 'Pangasinan',\n",
       " 'pam': 'Kapampangan',\n",
       " 'pap': 'Papiamentu',\n",
       " 'pcd': 'Picard',\n",
       " 'pdc': 'Deitsch',\n",
       " 'pdt': 'Plautdietsch',\n",
       " 'pfl': 'Pälzisch',\n",
       " 'pi': 'पालि',\n",
       " 'pih': 'Norfuk / Pitkern',\n",
       " 'pl': 'polski',\n",
       " 'pms': 'Piemontèis',\n",
       " 'pnb': 'پنجابی',\n",
       " 'pnt': 'Ποντιακά',\n",
       " 'prg': 'Prūsiskan',\n",
       " 'ps': 'پښتو',\n",
       " 'pt': 'português',\n",
       " 'pt-br': 'português do Brasil',\n",
       " 'qu': 'Runa Simi',\n",
       " 'qug': 'Runa shimi',\n",
       " 'rgn': 'Rumagnôl',\n",
       " 'rif': 'Tarifit',\n",
       " 'rm': 'rumantsch',\n",
       " 'rmy': 'romani čhib',\n",
       " 'rn': 'Kirundi',\n",
       " 'ro': 'română',\n",
       " 'roa-rup': 'armãneashti',\n",
       " 'roa-tara': 'tarandíne',\n",
       " 'ru': 'русский',\n",
       " 'rue': 'русиньскый',\n",
       " 'rup': 'armãneashti',\n",
       " 'ruq': 'Vlăheşte',\n",
       " 'ruq-cyrl': 'Влахесте',\n",
       " 'ruq-latn': 'Vlăheşte',\n",
       " 'rw': 'Kinyarwanda',\n",
       " 'sa': 'संस्कृतम्',\n",
       " 'sah': 'саха тыла',\n",
       " 'sat': 'ᱥᱟᱱᱛᱟᱲᱤ',\n",
       " 'sc': 'sardu',\n",
       " 'scn': 'sicilianu',\n",
       " 'sco': 'Scots',\n",
       " 'sd': 'سنڌي',\n",
       " 'sdc': 'Sassaresu',\n",
       " 'sdh': 'کوردی خوارگ',\n",
       " 'se': 'davvisámegiella',\n",
       " 'sei': 'Cmique Itom',\n",
       " 'ses': 'Koyraboro Senni',\n",
       " 'sg': 'Sängö',\n",
       " 'sgs': 'žemaitėška',\n",
       " 'sh': 'srpskohrvatski / српскохрватски',\n",
       " 'shi': 'Taclḥit',\n",
       " 'shi-latn': 'Taclḥit',\n",
       " 'shi-tfng': 'ⵜⴰⵛⵍⵃⵉⵜ',\n",
       " 'shn': 'ၽႃႇသႃႇတႆး ',\n",
       " 'shy': 'tacawit',\n",
       " 'shy-latn': 'tacawit',\n",
       " 'si': 'සිංහල',\n",
       " 'simple': 'Simple English',\n",
       " 'sk': 'slovenčina',\n",
       " 'skr': 'سرائیکی',\n",
       " 'skr-arab': 'سرائیکی',\n",
       " 'sl': 'slovenščina',\n",
       " 'sli': 'Schläsch',\n",
       " 'sm': 'Gagana Samoa',\n",
       " 'sma': 'åarjelsaemien',\n",
       " 'smn': 'anarâškielâ',\n",
       " 'sn': 'chiShona',\n",
       " 'so': 'Soomaaliga',\n",
       " 'sq': 'shqip',\n",
       " 'sr': 'српски / srpski',\n",
       " 'sr-ec': 'српски (ћирилица)\\u200e',\n",
       " 'sr-el': 'srpski (latinica)\\u200e',\n",
       " 'srn': 'Sranantongo',\n",
       " 'ss': 'SiSwati',\n",
       " 'st': 'Sesotho',\n",
       " 'stq': 'Seeltersk',\n",
       " 'sty': 'себертатар',\n",
       " 'su': 'Sunda',\n",
       " 'sv': 'svenska',\n",
       " 'sw': 'Kiswahili',\n",
       " 'szl': 'ślůnski',\n",
       " 'szy': 'Sakizaya',\n",
       " 'ta': 'தமிழ்',\n",
       " 'tay': 'Tayal',\n",
       " 'tcy': 'ತುಳು',\n",
       " 'te': 'తెలుగు',\n",
       " 'tet': 'tetun',\n",
       " 'tg': 'тоҷикӣ',\n",
       " 'tg-cyrl': 'тоҷикӣ',\n",
       " 'tg-latn': 'tojikī',\n",
       " 'th': 'ไทย',\n",
       " 'ti': 'ትግርኛ',\n",
       " 'tk': 'Türkmençe',\n",
       " 'tl': 'Tagalog',\n",
       " 'tly': 'tolışi',\n",
       " 'tly-cyrl': 'толыши',\n",
       " 'tn': 'Setswana',\n",
       " 'to': 'lea faka-Tonga',\n",
       " 'tpi': 'Tok Pisin',\n",
       " 'tr': 'Türkçe',\n",
       " 'tru': 'Ṫuroyo',\n",
       " 'trv': 'Seediq',\n",
       " 'ts': 'Xitsonga',\n",
       " 'tt': 'татарча/tatarça',\n",
       " 'tt-cyrl': 'татарча',\n",
       " 'tt-latn': 'tatarça',\n",
       " 'tum': 'chiTumbuka',\n",
       " 'tw': 'Twi',\n",
       " 'ty': 'reo tahiti',\n",
       " 'tyv': 'тыва дыл',\n",
       " 'tzm': 'ⵜⴰⵎⴰⵣⵉⵖⵜ',\n",
       " 'udm': 'удмурт',\n",
       " 'ug': 'ئۇيغۇرچە / Uyghurche',\n",
       " 'ug-arab': 'ئۇيغۇرچە',\n",
       " 'ug-latn': 'Uyghurche',\n",
       " 'uk': 'українська',\n",
       " 'ur': 'اردو',\n",
       " 'uz': 'oʻzbekcha/ўзбекча',\n",
       " 'uz-cyrl': 'ўзбекча',\n",
       " 'uz-latn': 'oʻzbekcha',\n",
       " 've': 'Tshivenda',\n",
       " 'vec': 'vèneto',\n",
       " 'vep': 'vepsän kel’',\n",
       " 'vi': 'Tiếng Việt',\n",
       " 'vls': 'West-Vlams',\n",
       " 'vmf': 'Mainfränkisch',\n",
       " 'vo': 'Volapük',\n",
       " 'vot': 'Vaďďa',\n",
       " 'vro': 'võro',\n",
       " 'wa': 'walon',\n",
       " 'war': 'Winaray',\n",
       " 'wo': 'Wolof',\n",
       " 'wuu': '吴语',\n",
       " 'xal': 'хальмг',\n",
       " 'xh': 'isiXhosa',\n",
       " 'xmf': 'მარგალური',\n",
       " 'xsy': 'saisiyat',\n",
       " 'yi': 'ייִדיש',\n",
       " 'yo': 'Yorùbá',\n",
       " 'yue': '粵語',\n",
       " 'za': 'Vahcuengh',\n",
       " 'zea': 'Zeêuws',\n",
       " 'zgh': 'ⵜⴰⵎⴰⵣⵉⵖⵜ ⵜⴰⵏⴰⵡⴰⵢⵜ',\n",
       " 'zh': '中文',\n",
       " 'zh-classical': '文言',\n",
       " 'zh-cn': '中文（中国大陆）\\u200e',\n",
       " 'zh-hans': '中文（简体）\\u200e',\n",
       " 'zh-hant': '中文（繁體）\\u200e',\n",
       " 'zh-hk': '中文（香港）\\u200e',\n",
       " 'zh-min-nan': 'Bân-lâm-gú',\n",
       " 'zh-mo': '中文（澳門）\\u200e',\n",
       " 'zh-my': '中文（马来西亚）\\u200e',\n",
       " 'zh-sg': '中文（新加坡）\\u200e',\n",
       " 'zh-tw': '中文（台灣）\\u200e',\n",
       " 'zh-yue': '粵語',\n",
       " 'zu': 'isiZulu'}"
      ]
     },
     "execution_count": 35,
     "metadata": {},
     "output_type": "execute_result"
    }
   ],
   "source": [
    "langsdict = wikipedia.languages()\n",
    "langsdict"
   ]
  },
  {
   "cell_type": "markdown",
   "id": "married-medline",
   "metadata": {},
   "source": [
    "When I have the language's abbreviation `abv`, I can construct the download link for the wikipedia dump as: \n",
    "\n",
    "'*https://dumps.wikimedia.org/*' + `abv` + '*wiki/latest/*' + `abv` + '*wiki-latest-pages-articles.xml.bz2*'\n",
    "\n",
    "Once I download it, I store it on my computer. Then, I check to see if the file is already present locally before re-downloading. This way I don't need to keep stressing Wikipedia's server each time I run my program. Some wikipedias are closed/no longer maintained and throw an error if I try to download, so I just skip those languages. Also, I deem languages as too small if their raw dump file size is less than 1MB, I'll discuss more why later."
   ]
  },
  {
   "cell_type": "markdown",
   "id": "dressed-kingdom",
   "metadata": {},
   "source": [
    "## 3: Download raw wikipedia XML files\n",
    "The script downloads these automatically, they come in a compressed .xml.bz format."
   ]
  },
  {
   "cell_type": "code",
   "execution_count": 36,
   "id": "hybrid-differential",
   "metadata": {},
   "outputs": [],
   "source": [
    "dumpspath = './datagather/dumps/' # where I'm storing the raw files\n",
    "dumpsraw = dict()\n",
    "for f in os.listdir(dumpspath):\n",
    "    if f.startswith('.'): continue\n",
    "    lang = f[:f.index('.')-4] # isolate just name of the language\n",
    "    dumpsraw[lang] = [langsdict[lang], os.path.getsize(dumpspath + f)]"
   ]
  },
  {
   "cell_type": "markdown",
   "id": "found-marking",
   "metadata": {},
   "source": [
    "Dataframe of the languages I've gotten - 248 languages:"
   ]
  },
  {
   "cell_type": "code",
   "execution_count": 37,
   "id": "guided-concern",
   "metadata": {},
   "outputs": [
    {
     "name": "stdout",
     "output_type": "stream",
     "text": [
      "(248, 2)\n"
     ]
    },
    {
     "data": {
      "text/html": [
       "<div>\n",
       "<style scoped>\n",
       "    .dataframe tbody tr th:only-of-type {\n",
       "        vertical-align: middle;\n",
       "    }\n",
       "\n",
       "    .dataframe tbody tr th {\n",
       "        vertical-align: top;\n",
       "    }\n",
       "\n",
       "    .dataframe thead th {\n",
       "        text-align: right;\n",
       "    }\n",
       "</style>\n",
       "<table border=\"1\" class=\"dataframe\">\n",
       "  <thead>\n",
       "    <tr style=\"text-align: right;\">\n",
       "      <th></th>\n",
       "      <th>name</th>\n",
       "      <th>fsize</th>\n",
       "    </tr>\n",
       "  </thead>\n",
       "  <tbody>\n",
       "    <tr>\n",
       "      <th>ht</th>\n",
       "      <td>Kreyòl ayisyen</td>\n",
       "      <td>13973117</td>\n",
       "    </tr>\n",
       "    <tr>\n",
       "      <th>li</th>\n",
       "      <td>Limburgs</td>\n",
       "      <td>14315808</td>\n",
       "    </tr>\n",
       "    <tr>\n",
       "      <th>ig</th>\n",
       "      <td>Igbo</td>\n",
       "      <td>2109360</td>\n",
       "    </tr>\n",
       "    <tr>\n",
       "      <th>tet</th>\n",
       "      <td>tetun</td>\n",
       "      <td>1222946</td>\n",
       "    </tr>\n",
       "    <tr>\n",
       "      <th>wuu</th>\n",
       "      <td>吴语</td>\n",
       "      <td>14397542</td>\n",
       "    </tr>\n",
       "  </tbody>\n",
       "</table>\n",
       "</div>"
      ],
      "text/plain": [
       "               name     fsize\n",
       "ht   Kreyòl ayisyen  13973117\n",
       "li         Limburgs  14315808\n",
       "ig             Igbo   2109360\n",
       "tet           tetun   1222946\n",
       "wuu              吴语  14397542"
      ]
     },
     "execution_count": 37,
     "metadata": {},
     "output_type": "execute_result"
    }
   ],
   "source": [
    "dumps = pd.DataFrame.from_dict(dumpsraw, columns=['name', 'fsize'], orient='index')\n",
    "print(dumps.shape)\n",
    "dumps.head()"
   ]
  },
  {
   "cell_type": "markdown",
   "id": "finite-secretary",
   "metadata": {},
   "source": [
    "This is the number of bytes for these raw dump files alone, which is about 76 gigabytes:"
   ]
  },
  {
   "cell_type": "code",
   "execution_count": 38,
   "id": "brown-crest",
   "metadata": {},
   "outputs": [
    {
     "data": {
      "text/plain": [
       "76499174416"
      ]
     },
     "execution_count": 38,
     "metadata": {},
     "output_type": "execute_result"
    }
   ],
   "source": [
    "dumps['fsize'].sum() "
   ]
  },
  {
   "cell_type": "markdown",
   "id": "major-smooth",
   "metadata": {},
   "source": [
    "These are the languages I skipped for either of the reasons I mentioned:"
   ]
  },
  {
   "cell_type": "code",
   "execution_count": 39,
   "id": "hidden-authentication",
   "metadata": {},
   "outputs": [
    {
     "name": "stdout",
     "output_type": "stream",
     "text": [
      "209 languages excluded:\n",
      " Qafár af, bahasa ambon, адыгабзэ, адыгабзэ, تونسي/Tûnsî, تونسي, Tûnsî, Akan, Gegë, алтай тил, Pangcah, अङ्गिका, ܐܪܡܝܐ, mapudungun, جازايرية, American sign language, Atikamekw, ᬩᬲᬩᬮᬶ, žemaitėška, Batak Toba, Batak Toba, جهلسری بلوچی, беларуская (тарашкевіца)‎, беларуская (тарашкевіца)‎, روچ کپتین بلوچی, भोजपुरी, Bislama, bamanankan, بختیاری, Bráhuí, Batak Mandailing, Iriga Bicolano, Chavacano de Zamboanga, Chamoru, Choctaw, ᏣᎳᎩ, Tsetsêhestâhese, Capiceño, Nēhiyawēwin / ᓀᐦᐃᔭᐍᐏᐣ, къырымтатарджа (Кирилл)‎, qırımtatarca (Latin)‎, словѣньскъ / ⰔⰎⰑⰂⰡⰐⰠⰔⰍⰟ, Österreichisches Deutsch, Schweizer Hochdeutsch, Deutsch (Sie-Form)‎, Thuɔŋjäŋ, Dusun Bundu-liwan, ཇོང་ཁ, eʋegbe, Emiliàn, Canadian English, British English, español de América Latina, español (formal)‎, Fulfulde, meänkieli, võro, Na Vosa Vakaviti, français cadien, 赣语（简体）‎, 贛語（繁體）‎, kriyòl gwiyannen, गोंयची कोंकणी, Gõychi Konknni, 𐌲𐌿𐍄𐌹𐍃𐌺, Ἀρχαία ἑλληνικὴ, Alemannisch, wayuunaiki, Hawaiʻi, Fiji Hindi, Ilonggo, Hiri Motu, Hunsrik, magyar (formal)‎, Otsiherero, ꆇꉙ, Iñupiak, ᐃᓄᒃᑎᑐᑦ, inuktitut, ᐃᓄᒃᑎᑐᑦ/inuktitut, Patois, jysk, Адыгэбзэ, Tyap, Kongo, کھوار, Gĩkũyũ, Kırmancki, Kwanyama, ဖၠုံလိက်, قازاقشا (تٴوتە)‏, قازاقشا (جۇنگو)‏, қазақша (кирил)‎, қазақша (Қазақстан)‎, qazaqşa (latın)‎, qazaqşa (Türkïya)‎, kalaallisut, 조선말, Kanuri, Krio, Kinaray-a, karjal, कॉशुर / کٲشُر, کٲشُر, कॉशुर, كوردي (عەرەبی)‏, kurdî (latînî)‎, къумукъ, Līvõ kēļ, لەکی, Ladin, Silozi, لۊری شومالی, latgaļu, Mizo ţawng, لئری دوٙمینی, 文言, Lazuri, Madhurâ, Basa Banyumasan, Ebon, молдовеняскэ, Mara, Mvskoke, Dorerin Naoero, Bân-lâm-gú, norsk bokmål, Nedersaksies, Oshiwambo, Li Niha, Niuē, Nederlands (informeel)‎, Nyunga, Plautdietsch, पालि, Norfuk / Pitkern, Ποντιακά, Prūsiskan, português do Brasil, Runa shimi, Rumagnôl, Tarifit, romani čhib, Kirundi, armãneashti, tarandíne, armãneashti, Vlăheşte, Влахесте, Vlăheşte, Sassaresu, کوردی خوارگ, Cmique Itom, Koyraboro Senni, Sängö, žemaitėška, Taclḥit, Taclḥit, ⵜⴰⵛⵍⵃⵉⵜ, tacawit, tacawit, سرائیکی, Schläsch, Gagana Samoa, åarjelsaemien, српски (ћирилица)‎, srpski (latinica)‎, Sranantongo, SiSwati, Sesotho, себертатар, Tayal, тоҷикӣ, tojikī, ትግርኛ, tolışi, толыши, lea faka-Tonga, Ṫuroyo, Seediq, татарча, tatarça, chiTumbuka, Twi, reo tahiti, ⵜⴰⵎⴰⵣⵉⵖⵜ, ئۇيغۇرچە, Uyghurche, ўзбекча, oʻzbekcha, Tshivenda, Mainfränkisch, Vaďďa, võro, saisiyat, 粵語, Vahcuengh, ⵜⴰⵎⴰⵣⵉⵖⵜ ⵜⴰⵏⴰⵡⴰⵢⵜ, 文言, 中文（中国大陆）‎, 中文（简体）‎, 中文（繁體）‎, 中文（香港）‎, Bân-lâm-gú, 中文（澳門）‎, 中文（马来西亚）‎, 中文（新加坡）‎, 中文（台灣）‎, 粵語\n"
     ]
    }
   ],
   "source": [
    "excluded = [langsdict[l] for l in langsdict.keys() if l not in dumps.index]\n",
    "print(len(excluded), 'languages excluded:\\n', ', '.join(excluded))"
   ]
  },
  {
   "cell_type": "markdown",
   "id": "compliant-fitness",
   "metadata": {},
   "source": [
    "But these are the ones I was able to get:"
   ]
  },
  {
   "cell_type": "code",
   "execution_count": 40,
   "id": "confidential-medicine",
   "metadata": {},
   "outputs": [
    {
     "name": "stdout",
     "output_type": "stream",
     "text": [
      "248 languages included:\n",
      " Kreyòl ayisyen, Limburgs, Igbo, tetun, 吴语, коми, الدارجة, latviešu, la .lojban., भोजपुरी, мокшень, Zeêuws, oʻzbekcha/ўзбекча, تۆرکجه, සිංහල, norsk nynorsk, português, Bahasa Melayu, अवधी, 中文, тыва дыл, svenska, башҡортса, മലയാളം, Tagalog, arpetan, slovenščina, Afrikaans, Jawa, Yorùbá, Mirandés, ગુજરાતી, Frysk, Māori, Xitsonga, sicilianu, italiano, Aymar aru, Gagauz, ꯃꯤꯇꯩ ꯂꯣꯟ, davvisámegiella, føroyskt, తెలుగు, brezhoneg, català, Адыгэбзэ, dansk, 贛語, Pälzisch, Nāhuatl, Novial, qırımtatarca, Simple English, dolnoserbski, ߒߞߏ, Oromoo, অসমীয়া, English, lumbaart, বাংলা, پنجابی, hrvatski, Nouormand, ລາວ, ଓଡ଼ିଆ, русский, 한국어, interlingua, Papiamentu, къарачай-малкъар, Кыргызча, Kotava, български, azərbaycanca, vepsän kel’, Alemannisch, Gaelg, Plattdüütsch, livvinkarjala, Soomaaliga, Piemontèis, Sunda, Ænglisc, galego, Hausa, Mìng-dĕ̤ng-ngṳ̄, کوردی, ייִדיש, emiliàn e rumagnòl, ਪੰਜਾਬੀ, авар, walon, română, Picard, kurdî, گیلکی, مصرى, suomi, မြန်မာဘာသာ, kaszëbsczi, Bahasa Indonesia, ၽႃႇသႃႇတႆး , vèneto, eesti, sardu, Kapampangan, удмурт, олык марий, 日本語, Ελληνικά, саха тыла, Runa Simi, Deitsch, bosanski, ᨅᨔ ᨕᨘᨁᨗ, español, سنڌي, кырык мары, aragonés, Ilokano, Banjar, Kinyarwanda, ភាសាខ្មែរ, 客家語/Hak-kâ-ngî, српски / srpski, Wolof, Türkçe, беларуская, Scots, Fiji Hindi, Чӑвашла, ދިވެހިބަސް, буряад, مازِرونی, anarâškielâ, хальмг, հայերեն, West-Vlams, ГӀалгӀай, ဘာသာ မန်, Zazaki, occitan, მარგალური, Avañe'ẽ, čeština, Tok Pisin, Sesotho sa Leboa, Kiswahili, Boarisch, ქართული, Seeltersk, Latina, Ido, ไทย, मराठी, norsk, эрзянь, srpskohrvatski / српскохрватски, Lingua Franca Nova, Аҧсшәа, ತುಳು, Taqbaylit, Winaray, Ripoarisch, rumantsch, मैथिली, русиньскый, kernowek, Chi-Chewa, лакку, Sakizaya, magyar, нохчийн, اردو, Volapük, Deutsch, Ligure, संस्कृतम्, лезги, asturianu, தமிழ், नेपाली, euskara, سرائیکی, Interlingue, Ladino, Napulitano, डोटेली, қазақша, Malagasy, Gàidhlig, lietuvių, Cymraeg, Qaraqalpaqsha, हिन्दी, перем коми, فارسی, ślůnski, Türkmençe, slovenčina, Nederlands, isiZulu, Lëtzebuergesch, corsu, татарча/tatarça, Cebuano, íslenska, монгол, Basa Bali, Acèh, বিষ্ণুপ্রিয়া মণিপুরী, Minangkabau, ئۇيغۇرچە / Uyghurche, Luganda, chiShona, estremeñu, furlan, Setswana, پښتو, Malti, Nordfriisk, עברית, Kabɩyɛ, hornjoserbsce, shqip, Diné bizaad, Pangasinan, polski, македонски, ᱥᱟᱱᱛᱟᱲᱤ, Tiếng Việt, Արեւմտահայերէն, ಕನ್ನಡ, गोंयची कोंकणी / Gõychi Konknni, Ирон, lingála, тоҷикӣ, አማርኛ, Bahasa Hulontalo, українська, Gaeilge, नेपाल भाषा, བོད་ཡིག, français, Bikol Central, isiXhosa, Esperanto, العربية\n"
     ]
    }
   ],
   "source": [
    "print(dumps.shape[0], 'languages included:\\n', ', '.join(dumps['name']))"
   ]
  },
  {
   "cell_type": "markdown",
   "id": "practical-spell",
   "metadata": {},
   "source": [
    "Largest wikipedias by raw dump file size:"
   ]
  },
  {
   "cell_type": "code",
   "execution_count": 41,
   "id": "ranking-decrease",
   "metadata": {},
   "outputs": [
    {
     "data": {
      "text/html": [
       "<div>\n",
       "<style scoped>\n",
       "    .dataframe tbody tr th:only-of-type {\n",
       "        vertical-align: middle;\n",
       "    }\n",
       "\n",
       "    .dataframe tbody tr th {\n",
       "        vertical-align: top;\n",
       "    }\n",
       "\n",
       "    .dataframe thead th {\n",
       "        text-align: right;\n",
       "    }\n",
       "</style>\n",
       "<table border=\"1\" class=\"dataframe\">\n",
       "  <thead>\n",
       "    <tr style=\"text-align: right;\">\n",
       "      <th></th>\n",
       "      <th>name</th>\n",
       "      <th>fsize</th>\n",
       "    </tr>\n",
       "  </thead>\n",
       "  <tbody>\n",
       "    <tr>\n",
       "      <th>en</th>\n",
       "      <td>English</td>\n",
       "      <td>18267134864</td>\n",
       "    </tr>\n",
       "    <tr>\n",
       "      <th>de</th>\n",
       "      <td>Deutsch</td>\n",
       "      <td>5877797639</td>\n",
       "    </tr>\n",
       "    <tr>\n",
       "      <th>fr</th>\n",
       "      <td>français</td>\n",
       "      <td>4972442407</td>\n",
       "    </tr>\n",
       "    <tr>\n",
       "      <th>ru</th>\n",
       "      <td>русский</td>\n",
       "      <td>4224935955</td>\n",
       "    </tr>\n",
       "    <tr>\n",
       "      <th>ja</th>\n",
       "      <td>日本語</td>\n",
       "      <td>3309015603</td>\n",
       "    </tr>\n",
       "    <tr>\n",
       "      <th>es</th>\n",
       "      <td>español</td>\n",
       "      <td>3144443923</td>\n",
       "    </tr>\n",
       "    <tr>\n",
       "      <th>it</th>\n",
       "      <td>italiano</td>\n",
       "      <td>3129866871</td>\n",
       "    </tr>\n",
       "    <tr>\n",
       "      <th>zh</th>\n",
       "      <td>中文</td>\n",
       "      <td>2122775813</td>\n",
       "    </tr>\n",
       "    <tr>\n",
       "      <th>pl</th>\n",
       "      <td>polski</td>\n",
       "      <td>2024669975</td>\n",
       "    </tr>\n",
       "    <tr>\n",
       "      <th>pt</th>\n",
       "      <td>português</td>\n",
       "      <td>1831289660</td>\n",
       "    </tr>\n",
       "  </tbody>\n",
       "</table>\n",
       "</div>"
      ],
      "text/plain": [
       "         name        fsize\n",
       "en    English  18267134864\n",
       "de    Deutsch   5877797639\n",
       "fr   français   4972442407\n",
       "ru    русский   4224935955\n",
       "ja        日本語   3309015603\n",
       "es    español   3144443923\n",
       "it   italiano   3129866871\n",
       "zh         中文   2122775813\n",
       "pl     polski   2024669975\n",
       "pt  português   1831289660"
      ]
     },
     "execution_count": 41,
     "metadata": {},
     "output_type": "execute_result"
    }
   ],
   "source": [
    "dumps.sort_values('fsize', ascending=False).head(10) # largest wikis included"
   ]
  },
  {
   "cell_type": "markdown",
   "id": "super-eligibility",
   "metadata": {},
   "source": [
    "English alone is about 18 GB! The distant second is German at about 6 GB.\n",
    "\n",
    "Smallest file sizes that I included (since cutoff was 1MB):"
   ]
  },
  {
   "cell_type": "code",
   "execution_count": 42,
   "id": "guided-triumph",
   "metadata": {},
   "outputs": [
    {
     "data": {
      "text/html": [
       "<div>\n",
       "<style scoped>\n",
       "    .dataframe tbody tr th:only-of-type {\n",
       "        vertical-align: middle;\n",
       "    }\n",
       "\n",
       "    .dataframe tbody tr th {\n",
       "        vertical-align: top;\n",
       "    }\n",
       "\n",
       "    .dataframe thead th {\n",
       "        text-align: right;\n",
       "    }\n",
       "</style>\n",
       "<table border=\"1\" class=\"dataframe\">\n",
       "  <thead>\n",
       "    <tr style=\"text-align: right;\">\n",
       "      <th></th>\n",
       "      <th>name</th>\n",
       "      <th>fsize</th>\n",
       "    </tr>\n",
       "  </thead>\n",
       "  <tbody>\n",
       "    <tr>\n",
       "      <th>nqo</th>\n",
       "      <td>ߒߞߏ</td>\n",
       "      <td>1049963</td>\n",
       "    </tr>\n",
       "    <tr>\n",
       "      <th>jbo</th>\n",
       "      <td>la .lojban.</td>\n",
       "      <td>1074932</td>\n",
       "    </tr>\n",
       "    <tr>\n",
       "      <th>pdc</th>\n",
       "      <td>Deitsch</td>\n",
       "      <td>1085523</td>\n",
       "    </tr>\n",
       "    <tr>\n",
       "      <th>nov</th>\n",
       "      <td>Novial</td>\n",
       "      <td>1111229</td>\n",
       "    </tr>\n",
       "    <tr>\n",
       "      <th>mdf</th>\n",
       "      <td>мокшень</td>\n",
       "      <td>1119182</td>\n",
       "    </tr>\n",
       "    <tr>\n",
       "      <th>smn</th>\n",
       "      <td>anarâškielâ</td>\n",
       "      <td>1149766</td>\n",
       "    </tr>\n",
       "    <tr>\n",
       "      <th>lbe</th>\n",
       "      <td>лакку</td>\n",
       "      <td>1188547</td>\n",
       "    </tr>\n",
       "    <tr>\n",
       "      <th>tet</th>\n",
       "      <td>tetun</td>\n",
       "      <td>1222946</td>\n",
       "    </tr>\n",
       "    <tr>\n",
       "      <th>kbp</th>\n",
       "      <td>Kabɩyɛ</td>\n",
       "      <td>1316060</td>\n",
       "    </tr>\n",
       "    <tr>\n",
       "      <th>tpi</th>\n",
       "      <td>Tok Pisin</td>\n",
       "      <td>1371967</td>\n",
       "    </tr>\n",
       "  </tbody>\n",
       "</table>\n",
       "</div>"
      ],
      "text/plain": [
       "            name    fsize\n",
       "nqo          ߒߞߏ  1049963\n",
       "jbo  la .lojban.  1074932\n",
       "pdc      Deitsch  1085523\n",
       "nov       Novial  1111229\n",
       "mdf      мокшень  1119182\n",
       "smn  anarâškielâ  1149766\n",
       "lbe        лакку  1188547\n",
       "tet        tetun  1222946\n",
       "kbp       Kabɩyɛ  1316060\n",
       "tpi    Tok Pisin  1371967"
      ]
     },
     "execution_count": 42,
     "metadata": {},
     "output_type": "execute_result"
    }
   ],
   "source": [
    "dumps.sort_values('fsize').head(10) # smallest wikis included"
   ]
  },
  {
   "cell_type": "markdown",
   "id": "underlying-empire",
   "metadata": {},
   "source": [
    "Plot of the filesizes for the languages I included. You can see most are quite small, while a few are very big."
   ]
  },
  {
   "cell_type": "code",
   "execution_count": 43,
   "id": "arbitrary-saint",
   "metadata": {},
   "outputs": [
    {
     "data": {
      "text/plain": [
       "<AxesSubplot:ylabel='Frequency'>"
      ]
     },
     "execution_count": 43,
     "metadata": {},
     "output_type": "execute_result"
    },
    {
     "data": {
      "image/png": "[encoded data removed]",
      "text/plain": [
       "<Figure size 432x288 with 1 Axes>"
      ]
     },
     "metadata": {
      "needs_background": "light"
     },
     "output_type": "display_data"
    }
   ],
   "source": [
    "dumps['fsize'].plot.hist(bins=30) # many small wikis, just a few big wikis"
   ]
  },
  {
   "cell_type": "markdown",
   "id": "liberal-wayne",
   "metadata": {},
   "source": [
    "Here is an example of Qaraqalpaqsha's raw dump file, if I manually decompress it (I don't store these anywhere, it's all handled by the extractor tool I use):"
   ]
  },
  {
   "cell_type": "code",
   "execution_count": 44,
   "id": "descending-finish",
   "metadata": {},
   "outputs": [
    {
     "data": {
      "text/plain": [
       "['<mediawiki xmlns=\"http://www.mediawiki.org/xml/export-0.10/\" xmlns:xsi=\"http://www.w3.org/2001/XMLSchema-instance\" xsi:schemaLocation=\"http://www.mediawiki.org/xml/export-0.10/ http://www.mediawiki.org/xml/export-0.10.xsd\" version=\"0.10\" xml:lang=\"kaa\">\\n',\n",
       " '  <siteinfo>\\n',\n",
       " '    <sitename>Wikipedia</sitename>\\n',\n",
       " '    <dbname>kaawiki</dbname>\\n',\n",
       " '    <base>https://kaa.wikipedia.org/wiki/Bas_bet</base>\\n',\n",
       " '    <generator>MediaWiki 1.36.0-wmf.31</generator>\\n',\n",
       " '    <case>first-letter</case>\\n',\n",
       " '    <namespaces>\\n',\n",
       " '      <namespace key=\"-2\" case=\"first-letter\">Media</namespace>\\n',\n",
       " '      <namespace key=\"-1\" case=\"first-letter\">Arnawlı</namespace>\\n',\n",
       " '      <namespace key=\"0\" case=\"first-letter\" />\\n',\n",
       " '      <namespace key=\"1\" case=\"first-letter\">Sa\\'wbet</namespace>\\n',\n",
       " '      <namespace key=\"2\" case=\"first-letter\">Paydalanıwshı</namespace>\\n',\n",
       " '      <namespace key=\"3\" case=\"first-letter\">Paydalanıwshı sa\\'wbeti</namespace>\\n',\n",
       " '      <namespace key=\"4\" case=\"first-letter\">Wikipedia</namespace>\\n',\n",
       " '      <namespace key=\"5\" case=\"first-letter\">Wikipedia sa\\'wbeti</namespace>\\n',\n",
       " '      <namespace key=\"6\" case=\"first-letter\">Su\\'wret</namespace>\\n',\n",
       " '      <namespace key=\"7\" case=\"first-letter\">Su\\'wret sa\\'wbeti</namespace>\\n',\n",
       " '      <namespace key=\"8\" case=\"first-letter\">MediaWiki</namespace>\\n',\n",
       " '      <namespace key=\"9\" case=\"first-letter\">MediaWiki sa\\'wbeti</namespace>\\n']"
      ]
     },
     "execution_count": 44,
     "metadata": {},
     "output_type": "execute_result"
    }
   ],
   "source": [
    "f = open('./data_samples/kaa-raw.xml', 'r')\n",
    "exdump = f.readlines()\n",
    "f.close()\n",
    "exdump[:20] # start of file"
   ]
  },
  {
   "cell_type": "code",
   "execution_count": 45,
   "id": "existing-atmosphere",
   "metadata": {},
   "outputs": [
    {
     "data": {
      "text/plain": [
       "['      <sha1>j4b51cvuaoqrzh27274l7fzp3q29453</sha1>\\n',\n",
       " '    </revision>\\n',\n",
       " '  </page>\\n',\n",
       " '  <page>\\n',\n",
       " \"    <title>A'jiniyaz</title>\\n\",\n",
       " '    <ns>0</ns>\\n',\n",
       " '    <id>152</id>\\n',\n",
       " '    <revision>\\n',\n",
       " '      <id>43321</id>\\n',\n",
       " '      <parentid>30626</parentid>\\n',\n",
       " '      <timestamp>2020-05-01T08:16:04Z</timestamp>\\n',\n",
       " '      <contributor>\\n',\n",
       " '        <ip>185.163.26.25</ip>\\n',\n",
       " '      </contributor>\\n',\n",
       " '      <model>wikitext</model>\\n',\n",
       " '      <format>text/x-wiki</format>\\n',\n",
       " '      <text bytes=\"7440\" xml:space=\"preserve\">\\'\\'\\'A\\'jiniyaz Qosıbay ulı\\'\\'\\' (a\\'debiy laqabı \\'\\'Ziywar\\'\\') - XIX a\\'sirdegi qaraqalpaq klassik a\\'debiyatının\\' en\\' o\\'rnekli wa\\'killerinin\\' biri. Ol do\\'retiwshiliginde o\\'zine ta\\'n o\\'zgeshelikke iye, og\\'ada talantlı, oqımıslı, medreseni ayrıqsha tamamlag\\'an aqun, ulama, ko\\'rkem so\\'z sheberi sıpatında basqalardan ayrılıp turatug\\'ın uqıplılıq penen o\\'z da\\'wirinin\\' progressiv idealların ju\\'zege shıg\\'ardı, anıq turmıs haqıyqatlıg\\'ın sheber qurılg\\'an poetikalıq obrazlı ibaralarda o\\'tkir oy-pikirler menen ta\\'sirli sa\\'wlelendirdi.\\n',\n",
       " '\\n',\n",
       " '=== Tuwiliwi ===\\n',\n",
       " \"A'jiniyaz shayır 1824-jılı [[Moynaq|Moynaq]] rayonı aymag'ında qaraslı &quot;Qamıs bo'get&quot; degen jerde orta xallı diyxan xojalıg'ında du'nyag'a keledi. Ol qaraqalpaqtın' Qon'ırat arısı ashamaylı [[Urıw|urıwının']] saqıw tiresinen. A'jiniyazdın' a'kesi Qosıbay, onın' a'kesi Baltabek, arg'ı atası Aqjigit o'z da'wirinin' batır, sawatlı adamları bolg'an. Anası Naziyra so'zge sheshen, dilwar, ha'zir juwap, o'tkir pikirli adam bolıp xalıq danalıqların, naqıl-maqallardı, ushırma so'zlerdi, da'stanlardı, terme-tolg'awlardı, xalıq qosıqlarların ju'da' jaqsı bilgen. \\n\"]"
      ]
     },
     "execution_count": 45,
     "metadata": {},
     "output_type": "execute_result"
    }
   ],
   "source": [
    "exdump[3745:3765] # random middle part showing part of an article "
   ]
  },
  {
   "cell_type": "markdown",
   "id": "differential-nightmare",
   "metadata": {},
   "source": [
    "One of the languages that ultimately gets excluded is Qafár af. Here I'll read in its expanded dump file:"
   ]
  },
  {
   "cell_type": "code",
   "execution_count": 46,
   "id": "resident-apartment",
   "metadata": {},
   "outputs": [],
   "source": [
    "f = open('./data_samples/aa-raw.xml')\n",
    "aaraw = f.readlines()\n",
    "f.close()"
   ]
  },
  {
   "cell_type": "code",
   "execution_count": 47,
   "id": "gross-detroit",
   "metadata": {},
   "outputs": [
    {
     "data": {
      "text/plain": [
       "['<mediawiki xmlns=\"http://www.mediawiki.org/xml/export-0.10/\" xmlns:xsi=\"http://www.w3.org/2001/XMLSchema-instance\" xsi:schemaLocation=\"http://www.mediawiki.org/xml/export-0.10/ http://www.mediawiki.org/xml/export-0.10.xsd\" version=\"0.10\" xml:lang=\"aa\">\\n',\n",
       " '  <siteinfo>\\n',\n",
       " '    <sitename>Wikipedia</sitename>\\n',\n",
       " '    <dbname>aawiki</dbname>\\n',\n",
       " '    <base>https://aa.wikipedia.org/wiki/Main_Page</base>\\n',\n",
       " '    <generator>MediaWiki 1.36.0-wmf.32</generator>\\n',\n",
       " '    <case>first-letter</case>\\n',\n",
       " '    <namespaces>\\n',\n",
       " '      <namespace key=\"-2\" case=\"first-letter\">Media</namespace>\\n',\n",
       " '      <namespace key=\"-1\" case=\"first-letter\">Special</namespace>\\n',\n",
       " '      <namespace key=\"0\" case=\"first-letter\" />\\n',\n",
       " '      <namespace key=\"1\" case=\"first-letter\">Talk</namespace>\\n',\n",
       " '      <namespace key=\"2\" case=\"first-letter\">User</namespace>\\n',\n",
       " '      <namespace key=\"3\" case=\"first-letter\">User talk</namespace>\\n',\n",
       " '      <namespace key=\"4\" case=\"first-letter\">Wikipedia</namespace>\\n',\n",
       " '      <namespace key=\"5\" case=\"first-letter\">Wikipedia talk</namespace>\\n',\n",
       " '      <namespace key=\"6\" case=\"first-letter\">File</namespace>\\n',\n",
       " '      <namespace key=\"7\" case=\"first-letter\">File talk</namespace>\\n',\n",
       " '      <namespace key=\"8\" case=\"first-letter\">MediaWiki</namespace>\\n',\n",
       " '      <namespace key=\"9\" case=\"first-letter\">MediaWiki talk</namespace>\\n']"
      ]
     },
     "execution_count": 47,
     "metadata": {},
     "output_type": "execute_result"
    }
   ],
   "source": [
    "aaraw[:20]"
   ]
  },
  {
   "cell_type": "code",
   "execution_count": 48,
   "id": "sporting-playlist",
   "metadata": {},
   "outputs": [
    {
     "data": {
      "text/plain": [
       "5526"
      ]
     },
     "execution_count": 48,
     "metadata": {},
     "output_type": "execute_result"
    }
   ],
   "source": [
    "len(aaraw)"
   ]
  },
  {
   "cell_type": "markdown",
   "id": "double-techno",
   "metadata": {},
   "source": [
    "At first glance, this language's XML file has 5526 lines, which sounds like enough to at least get a good sampling of what the language looks like. But then I stripped all the XML and extra Wikipedia information off."
   ]
  },
  {
   "cell_type": "markdown",
   "id": "closing-branch",
   "metadata": {},
   "source": [
    "## 4: Remove the XML and wikipedia formatting\n",
    "Wikipedia formatting is stuff like the particular templates used in the articles, the random stuff you see at the very start of the above raw XML file, etc."
   ]
  },
  {
   "cell_type": "code",
   "execution_count": 49,
   "id": "fiscal-integral",
   "metadata": {},
   "outputs": [],
   "source": [
    "f = open('./data_samples/aa-extracted.txt')\n",
    "aa = f.readlines()\n",
    "f.close()"
   ]
  },
  {
   "cell_type": "markdown",
   "id": "warming-liverpool",
   "metadata": {},
   "source": [
    "Here is Qafár af (the example excluded language)'s *entire* file without the XML and extra Wikipedia formatting:"
   ]
  },
  {
   "cell_type": "code",
   "execution_count": 50,
   "id": "utility-course",
   "metadata": {},
   "outputs": [
    {
     "data": {
      "text/plain": [
       "['{\"id\": \"1426\", \"revid\": \"2266\", \"url\": \"https://aa.wikipedia.org/wiki?curid=1426\", \"title\": \"Main page\", \"text\": \"\"}\\n',\n",
       " '{\"id\": \"2105\", \"revid\": \"361\", \"url\": \"https://aa.wikipedia.org/wiki?curid=2105\", \"title\": \"Wikipedia\", \"text\": \"Wikipedia bödero kœáth amliethog e rhyδ gē gell tō un gelœga. Denn grëað zero œáthws ar ðechre di zera gentannwm hon.\"}\\n']"
      ]
     },
     "execution_count": 50,
     "metadata": {},
     "output_type": "execute_result"
    }
   ],
   "source": [
    "aa"
   ]
  },
  {
   "cell_type": "markdown",
   "id": "continental-morgan",
   "metadata": {},
   "source": [
    "As you can see, the output of the tool I used is one json object per page/article. From 5526 lines, Qafár af is left with just two pages, one of which has no text at all. The other page is just a sentence long; it seems to be a message notifying users that this wikipedia is closed and not maintained. This is why I excluded languages whose raw dump files are smaller than 1MB."
   ]
  },
  {
   "cell_type": "markdown",
   "id": "shared-marketing",
   "metadata": {},
   "source": [
    "Returning to Qaraqalpaqsha, which I showed the raw dump for earlier, here is its Wikipedia with the XML and Wikipedia formatting removed:"
   ]
  },
  {
   "cell_type": "code",
   "execution_count": 51,
   "id": "modular-victoria",
   "metadata": {},
   "outputs": [],
   "source": [
    "f = open('./data_samples/kaa-extracted.txt', 'r')\n",
    "kaa = f.readlines()\n",
    "f.close()"
   ]
  },
  {
   "cell_type": "code",
   "execution_count": 52,
   "id": "federal-infrastructure",
   "metadata": {},
   "outputs": [
    {
     "data": {
      "text/plain": [
       "['{\"id\": \"16\", \"revid\": \"19\", \"url\": \"https://kaa.wikipedia.org/wiki?curid=16\", \"title\": \"Main Page\", \"text\": \"\"}\\n',\n",
       " '{\"id\": \"140\", \"revid\": \"6\", \"url\": \"https://kaa.wikipedia.org/wiki?curid=140\", \"title\": \"Bas bet/Interwikis\", \"text\": \"&lt;includeonly&gt; &lt;/includeonly&gt;\"}\\n',\n",
       " '{\"id\": \"148\", \"revid\": \"17\", \"url\": \"https://kaa.wikipedia.org/wiki?curid=148\", \"title\": \"A\\'bdiraman O\\'tepov\", \"text\": \"A\\'bdiraman O\\'tepov (1905-1934) - qaraqalpaq dramaturgiyasının\\' tiykarın salıwshılardın\\' biri. Ol talantlı dramaturg, rejissyor, aktyor, muzıkant, ko\\'rnekli teatr iskeri sıpatında qaraqalpaq xalqının\\' tariyxında belgili iz qaldırdı. \\\\nA\\'.O\\'tepov 1905 jılı Qon\\'ıratta mayda sawdager semyasında tuwıldı. 1906 jılı a\\'kesi semyası menen Aral ten\\'izinin\\' qubla-shıg\\'ıs jag\\'asına jaqın Qosjap degen jerge ko\\'ship keledi ha\\'m balıq o\\'ndirisi ka\\'sibi menen shug\\'ıllana baslaydı. Bul O\\'tepovtın\\' semyasının\\' ruslar menen jaqınlasıwına mu\\'mkinshilik tuwdırdı.\\\\n1910 jılı ol Nikolay Trofimov degen rus adamı menen birigip, balıq qabıllaytug\\'ın ham duzlaytug\\'ın punkt sho\\'lkemlestiredi. Usı punkte islegen balıqtı qayta isleytug\\'ın qa\\'nige rus jigiti Nikolay Sorokin kishkene A\\'bdiramannın\\' en\\' jaqın dostı bolıp qaladı. Ol Sorokinnen ko\\'p na\\'rselerdi u\\'yrendi. Ruslar keleshek dramaturgtin\\' u\\'yine tez-tez kelip turatug\\'ın edi. A\\'.O\\'tepovtın\\' semyasının\\' Lutsenko menen tanısıwı onın\\' jeke o\\'mirinde u\\'lken a\\'hmiyetke iye boldı. Ol jas A\\'.O\\'tepovqa ko\\'p na\\'rselerdi u\\'yretti. Onı Evropa ma\\'deniyatı menen tanıstırdı. A\\'.O\\'tepov bala waqıtlarınan baslap-aq o\\'z xalqının\\' turmısın da jaqsı biletug\\'ın edi. Xalıqtın\\' milliy bayramlarına qatnasıp, qaraqalpaq xalqının\\' u\\'rp-a\\'det da\\'stu\\'rlerin, baqsı-jıraw, qıssaxanların, juwabıy qız kelinsheklerin korgen ha\\'m olardın\\' iskusstvosı menen jaqınnan tanıs bolg\\'an. Shıg\\'ıs klassikleri shıg\\'armaların qızıg\\'ıp u\\'yrengen. Qaraqalpaq xalqının\\' muzıka ma\\'deniyatı ha\\'m onın\\' ha\\'r qıylı janrların da baqsı-jırawlardan u\\'yrengen. Solay etip, A\\'.O\\'tepov eki ma\\'deniyattın\\' rus ha\\'m qaraqalpaq xalıqlarının\\' ma\\'deniyatlarının\\' ta\\'sirinde ta\\'rbiyalandı. \\\\n1920 jıldan baslap ol Qon\\'ırat qalasında du\\'zilgen Chon otryadına ag\\'za boladı. Usı jerde mug\\'allim Qasım Yashımov ta\\'repinen sholkemlestirilgen tatar jaslarının\\' ha\\'weskerler do\\'gereginin\\' jumısı menen tanısadı. Bul do\\'gerektın\\' spektakllerine ha\\'m repetitsiyalarına turaqlı tu\\'rde qatnasadı. 1920 jılı Qon\\'ıratqa quramında Tu\\'rkistan frontı shtabının\\' siyasiy-ag\\'artıw jumısları boyınsha wa\\'kili Hamza Ha\\'kimzada Niyaziy bolg\\'an bolg\\'an atlı eskadron keledi. Sol jılı Hamza eki pesanı (\\\\\"Tu\\'rkistan ta\\'wibi\\\\\", \\\\\"Shın urıs\\\\\") saxnalastıradı ha\\'m olardı xalıqqa ko\\'rsetedi. Bul waqıyalar A\\'.O\\'tepovtın\\' o\\'mirinde u\\'lken rol oynaydı. 1921 jılı Hamza Qon\\'ıratqa \\\\\"Sayeri\\\\\" atlı Xorezm truppası menen ekinshi ret keledi. Truppanın\\' ha\\'m onın\\' baslıg\\'ı Hamzanın\\' ja\\'rdemi menen Qon\\'ıratta 18 adamnan ibarat bolg\\'an teatr do\\'geregi du\\'ziledi, og\\'an S.Ma\\'jitov basshı bolıp belgilendi. \\\\nA\\'.O\\'tepov 1922 jıllardan baslap da\\'slepki dramalıq shıg\\'armaların jazıwg\\'a kirisedi, \\\\\"Zindan\\\\\", \\\\\"Jezdejan\\\\\" atlı instsenirovkalar do\\'retedi. Bul eki instsenirovka forması boyınsha da\\'stanlardag\\'ı salt-da\\'stu\\'r qosıqlarındag\\'ı aytıstı eske tu\\'siredi. 1923-24 jıllarda A\\'.O\\'tepov usınday stilde birqansha instsenirovkalar do\\'retedi, \\\\\"Altın gu\\'l\\\\\", \\\\\"Ketsen\\' nettim\\\\\", \\\\\"Taza qonıs\\\\\" t.b. Da\\'slepki instsenirovkalarının\\' forması folklorlıq shıg\\'armalardın\\' formasına megzes bolg\\'anı menen mazmunına jan\\'a da\\'wir ruhı sin\\'dirilgen. \\\\n1925 jılı A\\'.O\\'tepov A.Begimov penen birgelikte Qon\\'ırat rayonınan teatr do\\'geregin sho\\'lkemlestiredi. A\\'.O\\'tepov do\\'gerek ushın bir aktli \\\\\"Sha\\'leke bay\\\\\" atlı pesa jazadı. Avtor shıg\\'armada qaharmanlar xarakterin ashıwda xalıq do\\'rtiwshiliginin\\' bay ta\\'jiriybesinen paydalanadı. \\\\nA\\'.O\\'tepov 1925-26 jılları Ayapbergen Muwsaev penen tanısadı, onın\\' ta\\'siri menen o\\'zinin\\' \\\\\"Shahizada\\\\\" da\\'stanın jazadı. 1927 jılı ol To\\'rtku\\'ldegi awıllıq ken\\'es basqarıwshıların tayarlaytug\\'ın u\\'sh aylıq kurske kirip oqıydı. Kursta oqıp ju\\'rip rus, tatar, o\\'zbek, qazaq teatr do\\'gereklarının\\' jumısları menen jaqınnan tanısadı. Pedtexnikum janındag\\'ı \\\\\"Tan\\' nurı\\\\\" truppasına qosılıp, onın\\' repertuarına o\\'zinin\\' shıg\\'armaların qayta islep kirgizedi. Usı jıldan A\\'.O\\'tepovqa milliy truppanı basqarıw wazıypası tapsırıladı.\\\\nQaraqalpaqstanda milliy teatrdın\\' ashılıwı A\\'.O\\'tepovtın\\' atı menen baylanıslı, ol teatrdın\\' birinshi direktorı boldı. 1932 jıl 23-apreldegi Oraylıq Komitettin\\' \\\\\"Ko\\'rkem a\\'debiyat sho\\'lkemlerin qayta du\\'ziw haqqındag\\'ı\\\\\" qararı A\\'.O\\'tepovtın\\' do\\'retiwshilik iskerliginde sezilerlik alg\\'a ilgerilew payda etti. A\\'sirese, onın\\' rus teatrının\\' ataqlı rejisserı V.E.Meyerxoldtın\\' sha\\'kirti İ.V.Korinman menen birge islesiwi do\\'retiwshiligine u\\'lken ta\\'sirin tiygizdi. 1932 jıldan baslap onın\\' shıg\\'armalarında turmıstı ko\\'rkem su\\'wretlewdin\\' agitatsiyalıq-illyustrativlik formasınan kem-kem quramalı formag\\'a o\\'tiwi seziledi. Ol turmıstan ken\\' xarakterli detallardı tabıwg\\'a talpınadı, qaharmanlardın\\' ha\\'reketlerin isenimli jaratadı. Rus dramaturglerinin\\' ha\\'m sol jılları durıs jolg\\'a tu\\'sken tuwısqan milliy respublikalardın\\' dramaturglerinin\\' ta\\'siri menen A\\'.O\\'tepov bahalı ko\\'rkem shıg\\'armalar do\\'retiwge kirisedi. A\\'.O\\'tepovtı rus dramaturgiyasının\\' en\\' jaqsı shıg\\'armaları menen tanıstırg\\'an, og\\'an sheberligin arttırıwda g\\'amxorlıq etken V.İ.Korinmannın\\' xızmetin ayrıqsha atap o\\'tiw kerek. A\\'.O\\'tepov o\\'zinin\\' do\\'retiwshilik ku\\'shinin\\' tolısıp rawajlang\\'an da\\'wirinde 29 jasında qaytıs boldı. A\\'.O\\'tepovtın\\' do\\'retiwshiligi 1920-1934 jıllar arasındagı 14 jıldı o\\'z ishine aladı. Ol a\\'debiyatımız tariyxında u\\'lken a\\'debiy miyras qaldırdı: 16 iri shıg\\'arma ha\\'m 40 tan aslam instsenirovka jazdı. Ko\\'lemli shıg\\'armalarının\\' qatarına \\\\\"Tenin tapqan qız\\\\\", \\\\\"Ashlıq zarı\\\\\", \\\\\"Eki baslı suwqabaq\\\\\", \\\\\"Odekolon\\\\\", \\\\\"900 gramm\\\\\", \\\\\"Jalqaw diyxan\\\\\", \\\\\"Kolxoz turmısı\\\\\", \\\\\"A\\'ne qalas\\\\\", \\\\\"Gu\\'man\\\\\", \\\\\"Gu\\'lzada\\\\\" h.t.b. shıg\\'armaları jatadı.\\\\nA\\'.O\\'tepovtın\\' do\\'retiwshiliginin\\' o\\'zgesheligi, onın\\' barlıq shıg\\'armalarının\\' derlik zamanago\\'y temag\\'a arnalıp jazılıwınan ibarat edi (\\\\\"Ashlıq zarı\\\\\" pesasınan tısqarı). Onın\\' shıg\\'armaları agitatsiyalıq xarakterge iye boldı, olardın\\' tiykarında sol da\\'wirdin\\' a\\'hmiyetli ma\\'seleleri turdı. A\\'. O\\'tepovtın\\' shıg\\'armalarının\\' tag\\'ı bir o\\'zgesheligi, onın\\' folklordın\\' en\\' jaqsı da\\'stu\\'rlerın sheber paydalanıwında korinedi. Ol o\\'zinin\\' shıg\\'armalarına folklordın\\' aytıs formasın orınlı kirgizedi, xalıqtın\\' su\\'yip tın\\'laytug\\'ın \\\\\"Bozataw\\\\\", \\\\\"Eshbay\\\\\" atlı qosıqların ken\\' paydalanadı. A\\'.O\\'tepovtın\\' do\\'retiwshilik jolı qısqa instsenirovkalardan baslanadı. Ol turmıslıq faktlerdi ha\\'m waqıyalardı saxnada ha\\'reket arqalı ko\\'rsetiwde onın\\' tamashago\\'ylerdi ta\\'rbiyalawshılıq, u\\'yretiwshilik roline u\\'lken a\\'hmiyet berdi. Bunın\\' ushın ol turmıslıq elementlerdi saxnanın\\' sharayatları menen, sonday-aq qaharmanlıq, lirikalıq elementlerdi ku\\'lkili, satiralıq elementler menen birlestire aldı.\\\\nA\\'.O\\'tepovtın\\' doretiwshiliginde iri ko\\'lemli ha\\'m en\\' xarakterli shıg\\'armalarınan onın\\' ko\\'p aktli \\\\\"Ten\\'in tapqan qız\\\\\", \\\\\"Boyawshı wa\\'kil\\\\\", \\\\\"Gu\\'man\\\\\" pesaları bolıp tabıladı. \\\\\"Ten\\'in tapqan qız\\\\\" shıg\\'armasının\\' birinshi variantı 1925-1927 jılları \\\\\"Sha\\'leke bay\\\\\" degen at penen jazılg\\'an edi. Son\\'g\\'ı jılları dramturg onı birneshe ret qayta islep shıg\\'ıp, ha\\'r saparı jan\\'alıqlar kirgizdi. Shıg\\'arma ja\\'miyetshilik ta\\'repinen joqarı bahalandı. Dramaturg bul shıg\\'armasında o\\'z da\\'wirinin\\'\\\\nen\\' a\\'hmiyetli ma\\'selesi-hayal-qızlar ten\\'ligin su\\'wretleydi.\\\\n\\\\\"Boyawshı wa\\'kil\\\\\" pesası da qaraqalpaq a\\'debiyatında drama janrının\\' qa\\'liplesiwinde belgili orın iyeleydi. Pesanın\\' waqıyası respublikanın\\' rayonlarındag\\'ı bir awılda boladı. Bul jerge rayonnan Palımbet degen wa\\'kil miynet protsesin sho\\'lkemlestiriwge ja\\'rdem beriw ushın jiberilgen. Biraq ol miynet ta\\'rtibin bosan\\'lastırıp, jumıs waqtında qız-jigitlerdi jıynap otırıspalar quradı. Awılga komissiya kelip. awıl adamlarının\\' ja\\'rdemi menen ko\\'z boyawshı wa\\'kil a\\'shkaralanadı. Pesanın\\' qısqasha mzmunı usınnan ibarat. \\\\\"Boyawshı wa\\'kil\\\\\" pesasında ayırım adamlardın\\' jeke ma\\'plerinin\\' ja\\'miyetlik ma\\'pke qarama-qarsı keliwi tiykarg\\'ı konfliktti du\\'zedi. Bul pesanı \\\\\"Ten\\'in tapqan qız\\\\\" pesası menen salıstırg\\'anda dramaturgtın\\' do\\'retiwshiligindegi o\\'siwshilikti seziwge boladı. Palımbettin\\' obrazı turmıstan alıngan. Onın\\' ha\\'reketleri pesanın\\' orayında turadı. Pesag\\'a qatnasıwshı qaharmanlardı tan\\'lap alıwda avtor turmıstın\\' tariyxıy rawajlanıw barısı menen sanasa otırıp, olardın\\' psixologiyasın isenimli jaratqan. \\\\nA\\'.O\\'tepovtın\\' sotsiallıq turmıs ma\\'selelerine arnalg\\'an \\\\\"Gu\\'man\\\\\" pesası 1932 jılı jazıldı. Pesada jan\\'a qaraqalpaq shan\\'arag\\'ının\\' mashqalaları ortag\\'a qoyılg\\'an. \\\\\"Gu\\'man\\\\\" pesası kompozitsiyalıq, syujetlik, fabulalıq qurılısı, obrazlar sisteması jag\\'ınan onın\\' burıng\\'ı shıg\\'armalarınan artıqmashılıqqa iye. Shıg\\'arma qaharmanı Murat rayonlıq atqarıw komitetinin\\' bo\\'lim baslıg\\'ı bolıp isleytug\\'ın o\\'mirlik joldası Ajarg\\'a gu\\'man menen qaraydı. Ajar jumısları ko\\'p bolg\\'anlıqtan u\\'yge waqtında kele almaydı, bug\\'an ku\\'yewi hesh isenbeydi. U\\'y xızmetkeri Ma\\'rziya olardın\\' arasına ot taslaydı, ja\\'njeldi o\\'z ma\\'pine paydalang\\'ısı keledi. O\\'sek so\\'zler aytadı. Pesanın\\' son\\'ında Murat gu\\'man ha\\'m qızg\\'anısh sebepli o\\'z hayalın atıp o\\'ltiredi. Dramaturg pesag\\'a qatnasıwshılardı su\\'wretlewde olardın\\' ha\\'r birinin\\' konkret xarakterin beriwge, adamnın\\' ishki du\\'nyasındag\\'ı o\\'zgerislerdi ashıwg\\'a ha\\'reket etedi. A\\'.O\\'tepovtın\\' shıg\\'armaları qaraqalpaq a\\'debiyatında drama janrının\\' tun\\'g\\'ısh do\\'retpeleri esaplanadı.\"}\\n']"
      ]
     },
     "execution_count": 52,
     "metadata": {},
     "output_type": "execute_result"
    }
   ],
   "source": [
    "kaa[:3] # first 3 json objects"
   ]
  },
  {
   "cell_type": "markdown",
   "id": "experienced-practitioner",
   "metadata": {},
   "source": [
    "The encoding is causing some weird display issues for some characters here, it's strange because it shows up fine in my text editor and in zsh with the `head` command. Either way, it gets corrected once it travels through the rest of my current data correction pipeline and the final file for this language which I'll show later displays fine."
   ]
  },
  {
   "cell_type": "markdown",
   "id": "accomplished-airfare",
   "metadata": {},
   "source": [
    "The tool I'm using to go from raw dump to \"clean\" json items is called WikiExtractor. The current version on GitHub is not stable, but it's here: https://github.com/attardi/wikiextractor\n",
    "\n",
    "I forked it and made a stable version here: https://github.com/soCromp/wikiextractor\n",
    "\n",
    "I needed to use specifically this tool for another project I'm doing in another class and spent a lot of time fixing it and figuring out how to run it. It's designed specifically for processing Wikipedia data en masse and already \"knows\" Wikipedia formatting and how to find certain article attributes. As a result, I decided to just use it again here rather than learn how to use totally another thing like Beautiful Soup - I've used their Java library a couple years ago (jsoup) and remembered taking a while to get data cleaned like I wanted. \n",
    "\n",
    "The tool runs pretty quick - Afrikaans takes 1-2 minutes and English maybe 5. I also pass the text through some shell regex like `sed` at this point for a little extra cleaning. Shell regex seems to run faster than Python regex?"
   ]
  },
  {
   "cell_type": "markdown",
   "id": "arranged-parker",
   "metadata": {},
   "source": [
    "## 5: Get the article text\n",
    "The next step in the pipeline is doing some encoding correction after the XML and Wikipedia formatting is extracted. Then, I grab just article text from the json objects."
   ]
  },
  {
   "cell_type": "code",
   "execution_count": 53,
   "id": "demonstrated-popularity",
   "metadata": {},
   "outputs": [],
   "source": [
    "f = open('./data_samples/af-articles.txt')\n",
    "aftexts = f.readlines()\n",
    "f.close()"
   ]
  },
  {
   "cell_type": "code",
   "execution_count": 54,
   "id": "respective-judge",
   "metadata": {},
   "outputs": [
    {
     "name": "stdout",
     "output_type": "stream",
     "text": [
      " Afrika\n",
      "Afrika is die wêreld se tweede grootste kontinent (na Asië) in sowel oppervlakte as bevolking. Saam met die eilande beslaan dit ongeveer 30 221 532 km² wat 20,3% van die totale landoppervlakte van die aarde is en dit word bewoon deur meer as 1 miljard mense – ongeveer 'n sewende van die wêreldbevolking.\n",
      "Tale.\n",
      "Die meeste amptelike tale van Afrika is Indo-Europese tale soos Frans, Engels, Portugees, Spaans en Afrikaans.\n",
      "\n"
     ]
    }
   ],
   "source": [
    "print(''.join(aftexts[:4]))"
   ]
  },
  {
   "cell_type": "markdown",
   "id": "loose-drinking",
   "metadata": {},
   "source": [
    "As you can see, it still has line breaks, punctuation, numbers, etc."
   ]
  },
  {
   "cell_type": "markdown",
   "id": "intermediate-comment",
   "metadata": {},
   "source": [
    "After this step, I was planning to tokenize. I added this in and started to run the script on all the data, but disliked the results I was getting. I don't know what tool I could use to tokenize different languages since there are so many different rules and probably a lot of things I don't know about how to tokenize the languages I don't speak. So, I just took the tokenizing step out at least for now.\n",
    "## 6: Cleaning to remove punctuation, extra spaces\n",
    "Next, I just pass the text through a filter to remove all puntuation characters and replace sequences of multiple spaces in a row with just one space. I use a special unicode library function, unicodedata.category() to detect any unicode puntuation character in order to catch even puntuation like the Japanese period \"。\""
   ]
  },
  {
   "cell_type": "code",
   "execution_count": 55,
   "id": "stylish-maintenance",
   "metadata": {},
   "outputs": [],
   "source": [
    "f = open('./data_samples/af-text.txt')\n",
    "afclean = f.readlines()\n",
    "f.close()"
   ]
  },
  {
   "cell_type": "code",
   "execution_count": 56,
   "id": "municipal-drunk",
   "metadata": {},
   "outputs": [
    {
     "data": {
      "text/plain": [
       "' Afrika Afrika is die wêreld se tweede grootste kontinent na Asië in sowel oppervlakte as bevolking Saam met die eilande beslaan dit ongeveer \\xa0 \\xa0 \\xa0km wat van die totale landoppervlakte van die aarde is en dit word bewoon deur meer as miljard mense ongeveer n sewende van die wêreldbevolking Tale Die meeste amptelike tale van Afrika is IndoEuropese tale soos Frans Engels Portugees Spaans en Afrikaans '"
      ]
     },
     "execution_count": 56,
     "metadata": {},
     "output_type": "execute_result"
    }
   ],
   "source": [
    "afclean[0][:402]"
   ]
  },
  {
   "cell_type": "markdown",
   "id": "fiscal-arctic",
   "metadata": {},
   "source": [
    "Again, there is some strange encoding issue when I display it in Jupyter. You can see it in the spaces between where the numbers were. It doesn't occur when I display it in Atom, Sublime or TextEdit."
   ]
  },
  {
   "cell_type": "markdown",
   "id": "ultimate-belgium",
   "metadata": {},
   "source": [
    "## 7: Chunking and shuffling\n",
    "Originally I had the idea to make each line a sentence or a certain number of words. Then I realized not all languages separate words or sentences the same way, and decided the most language-neutral way to do this would be to simply make each line 500 characters long. I refer to each line as a chunk, and simply divide the long block of text every 500 characters. I'm sure there are better ways to handle this, but I chose this simple way for now at least. Then, if there are more than 100000 chunks, I randomly sample 100000 chunks to prevent any larger languages from being overrepresented in my data. This number is somewhat arbitrary so I might revisit later. Lastly, I shuffle the chunks."
   ]
  },
  {
   "cell_type": "code",
   "execution_count": 57,
   "id": "nervous-queen",
   "metadata": {},
   "outputs": [],
   "source": [
    "f = open('./data_samples/af-chunks.txt', encoding='utf-8')\n",
    "af = f.readlines()\n",
    "f.close()"
   ]
  },
  {
   "cell_type": "markdown",
   "id": "confirmed-prophet",
   "metadata": {},
   "source": [
    "First five Afrikaans chunks:"
   ]
  },
  {
   "cell_type": "code",
   "execution_count": 58,
   "id": "different-pantyhose",
   "metadata": {},
   "outputs": [
    {
     "data": {
      "text/plain": [
       "['de gereïnkarneer word Elke hergeboorte vind plaas op een van vyf vlakke volgens TheravadaBoeddhiste of ses volgens ander skole Volgens OosAsiatiese en Tibettaanse Boeddhisme is daar n tussenvlak Tibettaans bardo tussen een lewe en die volgende een Die ortodokse Theravadatradisie verwerp dit tog is daar dele in die Samyuttanikaya van die Palikanon wat blykbaar die idee steun dat die Boeddha vertel het van so n tussenvlak Lyding oorsake en oplossings Die Vier Edel Waarhede Die leringe oor die Vier\\n',\n",
       " 'de wat erosie bevorder Die klimaat het ook sy invloed laat geld Die afgelope miljoen jaar het die klimaatstoestande drie keer gewissel van vogtig en nat tot droog Só het die eens uit gebreide tropiese reënwoud al hoe kleiner geword Aan die ander kant het die veranderinge in die klimaat die dier en plantsoorte gedwing om hulle by die nuwe omstandighede aan te pas Só het n groot verskeidenheid fauna en flora ontwikkel Dat Afrika steeds die woonplek van die groot soogdiere is is te danke aan die sa\\n',\n",
       " ' gordel begin in Turkye en sluit die hooglande van Iran en Afghanistan sowel as die Himalaja in oos van Tibet swenk dit suidoos tot by Maleisië Die Asiatiese vasteland bevat die hoogste en laagste plekke in die wêreld Berg Everest in die Himalaja is \\xa0 meter bo seespieël en die Dooie See is meter onder seespieël Die Baikalmeer in SuidoosRusland naby Mongolië vorm die wêreld se diepste trog die meer is \\xa0 meter diep en die bodem is \\xa0 meter onderkant seespieël Die Kaspiese See en die Aralmeer is oor\\n',\n",
       " 'aanvaar al die basiese begrippe van Mahayana maar sluit n groot getal spirituele en fisieke tegnieke in wat ontwerp is om die beoefening van Boeddhisme tot n hoër vlak te verhef Tantriese Boeddhisme het in n groot mate te doen met rituele en meditasiepraktyke Een aspek van vajrayana is die inspan van psigofisieke energie deur rituele visualiserings fisieke oefeninge en meditasie as n manier om die gees te ontwikkel Deur dié tegnieke kan iemand boeddhaskap in een leeftyd behaal of selfs in drie j\\n',\n",
       " 'eringe wat weggebreek het van die Brahmaanse tradisie en wat die gesag van die Vediese heilige geskrifte en die Brahmane verwerp het Hierdie groepe waarvan die lede as shramanas bekend was was n voortsetting van n nieVediese rigting van Indiese denkrigtings afsonderlik van IndoAriese Brahmanisme Geleerdes glo idees soos samsara karma en moksha het hul oorsprong in die shramanas en is later deur die Brahmaanse ortodoksie aanvaar Boeddhisme het ontstaan in Groter Magadha wat as nieVedies beskou is\\n']"
      ]
     },
     "execution_count": 58,
     "metadata": {},
     "output_type": "execute_result"
    }
   ],
   "source": [
    "af[:5]"
   ]
  },
  {
   "cell_type": "code",
   "execution_count": 59,
   "id": "collectible-wound",
   "metadata": {},
   "outputs": [],
   "source": [
    "f = open('./data_samples/en-chunks.txt', encoding='utf-8')\n",
    "en = f.readlines()\n",
    "f.close()"
   ]
  },
  {
   "cell_type": "markdown",
   "id": "smooth-today",
   "metadata": {},
   "source": [
    "First 5 English chunks:"
   ]
  },
  {
   "cell_type": "code",
   "execution_count": 60,
   "id": "optional-valuation",
   "metadata": {},
   "outputs": [
    {
     "data": {
      "text/plain": [
       "['because snow does not cover the trees as readily Deciduous trees have an albedo value of about to whereas coniferous trees have a value of about to Variation in summer albedo across both forest types is correlated with maximum rates of photosynthesis because plants with high growth capacity display a greater fraction of their foliage for direct interception of incoming radiation in the upper canopy The result is that wavelengths of light not used in photosynthesis are more likely to be reflected\\n',\n",
       " 'ous diseases solvents PCBs phthalates and phenols used in plastic products pesticides brominated flame retardants alcohol smoking illicit drugs vaccines and prenatal stress Some such as the MMR vaccine have been completely disproven Parents may first become aware of autistic symptoms in their child around the time of a routine vaccination This has led to unsupported theories blaming vaccine overload a vaccine preservative or the MMR vaccine for causing autism The latter theory was supported by a\\n',\n",
       " 'alism among other libertarian socialist economic theories As anarchism does not offer a fixed body of doctrine from a single particular worldview many anarchist types and traditions exist and varieties of anarchy diverge widely One reaction against sectarianism within the anarchist milieu was anarchism without adjectives a call for toleration and unity among anarchists first adopted by Fernando Tarrida del Mármol in in response to the bitter debates of anarchist theory at the time Belief in poli\\n',\n",
       " 'existing psychiatric disorders such as depression Clinical genetics evaluations are often done once ASD is diagnosed particularly when other symptoms already suggest a genetic cause Although genetic technology allows clinical geneticists to link an estimated of cases to genetic causes consensus guidelines in the US and UK are limited to highresolution chromosome and fragile X testing A genotypefirst model of diagnosis has been proposed which would routinely assess the genomes copy number variati\\n',\n",
       " 'selfcontradictory While it advocates for noone to archiei if accepted by the many then anarchism would turn into the ruling political theory In this line of criticism also comes the selfcontradiction that anarchism calls for collective action whilst endorsing the autonomy of the individual hence no collective action can be taken Lastly Fiala mentions a critique towards philosophical anarchism of being ineffective all talk and thoughts and in the meantime capitalism and bourgeois class remains st\\n']"
      ]
     },
     "execution_count": 60,
     "metadata": {},
     "output_type": "execute_result"
    }
   ],
   "source": [
    "en[:5]"
   ]
  },
  {
   "cell_type": "markdown",
   "id": "ranking-milan",
   "metadata": {},
   "source": [
    "Some of the encoding issues from files I showed you mid-pipeline do not seem present in these written out files."
   ]
  },
  {
   "cell_type": "code",
   "execution_count": 61,
   "id": "exact-massage",
   "metadata": {},
   "outputs": [],
   "source": [
    "f = open('./data_samples/kaa-chunks.txt', encoding='utf-8')\n",
    "kaa = f.readlines()\n",
    "f.close()"
   ]
  },
  {
   "cell_type": "markdown",
   "id": "every-belarus",
   "metadata": {},
   "source": [
    "The weird encoding errors are now gone for Qaraqalpaqsha. Here are its first 5 chunks:"
   ]
  },
  {
   "cell_type": "code",
   "execution_count": 62,
   "id": "korean-rugby",
   "metadata": {},
   "outputs": [
    {
     "data": {
      "text/plain": [
       "[' suwretlengen Kartada korsetiwinshe Kaspiyge Zarafshan ham Amiwdarya Okus quyıp turgan Amiwdarya jıl burın Tyanshan tawınan baslap Fergana oypatlıgınan agıp otken Sonın menen birge sayaxatshı Marko Polo ogan İon dep at bergen al Sırdaryanı Yaskart dep atagan Aral tenizi jagasınan Sarıqamıs Akespe den m terenlikten arxeologiyalıq qazılmalar boyınsha tasqa aylangan kit omırtqasının ham qızıl balıqtın suyekleri tabıldı ol oligatsena dawirinde jasaganı anıqlandı Usı orınga jaqın yamasa Nokistin qubl\\n',\n",
       " 'r legendalar qaraqalpaq korkem awızeki doretpelerinin belgili bir janrı bolıp doreliwi jagınan juda ayyemgi zamanlarga barıp jetedi Olar ozinin mazmunı turtusi boyınsha basqa xalıq awızeki doretpelerinin janrlarınan ayırılıp turadı Anızlar kopshilik jagdaylarda bolmagan narselerdi bolganday etip suwretleytugın awızeki prozalıq doretpeler Olardı burın apsanalar ham rawiyatlar menen aralastırıp bir janr retinde uyrenildi Anızlar qaraqalpaq ertekleri menen birge XIXasirdin jıllarında XX asirdin bas\\n',\n",
       " 'p shıgıwı haqqındagı daslepki ilimiy miynetlerdin biri bolıp oz qunlılıgı menen adewir ajıralıp turadı Abilgazı jılı avgustta Urgenish qalasında tuwılgan Ozi Qonırat awladlarına tiyisli hakim awladlarınan bolıp on jeti jasınan baslap Xabash ham Jolbarıs Sultanlar menen taxtqa talasqan Sonınan Buxaraga qashıp ketip İsfandiyar xan bolgan jılları Xorezmge qaytıp keledi Urgenishke hakim etip tayınlanadı Biraq sonınan jılı İsfandiyar xan tarepinen quwgınga ushıraydı Bunnan keyin Turkstanga qaraqalpaq\\n',\n",
       " 'lardın nominal bahası bir qıylı bolıwı tiyis Minimal ustavlıq fond kapital bizin respublikamızdın aymagında janadan duzilgen ashıq aktsionerlik jamiyetler ushın jamiyet dizimge alıngan sanege nızamshılıq penen belgilengen en az xızmet xaqının keminde eki juz ese summasın al jabıq aktsionerlik jamiyet ushın jamiyet dizimge alıngan sanege nızamshılıq penen belgilengen en az xızmet xaqının juz ese summasın qurawı tiyis Jamiyettin ustavlıq kapitalı aktsiyalardın nominal bahasın kobeytiw yamasa qosım\\n',\n",
       " ' penen oqıy baslaydı Onın Temuriy shaxzadalarınan bolgan Xusayn Bayqara menen mektepke birge oqıwı ham doslasıwı keleshegi ushın ulken jol ashıp beriwge jardemlesedi Nawayı onon eki jaslarınanaq qosıq jazıwga kirisedi Bul jolda ogan oz zamanının en kornekli shayırlarınan bolgan Lutfiydin ustazlıq jardeminin ayrıqsha bolganlıgı malim Aliysher ataanasınan jetim qalıp on bes jaslarınan baslap dostı Xusayn Bayqara menen birlikte Abilqasım Babur sarayına xızmetke kiredi Sol jılları ol oz zamanının en\\n']"
      ]
     },
     "execution_count": 62,
     "metadata": {},
     "output_type": "execute_result"
    }
   ],
   "source": [
    "kaa[:5]"
   ]
  },
  {
   "cell_type": "code",
   "execution_count": 63,
   "id": "fatty-stuff",
   "metadata": {},
   "outputs": [],
   "source": [
    "f = open('./data_samples/ml-chunks.txt')\n",
    "ml = f.readlines()\n",
    "f.close()"
   ]
  },
  {
   "cell_type": "markdown",
   "id": "explicit-quality",
   "metadata": {},
   "source": [
    "There are still some weird encoding issues with Jupyter specifically. In Malayalam, Jupyter can't display this right: ണ്‌ \n",
    "\n",
    "Even pasting it into this markup cell, it's showing me a red dot next to this character when I'm in edit mode, I guess to say it doesn't want to show the diacritic mark. And in the following code printout, it shows the character as \\u200c instead."
   ]
  },
  {
   "cell_type": "code",
   "execution_count": 64,
   "id": "automotive-stewart",
   "metadata": {},
   "outputs": [
    {
     "data": {
      "text/plain": [
       "['ഭിപ്രായത്തിൽ എഡി മുതലാണ്\\u200c ഓണം ആഘോഷിച്ചു തുടങ്ങിയത്\\u200c മഹാബലിയുടെ ഓർമ്മക്കായി ഭാസ്കര രവിവർമ്മയാണിത്\\u200c ആരംഭിച്ചതെന്നും ലോഗൻ അഭിപ്രായപ്പെടുന്നു കേരള ചരിത്ര കർത്താവ്\\u200c കൃഷ്ണപിഷാരടി എഡി നും നും ഇടയിൽ ഓണം ആഘോഷിക്കാൻ തുടങ്ങിയതായി പറയുന്നു പതിനൊന്നാം നൂറ്റാണ്ടിൽ കേരളം സന്ദർശിച്ച അറബിസഞ്ചാരി അൽബി റൂണിയും ൽ വന്ന ഈജിപ്ഷ്യൻ സഞ്ചാരി അൽ ഇദ്രീസിയും ൽ ഫ്രഞ്ച്\\u200c സഞ്ചാരി ബഞ്ചമിനുമെല്ലാം മലയാളിയുടെ ഓണത്തെക്കുറിച്ചും ആഘോഷങ്ങളെക്കുറിച്ചും കളികളെക്കുറിച്ചും വിവരിക്കുന്നുണ്ട്\\u200c ഓണാഘോഷത്തെപ്പറ്റിയുള്ള ശിലാലിഖിതങ്ങളും കണ്ടുകി\\n',\n",
       " ' എൻ ഡി പി യോഗമായി മാറി ഈ സംഘടനയെ മാതൃകാപരമായ ഒരു ജാതിമതാതീത സംഘടനയായി വളർത്തിക്കൊണ്ടുവരികയും സമൂഹത്തെ സർവതോമുഖമായ പുരോഗതിയിലേക്കു നയിക്കുകയും ചെയ്യുകയായിരുന്നു ഗുരുവിന്റെ ലക്ഷ്യം ആദ്യത്തെ ഏതാനും വർഷങ്ങളിൽ സാമാന്യം ഭേദപ്പെട്ട രീതിയിൽ കാര്യങ്ങൾ മുന്നോട്ടുപോയി എന്നാൽ യോഗം നേതാക്കളിൽ പലരും അവസരോചിതമായി ഉയർന്നുചിന്തിക്കുകയും പ്രവർത്തിക്കുകയും ചെയ്യാത്തതുമൂലം യോഗവും ഗുരുവും തമ്മിലുള്ള ബന്ധത്തിൽ ക്രമേണ വിടവ് അനുഭവപ്പെട്ടു തന്റെ ദർശനത്തിന്റെ കാതലായ ഏകജാതിസന്ദേശം താൻ കെട്ടിപ്പടുത്ത സംഘത്തെപ്പോലും ബോധ്യപ്\\n',\n",
       " 'ചരിത്രത്തിൽ നിർണ്ണായകമായ സ്വാധീനം ചെലുത്തിയ സാമൂഹ്യസംഭവങ്ങളിൽ പ്രധാനവും പ്രകടവുമായ ഒരു ഘടകം നമ്പൂരിമാർക്ക് സമൂഹത്തിൽ ലഭിച്ച മേൽക്കൈയ്യും അതുമൂലം സംസ്കൃതഭാഷാപ്രയോഗത്തിനു് പ്രാദേശികമായി ഉണ്ടായ പ്രചാരവുമാണ് പാണ്ഡ്യചോളചേര രാജാക്കന്മാർക്ക് ദക്ഷിണഭാരതത്തിലുണ്ടായിരുന്ന അധികാരം നഷ്ടമായതും മലയാളനാട്ടിലെ പെരുമാക്കന്മാരുടെ വാഴ്ച അവസാനിച്ചതും തമിഴ്മൊഴി നാടുകളുമായി ജനങ്ങൾക്കുണ്ടായിരുന്ന ഇടപാടുകളിൽ കാര്യമായ കുറവു വരുത്തിയിരുന്നു കിഴക്കൻ അതിർത്തിയിലെ സഹ്യമലനിരകൾ കടന്നുള്ള ദുഷ്കരമായുള്ള യാത്രകളും കാലാവസ്ഥയിലെ വ\\n',\n",
       " ' പല്ലവി ഏറ്റുപാടുകയും ചെയ്യുന്നു ഒരു പാട്ട് ഏകദേശം മുതൽ മിനിറ്റ് വരെ നീണ്ടു നിൽക്കും താരതമ്യേന അയഞ്ഞ താളത്തിൽ തുടങ്ങുന്ന പാട്ട് അന്ത്യത്തോടടുക്കുമ്പോൾ മുറുകി ദ്രുതതാളത്തിൽ അവസാനിക്കുന്നു ഒന്നിലധികം സംഘങ്ങളെ\\u200d പരസ്പരം മൽസരിപ്പിച്ച് നടത്തുന്ന ഓണംകളി മൽസരങ്ങളും നടന്നു വരാറുണ്ട് കമ്പിത്തായം കളി ചതുരാകൃതിയിലുള്ള ഒരു ഓട് നിലത്ത് ഉരുട്ടി കളിക്കുന്ന കളിയാണ്\\u200c ഇത് ചുക്കിണി എന്നാണീ ഓടിന്റെ പേര്\\u200c ഈ ഓടിന്\\u200c ആറ് വശങ്ങൾ ഉണ്ടായിരിക്കും അതിൽ ചൂത് കളിക്കുന്ന കവടി പോലെ വശങ്ങളിൽ ദ്വാരങ്ങൾ അടയാളപ്പെടുത്തിയിരിക്കും രണ്\\n',\n",
       " '്തയം കളി പോലെ തന്നെയുള്ള ഒരു വിനോദമാണിത് എന്നാൽ നിയമങ്ങൾക്ക് അല്പം വ്യത്യാസമുണ്ടെന്നു മാത്രം സ്ത്രീകളായിരുന്നു ഇത് അധികവും കളിച്ചിരുന്നത് നായയും പുലിയും വെയ്ക്കൽ പതിനഞ്ചു നായയും പുലിയും വെയ്ക്കുക എന്നൊരു വിനോദം പണ്ട് നടന്നിരുന്നു മൂന്ന് പുലിയും നായ്ക്കളുമായിരുന്നു അതിലെ കരുക്കൾ രണ്ട് പേർ കൂടി കളിക്കുന്ന കളിയാണ്\\u200c നായ്ക്കളെ ഉപയോഗിച്ച് പുലികളെ കുടുക്കുകയും പുലികളെ ഉപയോഗിച്ച് നായ്ക്കളെ വെട്ടുകയും ചെയ്യുന്ന ചതുരംഗം പോലെയുള്ള കളം ഇതിനുണ്ട് ആറന്മുള വള്ളംകളി ചിങ്ങമാസത്തിലെ ഉത്രട്ടാതി നാളിലാണ്\\u200c ആറൻമുള വള\\n']"
      ]
     },
     "execution_count": 64,
     "metadata": {},
     "output_type": "execute_result"
    }
   ],
   "source": [
    "ml[:5]"
   ]
  },
  {
   "cell_type": "markdown",
   "id": "accessory-quarter",
   "metadata": {},
   "source": [
    "I'm not sure how much I can do about that issue; I know the correct \"information\" for that character is in there since these files are displaying correctly on my computer. I've tried reading the file in with different encoding schemes or doing the `str.encode('utf-8').decode('raw_unicode_escape')` trick.\n",
    "\n",
    "As much as I want to fix it, it potentially is a deeply embedded issue in my browser or Jupyter or even my operating system. Knowing there's plenty of other stuff to do with the project, it's probably important that I prioritize at this point."
   ]
  },
  {
   "cell_type": "markdown",
   "id": "minimal-minority",
   "metadata": {},
   "source": [
    "# To do (for data preparation)\n",
    "- Anonymize writing system using method described in first progress report (see there for details)\n",
    "- Create corpus that has all languages mixed and shuffled together, with each chunk labeled for its language\n",
    "- Feature extraction \n",
    "- Split into train/dev/test sets, ensuring equal representation of languages"
   ]
  }
 ],
 "metadata": {
  "kernelspec": {
   "display_name": "Python 3",
   "language": "python",
   "name": "python3"
  },
  "language_info": {
   "codemirror_mode": {
    "name": "ipython",
    "version": 3
   },
   "file_extension": ".py",
   "mimetype": "text/x-python",
   "name": "python",
   "nbconvert_exporter": "python",
   "pygments_lexer": "ipython3",
   "version": "3.8.5"
  }
 },
 "nbformat": 4,
 "nbformat_minor": 5
}
