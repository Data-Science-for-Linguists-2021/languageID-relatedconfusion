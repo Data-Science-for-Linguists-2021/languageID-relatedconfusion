{
 "cells": [
  {
   "cell_type": "markdown",
   "id": "confirmed-tunisia",
   "metadata": {},
   "source": [
    "# Explanation of data gathering pipeline"
   ]
  },
  {
   "cell_type": "code",
   "execution_count": 36,
   "id": "enabling-empty",
   "metadata": {},
   "outputs": [
    {
     "data": {
      "text/plain": [
       "{'aa': 'Qafár af',\n",
       " 'ab': 'Аҧсшәа',\n",
       " 'abs': 'bahasa ambon',\n",
       " 'ace': 'Acèh',\n",
       " 'ady': 'адыгабзэ',\n",
       " 'ady-cyrl': 'адыгабзэ',\n",
       " 'aeb': 'تونسي/Tûnsî',\n",
       " 'aeb-arab': 'تونسي',\n",
       " 'aeb-latn': 'Tûnsî',\n",
       " 'af': 'Afrikaans',\n",
       " 'ak': 'Akan',\n",
       " 'aln': 'Gegë',\n",
       " 'als': 'Alemannisch',\n",
       " 'alt': 'алтай тил',\n",
       " 'am': 'አማርኛ',\n",
       " 'ami': 'Pangcah',\n",
       " 'an': 'aragonés',\n",
       " 'ang': 'Ænglisc',\n",
       " 'anp': 'अङ्गिका',\n",
       " 'ar': 'العربية',\n",
       " 'arc': 'ܐܪܡܝܐ',\n",
       " 'arn': 'mapudungun',\n",
       " 'arq': 'جازايرية',\n",
       " 'ary': 'الدارجة',\n",
       " 'arz': 'مصرى',\n",
       " 'as': 'অসমীয়া',\n",
       " 'ase': 'American sign language',\n",
       " 'ast': 'asturianu',\n",
       " 'atj': 'Atikamekw',\n",
       " 'av': 'авар',\n",
       " 'avk': 'Kotava',\n",
       " 'awa': 'अवधी',\n",
       " 'ay': 'Aymar aru',\n",
       " 'az': 'azərbaycanca',\n",
       " 'azb': 'تۆرکجه',\n",
       " 'ba': 'башҡортса',\n",
       " 'ban': 'Basa Bali',\n",
       " 'ban-bali': 'ᬩᬲᬩᬮᬶ',\n",
       " 'bar': 'Boarisch',\n",
       " 'bat-smg': 'žemaitėška',\n",
       " 'bbc': 'Batak Toba',\n",
       " 'bbc-latn': 'Batak Toba',\n",
       " 'bcc': 'جهلسری بلوچی',\n",
       " 'bcl': 'Bikol Central',\n",
       " 'be': 'беларуская',\n",
       " 'be-tarask': 'беларуская (тарашкевіца)\\u200e',\n",
       " 'be-x-old': 'беларуская (тарашкевіца)\\u200e',\n",
       " 'bg': 'български',\n",
       " 'bgn': 'روچ کپتین بلوچی',\n",
       " 'bh': 'भोजपुरी',\n",
       " 'bho': 'भोजपुरी',\n",
       " 'bi': 'Bislama',\n",
       " 'bjn': 'Banjar',\n",
       " 'bm': 'bamanankan',\n",
       " 'bn': 'বাংলা',\n",
       " 'bo': 'བོད་ཡིག',\n",
       " 'bpy': 'বিষ্ণুপ্রিয়া মণিপুরী',\n",
       " 'bqi': 'بختیاری',\n",
       " 'br': 'brezhoneg',\n",
       " 'brh': 'Bráhuí',\n",
       " 'bs': 'bosanski',\n",
       " 'btm': 'Batak Mandailing',\n",
       " 'bto': 'Iriga Bicolano',\n",
       " 'bug': 'ᨅᨔ ᨕᨘᨁᨗ',\n",
       " 'bxr': 'буряад',\n",
       " 'ca': 'català',\n",
       " 'cbk-zam': 'Chavacano de Zamboanga',\n",
       " 'cdo': 'Mìng-dĕ̤ng-ngṳ̄',\n",
       " 'ce': 'нохчийн',\n",
       " 'ceb': 'Cebuano',\n",
       " 'ch': 'Chamoru',\n",
       " 'cho': 'Choctaw',\n",
       " 'chr': 'ᏣᎳᎩ',\n",
       " 'chy': 'Tsetsêhestâhese',\n",
       " 'ckb': 'کوردی',\n",
       " 'co': 'corsu',\n",
       " 'cps': 'Capiceño',\n",
       " 'cr': 'Nēhiyawēwin / ᓀᐦᐃᔭᐍᐏᐣ',\n",
       " 'crh': 'qırımtatarca',\n",
       " 'crh-cyrl': 'къырымтатарджа (Кирилл)\\u200e',\n",
       " 'crh-latn': 'qırımtatarca (Latin)\\u200e',\n",
       " 'cs': 'čeština',\n",
       " 'csb': 'kaszëbsczi',\n",
       " 'cu': 'словѣньскъ / ⰔⰎⰑⰂⰡⰐⰠⰔⰍⰟ',\n",
       " 'cv': 'Чӑвашла',\n",
       " 'cy': 'Cymraeg',\n",
       " 'da': 'dansk',\n",
       " 'de': 'Deutsch',\n",
       " 'de-at': 'Österreichisches Deutsch',\n",
       " 'de-ch': 'Schweizer Hochdeutsch',\n",
       " 'de-formal': 'Deutsch (Sie-Form)\\u200e',\n",
       " 'din': 'Thuɔŋjäŋ',\n",
       " 'diq': 'Zazaki',\n",
       " 'dsb': 'dolnoserbski',\n",
       " 'dtp': 'Dusun Bundu-liwan',\n",
       " 'dty': 'डोटेली',\n",
       " 'dv': 'ދިވެހިބަސް',\n",
       " 'dz': 'ཇོང་ཁ',\n",
       " 'ee': 'eʋegbe',\n",
       " 'egl': 'Emiliàn',\n",
       " 'el': 'Ελληνικά',\n",
       " 'eml': 'emiliàn e rumagnòl',\n",
       " 'en': 'English',\n",
       " 'en-ca': 'Canadian English',\n",
       " 'en-gb': 'British English',\n",
       " 'eo': 'Esperanto',\n",
       " 'es': 'español',\n",
       " 'es-419': 'español de América Latina',\n",
       " 'es-formal': 'español (formal)\\u200e',\n",
       " 'et': 'eesti',\n",
       " 'eu': 'euskara',\n",
       " 'ext': 'estremeñu',\n",
       " 'fa': 'فارسی',\n",
       " 'ff': 'Fulfulde',\n",
       " 'fi': 'suomi',\n",
       " 'fit': 'meänkieli',\n",
       " 'fiu-vro': 'võro',\n",
       " 'fj': 'Na Vosa Vakaviti',\n",
       " 'fo': 'føroyskt',\n",
       " 'fr': 'français',\n",
       " 'frc': 'français cadien',\n",
       " 'frp': 'arpetan',\n",
       " 'frr': 'Nordfriisk',\n",
       " 'fur': 'furlan',\n",
       " 'fy': 'Frysk',\n",
       " 'ga': 'Gaeilge',\n",
       " 'gag': 'Gagauz',\n",
       " 'gan': '贛語',\n",
       " 'gan-hans': '赣语（简体）\\u200e',\n",
       " 'gan-hant': '贛語（繁體）\\u200e',\n",
       " 'gcr': 'kriyòl gwiyannen',\n",
       " 'gd': 'Gàidhlig',\n",
       " 'gl': 'galego',\n",
       " 'glk': 'گیلکی',\n",
       " 'gn': \"Avañe'ẽ\",\n",
       " 'gom': 'गोंयची कोंकणी / Gõychi Konknni',\n",
       " 'gom-deva': 'गोंयची कोंकणी',\n",
       " 'gom-latn': 'Gõychi Konknni',\n",
       " 'gor': 'Bahasa Hulontalo',\n",
       " 'got': '𐌲𐌿𐍄𐌹𐍃𐌺',\n",
       " 'grc': 'Ἀρχαία ἑλληνικὴ',\n",
       " 'gsw': 'Alemannisch',\n",
       " 'gu': 'ગુજરાતી',\n",
       " 'gv': 'Gaelg',\n",
       " 'ha': 'Hausa',\n",
       " 'hak': '客家語/Hak-kâ-ngî',\n",
       " 'haw': 'Hawaiʻi',\n",
       " 'he': 'עברית',\n",
       " 'hi': 'हिन्दी',\n",
       " 'hif': 'Fiji Hindi',\n",
       " 'hif-latn': 'Fiji Hindi',\n",
       " 'hil': 'Ilonggo',\n",
       " 'ho': 'Hiri Motu',\n",
       " 'hr': 'hrvatski',\n",
       " 'hrx': 'Hunsrik',\n",
       " 'hsb': 'hornjoserbsce',\n",
       " 'ht': 'Kreyòl ayisyen',\n",
       " 'hu': 'magyar',\n",
       " 'hu-formal': 'magyar (formal)\\u200e',\n",
       " 'hy': 'հայերեն',\n",
       " 'hyw': 'Արեւմտահայերէն',\n",
       " 'hz': 'Otsiherero',\n",
       " 'ia': 'interlingua',\n",
       " 'id': 'Bahasa Indonesia',\n",
       " 'ie': 'Interlingue',\n",
       " 'ig': 'Igbo',\n",
       " 'ii': 'ꆇꉙ',\n",
       " 'ik': 'Iñupiak',\n",
       " 'ike-cans': 'ᐃᓄᒃᑎᑐᑦ',\n",
       " 'ike-latn': 'inuktitut',\n",
       " 'ilo': 'Ilokano',\n",
       " 'inh': 'ГӀалгӀай',\n",
       " 'io': 'Ido',\n",
       " 'is': 'íslenska',\n",
       " 'it': 'italiano',\n",
       " 'iu': 'ᐃᓄᒃᑎᑐᑦ/inuktitut',\n",
       " 'ja': '日本語',\n",
       " 'jam': 'Patois',\n",
       " 'jbo': 'la .lojban.',\n",
       " 'jut': 'jysk',\n",
       " 'jv': 'Jawa',\n",
       " 'ka': 'ქართული',\n",
       " 'kaa': 'Qaraqalpaqsha',\n",
       " 'kab': 'Taqbaylit',\n",
       " 'kbd': 'Адыгэбзэ',\n",
       " 'kbd-cyrl': 'Адыгэбзэ',\n",
       " 'kbp': 'Kabɩyɛ',\n",
       " 'kcg': 'Tyap',\n",
       " 'kg': 'Kongo',\n",
       " 'khw': 'کھوار',\n",
       " 'ki': 'Gĩkũyũ',\n",
       " 'kiu': 'Kırmancki',\n",
       " 'kj': 'Kwanyama',\n",
       " 'kjp': 'ဖၠုံလိက်',\n",
       " 'kk': 'қазақша',\n",
       " 'kk-arab': 'قازاقشا (تٴوتە)\\u200f',\n",
       " 'kk-cn': 'قازاقشا (جۇنگو)\\u200f',\n",
       " 'kk-cyrl': 'қазақша (кирил)\\u200e',\n",
       " 'kk-kz': 'қазақша (Қазақстан)\\u200e',\n",
       " 'kk-latn': 'qazaqşa (latın)\\u200e',\n",
       " 'kk-tr': 'qazaqşa (Türkïya)\\u200e',\n",
       " 'kl': 'kalaallisut',\n",
       " 'km': 'ភាសាខ្មែរ',\n",
       " 'kn': 'ಕನ್ನಡ',\n",
       " 'ko': '한국어',\n",
       " 'ko-kp': '조선말',\n",
       " 'koi': 'перем коми',\n",
       " 'kr': 'Kanuri',\n",
       " 'krc': 'къарачай-малкъар',\n",
       " 'kri': 'Krio',\n",
       " 'krj': 'Kinaray-a',\n",
       " 'krl': 'karjal',\n",
       " 'ks': 'कॉशुर / کٲشُر',\n",
       " 'ks-arab': 'کٲشُر',\n",
       " 'ks-deva': 'कॉशुर',\n",
       " 'ksh': 'Ripoarisch',\n",
       " 'ku': 'kurdî',\n",
       " 'ku-arab': 'كوردي (عەرەبی)\\u200f',\n",
       " 'ku-latn': 'kurdî (latînî)\\u200e',\n",
       " 'kum': 'къумукъ',\n",
       " 'kv': 'коми',\n",
       " 'kw': 'kernowek',\n",
       " 'ky': 'Кыргызча',\n",
       " 'la': 'Latina',\n",
       " 'lad': 'Ladino',\n",
       " 'lb': 'Lëtzebuergesch',\n",
       " 'lbe': 'лакку',\n",
       " 'lez': 'лезги',\n",
       " 'lfn': 'Lingua Franca Nova',\n",
       " 'lg': 'Luganda',\n",
       " 'li': 'Limburgs',\n",
       " 'lij': 'Ligure',\n",
       " 'liv': 'Līvõ kēļ',\n",
       " 'lki': 'لەکی',\n",
       " 'lld': 'Ladin',\n",
       " 'lmo': 'lumbaart',\n",
       " 'ln': 'lingála',\n",
       " 'lo': 'ລາວ',\n",
       " 'loz': 'Silozi',\n",
       " 'lrc': 'لۊری شومالی',\n",
       " 'lt': 'lietuvių',\n",
       " 'ltg': 'latgaļu',\n",
       " 'lus': 'Mizo ţawng',\n",
       " 'luz': 'لئری دوٙمینی',\n",
       " 'lv': 'latviešu',\n",
       " 'lzh': '文言',\n",
       " 'lzz': 'Lazuri',\n",
       " 'mad': 'Madhurâ',\n",
       " 'mai': 'मैथिली',\n",
       " 'map-bms': 'Basa Banyumasan',\n",
       " 'mdf': 'мокшень',\n",
       " 'mg': 'Malagasy',\n",
       " 'mh': 'Ebon',\n",
       " 'mhr': 'олык марий',\n",
       " 'mi': 'Māori',\n",
       " 'min': 'Minangkabau',\n",
       " 'mk': 'македонски',\n",
       " 'ml': 'മലയാളം',\n",
       " 'mn': 'монгол',\n",
       " 'mni': 'ꯃꯤꯇꯩ ꯂꯣꯟ',\n",
       " 'mnw': 'ဘာသာ မန်',\n",
       " 'mo': 'молдовеняскэ',\n",
       " 'mr': 'मराठी',\n",
       " 'mrh': 'Mara',\n",
       " 'mrj': 'кырык мары',\n",
       " 'ms': 'Bahasa Melayu',\n",
       " 'mt': 'Malti',\n",
       " 'mus': 'Mvskoke',\n",
       " 'mwl': 'Mirandés',\n",
       " 'my': 'မြန်မာဘာသာ',\n",
       " 'myv': 'эрзянь',\n",
       " 'mzn': 'مازِرونی',\n",
       " 'na': 'Dorerin Naoero',\n",
       " 'nah': 'Nāhuatl',\n",
       " 'nan': 'Bân-lâm-gú',\n",
       " 'nap': 'Napulitano',\n",
       " 'nb': 'norsk bokmål',\n",
       " 'nds': 'Plattdüütsch',\n",
       " 'nds-nl': 'Nedersaksies',\n",
       " 'ne': 'नेपाली',\n",
       " 'new': 'नेपाल भाषा',\n",
       " 'ng': 'Oshiwambo',\n",
       " 'nia': 'Li Niha',\n",
       " 'niu': 'Niuē',\n",
       " 'nl': 'Nederlands',\n",
       " 'nl-informal': 'Nederlands (informeel)\\u200e',\n",
       " 'nn': 'norsk nynorsk',\n",
       " 'no': 'norsk',\n",
       " 'nov': 'Novial',\n",
       " 'nqo': 'ߒߞߏ',\n",
       " 'nrm': 'Nouormand',\n",
       " 'nso': 'Sesotho sa Leboa',\n",
       " 'nv': 'Diné bizaad',\n",
       " 'ny': 'Chi-Chewa',\n",
       " 'nys': 'Nyunga',\n",
       " 'oc': 'occitan',\n",
       " 'olo': 'livvinkarjala',\n",
       " 'om': 'Oromoo',\n",
       " 'or': 'ଓଡ଼ିଆ',\n",
       " 'os': 'Ирон',\n",
       " 'pa': 'ਪੰਜਾਬੀ',\n",
       " 'pag': 'Pangasinan',\n",
       " 'pam': 'Kapampangan',\n",
       " 'pap': 'Papiamentu',\n",
       " 'pcd': 'Picard',\n",
       " 'pdc': 'Deitsch',\n",
       " 'pdt': 'Plautdietsch',\n",
       " 'pfl': 'Pälzisch',\n",
       " 'pi': 'पालि',\n",
       " 'pih': 'Norfuk / Pitkern',\n",
       " 'pl': 'polski',\n",
       " 'pms': 'Piemontèis',\n",
       " 'pnb': 'پنجابی',\n",
       " 'pnt': 'Ποντιακά',\n",
       " 'prg': 'Prūsiskan',\n",
       " 'ps': 'پښتو',\n",
       " 'pt': 'português',\n",
       " 'pt-br': 'português do Brasil',\n",
       " 'qu': 'Runa Simi',\n",
       " 'qug': 'Runa shimi',\n",
       " 'rgn': 'Rumagnôl',\n",
       " 'rif': 'Tarifit',\n",
       " 'rm': 'rumantsch',\n",
       " 'rmy': 'romani čhib',\n",
       " 'rn': 'Kirundi',\n",
       " 'ro': 'română',\n",
       " 'roa-rup': 'armãneashti',\n",
       " 'roa-tara': 'tarandíne',\n",
       " 'ru': 'русский',\n",
       " 'rue': 'русиньскый',\n",
       " 'rup': 'armãneashti',\n",
       " 'ruq': 'Vlăheşte',\n",
       " 'ruq-cyrl': 'Влахесте',\n",
       " 'ruq-latn': 'Vlăheşte',\n",
       " 'rw': 'Kinyarwanda',\n",
       " 'sa': 'संस्कृतम्',\n",
       " 'sah': 'саха тыла',\n",
       " 'sat': 'ᱥᱟᱱᱛᱟᱲᱤ',\n",
       " 'sc': 'sardu',\n",
       " 'scn': 'sicilianu',\n",
       " 'sco': 'Scots',\n",
       " 'sd': 'سنڌي',\n",
       " 'sdc': 'Sassaresu',\n",
       " 'sdh': 'کوردی خوارگ',\n",
       " 'se': 'davvisámegiella',\n",
       " 'sei': 'Cmique Itom',\n",
       " 'ses': 'Koyraboro Senni',\n",
       " 'sg': 'Sängö',\n",
       " 'sgs': 'žemaitėška',\n",
       " 'sh': 'srpskohrvatski / српскохрватски',\n",
       " 'shi': 'Taclḥit',\n",
       " 'shi-latn': 'Taclḥit',\n",
       " 'shi-tfng': 'ⵜⴰⵛⵍⵃⵉⵜ',\n",
       " 'shn': 'ၽႃႇသႃႇတႆး ',\n",
       " 'shy-latn': 'tacawit',\n",
       " 'si': 'සිංහල',\n",
       " 'simple': 'Simple English',\n",
       " 'sk': 'slovenčina',\n",
       " 'skr': 'سرائیکی',\n",
       " 'skr-arab': 'سرائیکی',\n",
       " 'sl': 'slovenščina',\n",
       " 'sli': 'Schläsch',\n",
       " 'sm': 'Gagana Samoa',\n",
       " 'sma': 'åarjelsaemien',\n",
       " 'smn': 'anarâškielâ',\n",
       " 'sn': 'chiShona',\n",
       " 'so': 'Soomaaliga',\n",
       " 'sq': 'shqip',\n",
       " 'sr': 'српски / srpski',\n",
       " 'sr-ec': 'српски (ћирилица)\\u200e',\n",
       " 'sr-el': 'srpski (latinica)\\u200e',\n",
       " 'srn': 'Sranantongo',\n",
       " 'ss': 'SiSwati',\n",
       " 'st': 'Sesotho',\n",
       " 'stq': 'Seeltersk',\n",
       " 'sty': 'себертатар',\n",
       " 'su': 'Sunda',\n",
       " 'sv': 'svenska',\n",
       " 'sw': 'Kiswahili',\n",
       " 'szl': 'ślůnski',\n",
       " 'szy': 'Sakizaya',\n",
       " 'ta': 'தமிழ்',\n",
       " 'tay': 'Tayal',\n",
       " 'tcy': 'ತುಳು',\n",
       " 'te': 'తెలుగు',\n",
       " 'tet': 'tetun',\n",
       " 'tg': 'тоҷикӣ',\n",
       " 'tg-cyrl': 'тоҷикӣ',\n",
       " 'tg-latn': 'tojikī',\n",
       " 'th': 'ไทย',\n",
       " 'ti': 'ትግርኛ',\n",
       " 'tk': 'Türkmençe',\n",
       " 'tl': 'Tagalog',\n",
       " 'tly': 'толышә зывон',\n",
       " 'tn': 'Setswana',\n",
       " 'to': 'lea faka-Tonga',\n",
       " 'tpi': 'Tok Pisin',\n",
       " 'tr': 'Türkçe',\n",
       " 'tru': 'Ṫuroyo',\n",
       " 'trv': 'Seediq',\n",
       " 'ts': 'Xitsonga',\n",
       " 'tt': 'татарча/tatarça',\n",
       " 'tt-cyrl': 'татарча',\n",
       " 'tt-latn': 'tatarça',\n",
       " 'tum': 'chiTumbuka',\n",
       " 'tw': 'Twi',\n",
       " 'ty': 'reo tahiti',\n",
       " 'tyv': 'тыва дыл',\n",
       " 'tzm': 'ⵜⴰⵎⴰⵣⵉⵖⵜ',\n",
       " 'udm': 'удмурт',\n",
       " 'ug': 'ئۇيغۇرچە / Uyghurche',\n",
       " 'ug-arab': 'ئۇيغۇرچە',\n",
       " 'ug-latn': 'Uyghurche',\n",
       " 'uk': 'українська',\n",
       " 'ur': 'اردو',\n",
       " 'uz': 'oʻzbekcha/ўзбекча',\n",
       " 'uz-cyrl': 'ўзбекча',\n",
       " 'uz-latn': 'oʻzbekcha',\n",
       " 've': 'Tshivenda',\n",
       " 'vec': 'vèneto',\n",
       " 'vep': 'vepsän kel’',\n",
       " 'vi': 'Tiếng Việt',\n",
       " 'vls': 'West-Vlams',\n",
       " 'vmf': 'Mainfränkisch',\n",
       " 'vo': 'Volapük',\n",
       " 'vot': 'Vaďďa',\n",
       " 'vro': 'võro',\n",
       " 'wa': 'walon',\n",
       " 'war': 'Winaray',\n",
       " 'wo': 'Wolof',\n",
       " 'wuu': '吴语',\n",
       " 'xal': 'хальмг',\n",
       " 'xh': 'isiXhosa',\n",
       " 'xmf': 'მარგალური',\n",
       " 'xsy': 'saisiyat',\n",
       " 'yi': 'ייִדיש',\n",
       " 'yo': 'Yorùbá',\n",
       " 'yue': '粵語',\n",
       " 'za': 'Vahcuengh',\n",
       " 'zea': 'Zeêuws',\n",
       " 'zgh': 'ⵜⴰⵎⴰⵣⵉⵖⵜ ⵜⴰⵏⴰⵡⴰⵢⵜ',\n",
       " 'zh': '中文',\n",
       " 'zh-classical': '文言',\n",
       " 'zh-cn': '中文（中国大陆）\\u200e',\n",
       " 'zh-hans': '中文（简体）\\u200e',\n",
       " 'zh-hant': '中文（繁體）\\u200e',\n",
       " 'zh-hk': '中文（香港）\\u200e',\n",
       " 'zh-min-nan': 'Bân-lâm-gú',\n",
       " 'zh-mo': '中文（澳門）\\u200e',\n",
       " 'zh-my': '中文（马来西亚）\\u200e',\n",
       " 'zh-sg': '中文（新加坡）\\u200e',\n",
       " 'zh-tw': '中文（台灣）\\u200e',\n",
       " 'zh-yue': '粵語',\n",
       " 'zu': 'isiZulu'}"
      ]
     },
     "execution_count": 36,
     "metadata": {},
     "output_type": "execute_result"
    }
   ],
   "source": [
    "import os\n",
    "import pandas\n",
    "import wikipedia\n",
    "from unicodedata import category as cat\n",
    "langsdict = wikipedia.languages()\n",
    "langsdict"
   ]
  },
  {
   "cell_type": "markdown",
   "id": "private-preserve",
   "metadata": {},
   "source": [
    "# 1: Download raw wikipedia XML files\n",
    "The script downloads these automatically, they come in a compressed .xml.bz format."
   ]
  },
  {
   "cell_type": "code",
   "execution_count": 2,
   "id": "matched-program",
   "metadata": {},
   "outputs": [],
   "source": [
    "dumpspath = './datagather/dumps/'\n",
    "dumpsraw = dict()\n",
    "for f in os.listdir(dumpspath):\n",
    "    if f.startswith('.'): continue\n",
    "    lang = f[:f.index('.')-4]\n",
    "    dumpsraw[lang] = [langsdict[lang], os.path.getsize(dumpspath + f)]"
   ]
  },
  {
   "cell_type": "code",
   "execution_count": 3,
   "id": "specified-saskatchewan",
   "metadata": {},
   "outputs": [
    {
     "data": {
      "text/html": [
       "<div>\n",
       "<style scoped>\n",
       "    .dataframe tbody tr th:only-of-type {\n",
       "        vertical-align: middle;\n",
       "    }\n",
       "\n",
       "    .dataframe tbody tr th {\n",
       "        vertical-align: top;\n",
       "    }\n",
       "\n",
       "    .dataframe thead th {\n",
       "        text-align: right;\n",
       "    }\n",
       "</style>\n",
       "<table border=\"1\" class=\"dataframe\">\n",
       "  <thead>\n",
       "    <tr style=\"text-align: right;\">\n",
       "      <th></th>\n",
       "      <th>name</th>\n",
       "      <th>fsize</th>\n",
       "    </tr>\n",
       "  </thead>\n",
       "  <tbody>\n",
       "    <tr>\n",
       "      <th>ht</th>\n",
       "      <td>Kreyòl ayisyen</td>\n",
       "      <td>13973117</td>\n",
       "    </tr>\n",
       "    <tr>\n",
       "      <th>li</th>\n",
       "      <td>Limburgs</td>\n",
       "      <td>14315808</td>\n",
       "    </tr>\n",
       "    <tr>\n",
       "      <th>ig</th>\n",
       "      <td>Igbo</td>\n",
       "      <td>2109360</td>\n",
       "    </tr>\n",
       "    <tr>\n",
       "      <th>tet</th>\n",
       "      <td>tetun</td>\n",
       "      <td>1222946</td>\n",
       "    </tr>\n",
       "    <tr>\n",
       "      <th>wuu</th>\n",
       "      <td>吴语</td>\n",
       "      <td>14397542</td>\n",
       "    </tr>\n",
       "  </tbody>\n",
       "</table>\n",
       "</div>"
      ],
      "text/plain": [
       "               name     fsize\n",
       "ht   Kreyòl ayisyen  13973117\n",
       "li         Limburgs  14315808\n",
       "ig             Igbo   2109360\n",
       "tet           tetun   1222946\n",
       "wuu              吴语  14397542"
      ]
     },
     "execution_count": 3,
     "metadata": {},
     "output_type": "execute_result"
    }
   ],
   "source": [
    "dumps = pandas.DataFrame.from_dict(dumpsraw, columns=['name', 'fsize'], orient='index')\n",
    "dumps.head()"
   ]
  },
  {
   "cell_type": "code",
   "execution_count": 4,
   "id": "golden-greeting",
   "metadata": {},
   "outputs": [
    {
     "name": "stdout",
     "output_type": "stream",
     "text": [
      "206 languages excluded:\n",
      " Qafár af, bahasa ambon, адыгабзэ, адыгабзэ, تونسي/Tûnsî, تونسي, Tûnsî, Akan, Gegë, алтай тил, Pangcah, अङ्गिका, ܐܪܡܝܐ, mapudungun, جازايرية, American sign language, Atikamekw, ᬩᬲᬩᬮᬶ, žemaitėška, Batak Toba, Batak Toba, جهلسری بلوچی, беларуская (тарашкевіца)‎, беларуская (тарашкевіца)‎, روچ کپتین بلوچی, भोजपुरी, Bislama, bamanankan, بختیاری, Bráhuí, Batak Mandailing, Iriga Bicolano, Chavacano de Zamboanga, Chamoru, Choctaw, ᏣᎳᎩ, Tsetsêhestâhese, Capiceño, Nēhiyawēwin / ᓀᐦᐃᔭᐍᐏᐣ, къырымтатарджа (Кирилл)‎, qırımtatarca (Latin)‎, словѣньскъ / ⰔⰎⰑⰂⰡⰐⰠⰔⰍⰟ, Österreichisches Deutsch, Schweizer Hochdeutsch, Deutsch (Sie-Form)‎, Thuɔŋjäŋ, Dusun Bundu-liwan, ཇོང་ཁ, eʋegbe, Emiliàn, Canadian English, British English, español de América Latina, español (formal)‎, Fulfulde, meänkieli, võro, Na Vosa Vakaviti, français cadien, 赣语（简体）‎, 贛語（繁體）‎, kriyòl gwiyannen, गोंयची कोंकणी, Gõychi Konknni, 𐌲𐌿𐍄𐌹𐍃𐌺, Ἀρχαία ἑλληνικὴ, Alemannisch, Hawaiʻi, Fiji Hindi, Ilonggo, Hiri Motu, Hunsrik, magyar (formal)‎, Otsiherero, ꆇꉙ, Iñupiak, ᐃᓄᒃᑎᑐᑦ, inuktitut, ᐃᓄᒃᑎᑐᑦ/inuktitut, Patois, jysk, Адыгэбзэ, Tyap, Kongo, کھوار, Gĩkũyũ, Kırmancki, Kwanyama, ဖၠုံလိက်, قازاقشا (تٴوتە)‏, قازاقشا (جۇنگو)‏, қазақша (кирил)‎, қазақша (Қазақстан)‎, qazaqşa (latın)‎, qazaqşa (Türkïya)‎, kalaallisut, 조선말, Kanuri, Krio, Kinaray-a, karjal, कॉशुर / کٲشُر, کٲشُر, कॉशुर, كوردي (عەرەبی)‏, kurdî (latînî)‎, къумукъ, Līvõ kēļ, لەکی, Ladin, Silozi, لۊری شومالی, latgaļu, Mizo ţawng, لئری دوٙمینی, 文言, Lazuri, Madhurâ, Basa Banyumasan, Ebon, молдовеняскэ, Mara, Mvskoke, Dorerin Naoero, Bân-lâm-gú, norsk bokmål, Nedersaksies, Oshiwambo, Li Niha, Niuē, Nederlands (informeel)‎, Nyunga, Plautdietsch, पालि, Norfuk / Pitkern, Ποντιακά, Prūsiskan, português do Brasil, Runa shimi, Rumagnôl, Tarifit, romani čhib, Kirundi, armãneashti, tarandíne, armãneashti, Vlăheşte, Влахесте, Vlăheşte, Sassaresu, کوردی خوارگ, Cmique Itom, Koyraboro Senni, Sängö, žemaitėška, Taclḥit, Taclḥit, ⵜⴰⵛⵍⵃⵉⵜ, tacawit, سرائیکی, Schläsch, Gagana Samoa, åarjelsaemien, српски (ћирилица)‎, srpski (latinica)‎, Sranantongo, SiSwati, Sesotho, себертатар, Tayal, тоҷикӣ, tojikī, ትግርኛ, толышә зывон, lea faka-Tonga, Ṫuroyo, Seediq, татарча, tatarça, chiTumbuka, Twi, reo tahiti, ⵜⴰⵎⴰⵣⵉⵖⵜ, ئۇيغۇرچە, Uyghurche, ўзбекча, oʻzbekcha, Tshivenda, Mainfränkisch, Vaďďa, võro, saisiyat, 粵語, Vahcuengh, ⵜⴰⵎⴰⵣⵉⵖⵜ ⵜⴰⵏⴰⵡⴰⵢⵜ, 文言, 中文（中国大陆）‎, 中文（简体）‎, 中文（繁體）‎, 中文（香港）‎, Bân-lâm-gú, 中文（澳門）‎, 中文（马来西亚）‎, 中文（新加坡）‎, 中文（台灣）‎, 粵語\n"
     ]
    }
   ],
   "source": [
    "excluded = [langsdict[l] for l in langsdict.keys() if l not in dumps.index]\n",
    "print(len(excluded), 'languages excluded:\\n', ', '.join(excluded))"
   ]
  },
  {
   "cell_type": "code",
   "execution_count": 5,
   "id": "professional-manual",
   "metadata": {},
   "outputs": [
    {
     "name": "stdout",
     "output_type": "stream",
     "text": [
      "248 languages included:\n",
      " Kreyòl ayisyen, Limburgs, Igbo, tetun, 吴语, коми, الدارجة, latviešu, la .lojban., भोजपुरी, мокшень, Zeêuws, oʻzbekcha/ўзбекча, تۆرکجه, සිංහල, norsk nynorsk, português, Bahasa Melayu, अवधी, 中文, тыва дыл, svenska, башҡортса, മലയാളം, Tagalog, arpetan, slovenščina, Afrikaans, Jawa, Yorùbá, Mirandés, ગુજરાતી, Frysk, Māori, Xitsonga, sicilianu, italiano, Aymar aru, Gagauz, ꯃꯤꯇꯩ ꯂꯣꯟ, davvisámegiella, føroyskt, తెలుగు, brezhoneg, català, Адыгэбзэ, dansk, 贛語, Pälzisch, Nāhuatl, Novial, qırımtatarca, Simple English, dolnoserbski, ߒߞߏ, Oromoo, অসমীয়া, English, lumbaart, বাংলা, پنجابی, hrvatski, Nouormand, ລາວ, ଓଡ଼ିଆ, русский, 한국어, interlingua, Papiamentu, къарачай-малкъар, Кыргызча, Kotava, български, azərbaycanca, vepsän kel’, Alemannisch, Gaelg, Plattdüütsch, livvinkarjala, Soomaaliga, Piemontèis, Sunda, Ænglisc, galego, Hausa, Mìng-dĕ̤ng-ngṳ̄, کوردی, ייִדיש, emiliàn e rumagnòl, ਪੰਜਾਬੀ, авар, walon, română, Picard, kurdî, گیلکی, مصرى, suomi, မြန်မာဘာသာ, kaszëbsczi, Bahasa Indonesia, ၽႃႇသႃႇတႆး , vèneto, eesti, sardu, Kapampangan, удмурт, олык марий, 日本語, Ελληνικά, саха тыла, Runa Simi, Deitsch, bosanski, ᨅᨔ ᨕᨘᨁᨗ, español, سنڌي, кырык мары, aragonés, Ilokano, Banjar, Kinyarwanda, ភាសាខ្មែរ, 客家語/Hak-kâ-ngî, српски / srpski, Wolof, Türkçe, беларуская, Scots, Fiji Hindi, Чӑвашла, ދިވެހިބަސް, буряад, مازِرونی, anarâškielâ, хальмг, հայերեն, West-Vlams, ГӀалгӀай, ဘာသာ မန်, Zazaki, occitan, მარგალური, Avañe'ẽ, čeština, Tok Pisin, Sesotho sa Leboa, Kiswahili, Boarisch, ქართული, Seeltersk, Latina, Ido, ไทย, मराठी, norsk, эрзянь, srpskohrvatski / српскохрватски, Lingua Franca Nova, Аҧсшәа, ತುಳು, Taqbaylit, Winaray, Ripoarisch, rumantsch, मैथिली, русиньскый, kernowek, Chi-Chewa, лакку, Sakizaya, magyar, нохчийн, اردو, Volapük, Deutsch, Ligure, संस्कृतम्, лезги, asturianu, தமிழ், नेपाली, euskara, سرائیکی, Interlingue, Ladino, Napulitano, डोटेली, қазақша, Malagasy, Gàidhlig, lietuvių, Cymraeg, Qaraqalpaqsha, हिन्दी, перем коми, فارسی, ślůnski, Türkmençe, slovenčina, Nederlands, isiZulu, Lëtzebuergesch, corsu, татарча/tatarça, Cebuano, íslenska, монгол, Basa Bali, Acèh, বিষ্ণুপ্রিয়া মণিপুরী, Minangkabau, ئۇيغۇرچە / Uyghurche, Luganda, chiShona, estremeñu, furlan, Setswana, پښتو, Malti, Nordfriisk, עברית, Kabɩyɛ, hornjoserbsce, shqip, Diné bizaad, Pangasinan, polski, македонски, ᱥᱟᱱᱛᱟᱲᱤ, Tiếng Việt, Արեւմտահայերէն, ಕನ್ನಡ, गोंयची कोंकणी / Gõychi Konknni, Ирон, lingála, тоҷикӣ, አማርኛ, Bahasa Hulontalo, українська, Gaeilge, नेपाल भाषा, བོད་ཡིག, français, Bikol Central, isiXhosa, Esperanto, العربية\n"
     ]
    }
   ],
   "source": [
    "print(dumps.shape[0], 'languages included:\\n', ', '.join(dumps['name']))"
   ]
  },
  {
   "cell_type": "code",
   "execution_count": 6,
   "id": "multiple-manner",
   "metadata": {},
   "outputs": [
    {
     "data": {
      "text/html": [
       "<div>\n",
       "<style scoped>\n",
       "    .dataframe tbody tr th:only-of-type {\n",
       "        vertical-align: middle;\n",
       "    }\n",
       "\n",
       "    .dataframe tbody tr th {\n",
       "        vertical-align: top;\n",
       "    }\n",
       "\n",
       "    .dataframe thead th {\n",
       "        text-align: right;\n",
       "    }\n",
       "</style>\n",
       "<table border=\"1\" class=\"dataframe\">\n",
       "  <thead>\n",
       "    <tr style=\"text-align: right;\">\n",
       "      <th></th>\n",
       "      <th>name</th>\n",
       "      <th>fsize</th>\n",
       "    </tr>\n",
       "  </thead>\n",
       "  <tbody>\n",
       "    <tr>\n",
       "      <th>en</th>\n",
       "      <td>English</td>\n",
       "      <td>18267134864</td>\n",
       "    </tr>\n",
       "    <tr>\n",
       "      <th>de</th>\n",
       "      <td>Deutsch</td>\n",
       "      <td>5877797639</td>\n",
       "    </tr>\n",
       "    <tr>\n",
       "      <th>fr</th>\n",
       "      <td>français</td>\n",
       "      <td>4972442407</td>\n",
       "    </tr>\n",
       "    <tr>\n",
       "      <th>ru</th>\n",
       "      <td>русский</td>\n",
       "      <td>4224935955</td>\n",
       "    </tr>\n",
       "    <tr>\n",
       "      <th>ja</th>\n",
       "      <td>日本語</td>\n",
       "      <td>3309015603</td>\n",
       "    </tr>\n",
       "    <tr>\n",
       "      <th>es</th>\n",
       "      <td>español</td>\n",
       "      <td>3144443923</td>\n",
       "    </tr>\n",
       "    <tr>\n",
       "      <th>it</th>\n",
       "      <td>italiano</td>\n",
       "      <td>3129866871</td>\n",
       "    </tr>\n",
       "    <tr>\n",
       "      <th>zh</th>\n",
       "      <td>中文</td>\n",
       "      <td>2122775813</td>\n",
       "    </tr>\n",
       "    <tr>\n",
       "      <th>pl</th>\n",
       "      <td>polski</td>\n",
       "      <td>2024669975</td>\n",
       "    </tr>\n",
       "    <tr>\n",
       "      <th>pt</th>\n",
       "      <td>português</td>\n",
       "      <td>1831289660</td>\n",
       "    </tr>\n",
       "  </tbody>\n",
       "</table>\n",
       "</div>"
      ],
      "text/plain": [
       "         name        fsize\n",
       "en    English  18267134864\n",
       "de    Deutsch   5877797639\n",
       "fr   français   4972442407\n",
       "ru    русский   4224935955\n",
       "ja        日本語   3309015603\n",
       "es    español   3144443923\n",
       "it   italiano   3129866871\n",
       "zh         中文   2122775813\n",
       "pl     polski   2024669975\n",
       "pt  português   1831289660"
      ]
     },
     "execution_count": 6,
     "metadata": {},
     "output_type": "execute_result"
    }
   ],
   "source": [
    "dumps.sort_values('fsize', ascending=False).head(10) # largest wikis included"
   ]
  },
  {
   "cell_type": "code",
   "execution_count": 7,
   "id": "integrated-manor",
   "metadata": {},
   "outputs": [
    {
     "data": {
      "text/html": [
       "<div>\n",
       "<style scoped>\n",
       "    .dataframe tbody tr th:only-of-type {\n",
       "        vertical-align: middle;\n",
       "    }\n",
       "\n",
       "    .dataframe tbody tr th {\n",
       "        vertical-align: top;\n",
       "    }\n",
       "\n",
       "    .dataframe thead th {\n",
       "        text-align: right;\n",
       "    }\n",
       "</style>\n",
       "<table border=\"1\" class=\"dataframe\">\n",
       "  <thead>\n",
       "    <tr style=\"text-align: right;\">\n",
       "      <th></th>\n",
       "      <th>name</th>\n",
       "      <th>fsize</th>\n",
       "    </tr>\n",
       "  </thead>\n",
       "  <tbody>\n",
       "    <tr>\n",
       "      <th>nqo</th>\n",
       "      <td>ߒߞߏ</td>\n",
       "      <td>1049963</td>\n",
       "    </tr>\n",
       "    <tr>\n",
       "      <th>jbo</th>\n",
       "      <td>la .lojban.</td>\n",
       "      <td>1074932</td>\n",
       "    </tr>\n",
       "    <tr>\n",
       "      <th>pdc</th>\n",
       "      <td>Deitsch</td>\n",
       "      <td>1085523</td>\n",
       "    </tr>\n",
       "    <tr>\n",
       "      <th>nov</th>\n",
       "      <td>Novial</td>\n",
       "      <td>1111229</td>\n",
       "    </tr>\n",
       "    <tr>\n",
       "      <th>mdf</th>\n",
       "      <td>мокшень</td>\n",
       "      <td>1119182</td>\n",
       "    </tr>\n",
       "    <tr>\n",
       "      <th>smn</th>\n",
       "      <td>anarâškielâ</td>\n",
       "      <td>1149766</td>\n",
       "    </tr>\n",
       "    <tr>\n",
       "      <th>lbe</th>\n",
       "      <td>лакку</td>\n",
       "      <td>1188547</td>\n",
       "    </tr>\n",
       "    <tr>\n",
       "      <th>tet</th>\n",
       "      <td>tetun</td>\n",
       "      <td>1222946</td>\n",
       "    </tr>\n",
       "    <tr>\n",
       "      <th>kbp</th>\n",
       "      <td>Kabɩyɛ</td>\n",
       "      <td>1316060</td>\n",
       "    </tr>\n",
       "    <tr>\n",
       "      <th>tpi</th>\n",
       "      <td>Tok Pisin</td>\n",
       "      <td>1371967</td>\n",
       "    </tr>\n",
       "  </tbody>\n",
       "</table>\n",
       "</div>"
      ],
      "text/plain": [
       "            name    fsize\n",
       "nqo          ߒߞߏ  1049963\n",
       "jbo  la .lojban.  1074932\n",
       "pdc      Deitsch  1085523\n",
       "nov       Novial  1111229\n",
       "mdf      мокшень  1119182\n",
       "smn  anarâškielâ  1149766\n",
       "lbe        лакку  1188547\n",
       "tet        tetun  1222946\n",
       "kbp       Kabɩyɛ  1316060\n",
       "tpi    Tok Pisin  1371967"
      ]
     },
     "execution_count": 7,
     "metadata": {},
     "output_type": "execute_result"
    }
   ],
   "source": [
    "dumps.sort_values('fsize').head(10) # smallest wikis included"
   ]
  },
  {
   "cell_type": "code",
   "execution_count": 23,
   "id": "august-judgment",
   "metadata": {},
   "outputs": [
    {
     "data": {
      "text/plain": [
       "<AxesSubplot:ylabel='Frequency'>"
      ]
     },
     "execution_count": 23,
     "metadata": {},
     "output_type": "execute_result"
    },
    {
     "data": {
      "image/png": "[encoded data removed]",
      "text/plain": [
       "<Figure size 432x288 with 1 Axes>"
      ]
     },
     "metadata": {
      "needs_background": "light"
     },
     "output_type": "display_data"
    }
   ],
   "source": [
    "dumps['fsize'].plot.hist(bins=30) # many small wikis, just a few big wikis"
   ]
  },
  {
   "cell_type": "markdown",
   "id": "wrapped-theology",
   "metadata": {},
   "source": [
    "Here is an example of Qaraqalpaqsha's raw dump file:"
   ]
  },
  {
   "cell_type": "code",
   "execution_count": 9,
   "id": "cheap-compression",
   "metadata": {},
   "outputs": [
    {
     "data": {
      "text/plain": [
       "['<mediawiki xmlns=\"http://www.mediawiki.org/xml/export-0.10/\" xmlns:xsi=\"http://www.w3.org/2001/XMLSchema-instance\" xsi:schemaLocation=\"http://www.mediawiki.org/xml/export-0.10/ http://www.mediawiki.org/xml/export-0.10.xsd\" version=\"0.10\" xml:lang=\"kaa\">\\n',\n",
       " '  <siteinfo>\\n',\n",
       " '    <sitename>Wikipedia</sitename>\\n',\n",
       " '    <dbname>kaawiki</dbname>\\n',\n",
       " '    <base>https://kaa.wikipedia.org/wiki/Bas_bet</base>\\n',\n",
       " '    <generator>MediaWiki 1.36.0-wmf.31</generator>\\n',\n",
       " '    <case>first-letter</case>\\n',\n",
       " '    <namespaces>\\n',\n",
       " '      <namespace key=\"-2\" case=\"first-letter\">Media</namespace>\\n',\n",
       " '      <namespace key=\"-1\" case=\"first-letter\">Arnawlı</namespace>\\n',\n",
       " '      <namespace key=\"0\" case=\"first-letter\" />\\n',\n",
       " '      <namespace key=\"1\" case=\"first-letter\">Sa\\'wbet</namespace>\\n',\n",
       " '      <namespace key=\"2\" case=\"first-letter\">Paydalanıwshı</namespace>\\n',\n",
       " '      <namespace key=\"3\" case=\"first-letter\">Paydalanıwshı sa\\'wbeti</namespace>\\n',\n",
       " '      <namespace key=\"4\" case=\"first-letter\">Wikipedia</namespace>\\n',\n",
       " '      <namespace key=\"5\" case=\"first-letter\">Wikipedia sa\\'wbeti</namespace>\\n',\n",
       " '      <namespace key=\"6\" case=\"first-letter\">Su\\'wret</namespace>\\n',\n",
       " '      <namespace key=\"7\" case=\"first-letter\">Su\\'wret sa\\'wbeti</namespace>\\n',\n",
       " '      <namespace key=\"8\" case=\"first-letter\">MediaWiki</namespace>\\n',\n",
       " '      <namespace key=\"9\" case=\"first-letter\">MediaWiki sa\\'wbeti</namespace>\\n']"
      ]
     },
     "execution_count": 9,
     "metadata": {},
     "output_type": "execute_result"
    }
   ],
   "source": [
    "f = open('./datagather/kaa-raw.xml', 'r')\n",
    "exdump = f.readlines()\n",
    "f.close()\n",
    "exdump[:20]"
   ]
  },
  {
   "cell_type": "code",
   "execution_count": 10,
   "id": "cultural-flood",
   "metadata": {},
   "outputs": [
    {
     "data": {
      "text/plain": [
       "['      <sha1>j4b51cvuaoqrzh27274l7fzp3q29453</sha1>\\n',\n",
       " '    </revision>\\n',\n",
       " '  </page>\\n',\n",
       " '  <page>\\n',\n",
       " \"    <title>A'jiniyaz</title>\\n\",\n",
       " '    <ns>0</ns>\\n',\n",
       " '    <id>152</id>\\n',\n",
       " '    <revision>\\n',\n",
       " '      <id>43321</id>\\n',\n",
       " '      <parentid>30626</parentid>\\n',\n",
       " '      <timestamp>2020-05-01T08:16:04Z</timestamp>\\n',\n",
       " '      <contributor>\\n',\n",
       " '        <ip>185.163.26.25</ip>\\n',\n",
       " '      </contributor>\\n',\n",
       " '      <model>wikitext</model>\\n',\n",
       " '      <format>text/x-wiki</format>\\n',\n",
       " '      <text bytes=\"7440\" xml:space=\"preserve\">\\'\\'\\'A\\'jiniyaz Qosıbay ulı\\'\\'\\' (a\\'debiy laqabı \\'\\'Ziywar\\'\\') - XIX a\\'sirdegi qaraqalpaq klassik a\\'debiyatının\\' en\\' o\\'rnekli wa\\'killerinin\\' biri. Ol do\\'retiwshiliginde o\\'zine ta\\'n o\\'zgeshelikke iye, og\\'ada talantlı, oqımıslı, medreseni ayrıqsha tamamlag\\'an aqun, ulama, ko\\'rkem so\\'z sheberi sıpatında basqalardan ayrılıp turatug\\'ın uqıplılıq penen o\\'z da\\'wirinin\\' progressiv idealların ju\\'zege shıg\\'ardı, anıq turmıs haqıyqatlıg\\'ın sheber qurılg\\'an poetikalıq obrazlı ibaralarda o\\'tkir oy-pikirler menen ta\\'sirli sa\\'wlelendirdi.\\n',\n",
       " '\\n',\n",
       " '=== Tuwiliwi ===\\n',\n",
       " \"A'jiniyaz shayır 1824-jılı [[Moynaq|Moynaq]] rayonı aymag'ında qaraslı &quot;Qamıs bo'get&quot; degen jerde orta xallı diyxan xojalıg'ında du'nyag'a keledi. Ol qaraqalpaqtın' Qon'ırat arısı ashamaylı [[Urıw|urıwının']] saqıw tiresinen. A'jiniyazdın' a'kesi Qosıbay, onın' a'kesi Baltabek, arg'ı atası Aqjigit o'z da'wirinin' batır, sawatlı adamları bolg'an. Anası Naziyra so'zge sheshen, dilwar, ha'zir juwap, o'tkir pikirli adam bolıp xalıq danalıqların, naqıl-maqallardı, ushırma so'zlerdi, da'stanlardı, terme-tolg'awlardı, xalıq qosıqlarların ju'da' jaqsı bilgen. \\n\"]"
      ]
     },
     "execution_count": 10,
     "metadata": {},
     "output_type": "execute_result"
    }
   ],
   "source": [
    "exdump[3745:3765]"
   ]
  },
  {
   "cell_type": "markdown",
   "id": "brutal-compromise",
   "metadata": {},
   "source": [
    "I considered dumps that were less than 1MB to be too small and I excluded them, because they do not hold enough text. This becomes very clear once the XML is removed. I'll show an example of this in the next section."
   ]
  },
  {
   "cell_type": "markdown",
   "id": "unlimited-consumer",
   "metadata": {},
   "source": [
    "# 2: Remove the XML and wikipedia formatting"
   ]
  },
  {
   "cell_type": "markdown",
   "id": "aggressive-benefit",
   "metadata": {},
   "source": [
    "One of the languages that ultimately gets excluded is Qafár af. Here I'll read in its expanded dump file:"
   ]
  },
  {
   "cell_type": "code",
   "execution_count": 11,
   "id": "satisfied-internet",
   "metadata": {},
   "outputs": [],
   "source": [
    "f = open('datagather/aa-raw.xml')\n",
    "aaraw = f.readlines()\n",
    "f.close()"
   ]
  },
  {
   "cell_type": "code",
   "execution_count": 12,
   "id": "universal-commissioner",
   "metadata": {},
   "outputs": [
    {
     "data": {
      "text/plain": [
       "5526"
      ]
     },
     "execution_count": 12,
     "metadata": {},
     "output_type": "execute_result"
    }
   ],
   "source": [
    "len(aaraw)"
   ]
  },
  {
   "cell_type": "code",
   "execution_count": 13,
   "id": "thirty-centre",
   "metadata": {},
   "outputs": [
    {
     "data": {
      "text/plain": [
       "['<mediawiki xmlns=\"http://www.mediawiki.org/xml/export-0.10/\" xmlns:xsi=\"http://www.w3.org/2001/XMLSchema-instance\" xsi:schemaLocation=\"http://www.mediawiki.org/xml/export-0.10/ http://www.mediawiki.org/xml/export-0.10.xsd\" version=\"0.10\" xml:lang=\"aa\">\\n',\n",
       " '  <siteinfo>\\n',\n",
       " '    <sitename>Wikipedia</sitename>\\n',\n",
       " '    <dbname>aawiki</dbname>\\n',\n",
       " '    <base>https://aa.wikipedia.org/wiki/Main_Page</base>\\n',\n",
       " '    <generator>MediaWiki 1.36.0-wmf.32</generator>\\n',\n",
       " '    <case>first-letter</case>\\n',\n",
       " '    <namespaces>\\n',\n",
       " '      <namespace key=\"-2\" case=\"first-letter\">Media</namespace>\\n',\n",
       " '      <namespace key=\"-1\" case=\"first-letter\">Special</namespace>\\n',\n",
       " '      <namespace key=\"0\" case=\"first-letter\" />\\n',\n",
       " '      <namespace key=\"1\" case=\"first-letter\">Talk</namespace>\\n',\n",
       " '      <namespace key=\"2\" case=\"first-letter\">User</namespace>\\n',\n",
       " '      <namespace key=\"3\" case=\"first-letter\">User talk</namespace>\\n',\n",
       " '      <namespace key=\"4\" case=\"first-letter\">Wikipedia</namespace>\\n',\n",
       " '      <namespace key=\"5\" case=\"first-letter\">Wikipedia talk</namespace>\\n',\n",
       " '      <namespace key=\"6\" case=\"first-letter\">File</namespace>\\n',\n",
       " '      <namespace key=\"7\" case=\"first-letter\">File talk</namespace>\\n',\n",
       " '      <namespace key=\"8\" case=\"first-letter\">MediaWiki</namespace>\\n',\n",
       " '      <namespace key=\"9\" case=\"first-letter\">MediaWiki talk</namespace>\\n']"
      ]
     },
     "execution_count": 13,
     "metadata": {},
     "output_type": "execute_result"
    }
   ],
   "source": [
    "aaraw[:20]"
   ]
  },
  {
   "cell_type": "markdown",
   "id": "underlying-bachelor",
   "metadata": {},
   "source": [
    "At first glance, this language's XML file has 5526 lines, which sounds like enough to at least get a good sampling of what the language looks like. But then I stripped all the XML and extra Wikipedia information off."
   ]
  },
  {
   "cell_type": "code",
   "execution_count": 14,
   "id": "parental-yahoo",
   "metadata": {},
   "outputs": [],
   "source": [
    "f = open('datagather/aa.txt')\n",
    "aa = f.readlines()\n",
    "f.close()"
   ]
  },
  {
   "cell_type": "code",
   "execution_count": 15,
   "id": "attempted-origin",
   "metadata": {},
   "outputs": [
    {
     "data": {
      "text/plain": [
       "['{\"id\": \"1426\", \"revid\": \"2266\", \"url\": \"https://aa.wikipedia.org/wiki?curid=1426\", \"title\": \"Main page\", \"text\": \"\"}\\n',\n",
       " '{\"id\": \"2105\", \"revid\": \"361\", \"url\": \"https://aa.wikipedia.org/wiki?curid=2105\", \"title\": \"Wikipedia\", \"text\": \"Wikipedia bödero kœáth amliethog e rhyδ gē gell tō un gelœga. Denn grëað zero œáthws ar ðechre di zera gentannwm hon.\"}\\n']"
      ]
     },
     "execution_count": 15,
     "metadata": {},
     "output_type": "execute_result"
    }
   ],
   "source": [
    "aa"
   ]
  },
  {
   "cell_type": "markdown",
   "id": "traditional-incidence",
   "metadata": {},
   "source": [
    "As you can see, the output of the tool I used is one json object per page/article. From 5526 lines, Qafár af is left with just two pages, one of which has no text at all. The other page is just a sentence long; it seems to be a message notifying users that this wikipedia is closed and not maintained. This is why I excluded languages whose raw dump files are smaller than 1MB."
   ]
  },
  {
   "cell_type": "markdown",
   "id": "final-millennium",
   "metadata": {},
   "source": [
    "Returning to Qaraqalpaqsha, which I showed the raw dump for earlier, here is its Wikipedia with the XML and Wikipedia formatting removed:"
   ]
  },
  {
   "cell_type": "code",
   "execution_count": 16,
   "id": "czech-breed",
   "metadata": {},
   "outputs": [],
   "source": [
    "f = open('datagather/kaa-extracted.txt', 'r')\n",
    "kaa = f.readlines()\n",
    "f.close()\n",
    "# kaa = [ w.encode('utf-8').decode('raw_unicode_escape') for w in kaa]"
   ]
  },
  {
   "cell_type": "code",
   "execution_count": 17,
   "id": "concerned-jewelry",
   "metadata": {},
   "outputs": [
    {
     "data": {
      "text/plain": [
       "['{\"id\": \"16\", \"revid\": \"19\", \"url\": \"https://kaa.wikipedia.org/wiki?curid=16\", \"title\": \"Main Page\", \"text\": \"\"}\\n',\n",
       " '{\"id\": \"140\", \"revid\": \"6\", \"url\": \"https://kaa.wikipedia.org/wiki?curid=140\", \"title\": \"Bas bet/Interwikis\", \"text\": \"&lt;includeonly&gt; &lt;/includeonly&gt;\"}\\n',\n",
       " '{\"id\": \"148\", \"revid\": \"17\", \"url\": \"https://kaa.wikipedia.org/wiki?curid=148\", \"title\": \"A\\'bdiraman O\\'tepov\", \"text\": \"A\\'bdiraman O\\'tepov (1905-1934) - qaraqalpaq dramaturgiyasının\\' tiykarın salıwshılardın\\' biri. Ol talantlı dramaturg, rejissyor, aktyor, muzıkant, ko\\'rnekli teatr iskeri sıpatında qaraqalpaq xalqının\\' tariyxında belgili iz qaldırdı. \\\\nA\\'.O\\'tepov 1905 jılı Qon\\'ıratta mayda sawdager semyasında tuwıldı. 1906 jılı a\\'kesi semyası menen Aral ten\\'izinin\\' qubla-shıg\\'ıs jag\\'asına jaqın Qosjap degen jerge ko\\'ship keledi ha\\'m balıq o\\'ndirisi ka\\'sibi menen shug\\'ıllana baslaydı. Bul O\\'tepovtın\\' semyasının\\' ruslar menen jaqınlasıwına mu\\'mkinshilik tuwdırdı.\\\\n1910 jılı ol Nikolay Trofimov degen rus adamı menen birigip, balıq qabıllaytug\\'ın ham duzlaytug\\'ın punkt sho\\'lkemlestiredi. Usı punkte islegen balıqtı qayta isleytug\\'ın qa\\'nige rus jigiti Nikolay Sorokin kishkene A\\'bdiramannın\\' en\\' jaqın dostı bolıp qaladı. Ol Sorokinnen ko\\'p na\\'rselerdi u\\'yrendi. Ruslar keleshek dramaturgtin\\' u\\'yine tez-tez kelip turatug\\'ın edi. A\\'.O\\'tepovtın\\' semyasının\\' Lutsenko menen tanısıwı onın\\' jeke o\\'mirinde u\\'lken a\\'hmiyetke iye boldı. Ol jas A\\'.O\\'tepovqa ko\\'p na\\'rselerdi u\\'yretti. Onı Evropa ma\\'deniyatı menen tanıstırdı. A\\'.O\\'tepov bala waqıtlarınan baslap-aq o\\'z xalqının\\' turmısın da jaqsı biletug\\'ın edi. Xalıqtın\\' milliy bayramlarına qatnasıp, qaraqalpaq xalqının\\' u\\'rp-a\\'det da\\'stu\\'rlerin, baqsı-jıraw, qıssaxanların, juwabıy qız kelinsheklerin korgen ha\\'m olardın\\' iskusstvosı menen jaqınnan tanıs bolg\\'an. Shıg\\'ıs klassikleri shıg\\'armaların qızıg\\'ıp u\\'yrengen. Qaraqalpaq xalqının\\' muzıka ma\\'deniyatı ha\\'m onın\\' ha\\'r qıylı janrların da baqsı-jırawlardan u\\'yrengen. Solay etip, A\\'.O\\'tepov eki ma\\'deniyattın\\' rus ha\\'m qaraqalpaq xalıqlarının\\' ma\\'deniyatlarının\\' ta\\'sirinde ta\\'rbiyalandı. \\\\n1920 jıldan baslap ol Qon\\'ırat qalasında du\\'zilgen Chon otryadına ag\\'za boladı. Usı jerde mug\\'allim Qasım Yashımov ta\\'repinen sholkemlestirilgen tatar jaslarının\\' ha\\'weskerler do\\'gereginin\\' jumısı menen tanısadı. Bul do\\'gerektın\\' spektakllerine ha\\'m repetitsiyalarına turaqlı tu\\'rde qatnasadı. 1920 jılı Qon\\'ıratqa quramında Tu\\'rkistan frontı shtabının\\' siyasiy-ag\\'artıw jumısları boyınsha wa\\'kili Hamza Ha\\'kimzada Niyaziy bolg\\'an bolg\\'an atlı eskadron keledi. Sol jılı Hamza eki pesanı (\\\\\"Tu\\'rkistan ta\\'wibi\\\\\", \\\\\"Shın urıs\\\\\") saxnalastıradı ha\\'m olardı xalıqqa ko\\'rsetedi. Bul waqıyalar A\\'.O\\'tepovtın\\' o\\'mirinde u\\'lken rol oynaydı. 1921 jılı Hamza Qon\\'ıratqa \\\\\"Sayeri\\\\\" atlı Xorezm truppası menen ekinshi ret keledi. Truppanın\\' ha\\'m onın\\' baslıg\\'ı Hamzanın\\' ja\\'rdemi menen Qon\\'ıratta 18 adamnan ibarat bolg\\'an teatr do\\'geregi du\\'ziledi, og\\'an S.Ma\\'jitov basshı bolıp belgilendi. \\\\nA\\'.O\\'tepov 1922 jıllardan baslap da\\'slepki dramalıq shıg\\'armaların jazıwg\\'a kirisedi, \\\\\"Zindan\\\\\", \\\\\"Jezdejan\\\\\" atlı instsenirovkalar do\\'retedi. Bul eki instsenirovka forması boyınsha da\\'stanlardag\\'ı salt-da\\'stu\\'r qosıqlarındag\\'ı aytıstı eske tu\\'siredi. 1923-24 jıllarda A\\'.O\\'tepov usınday stilde birqansha instsenirovkalar do\\'retedi, \\\\\"Altın gu\\'l\\\\\", \\\\\"Ketsen\\' nettim\\\\\", \\\\\"Taza qonıs\\\\\" t.b. Da\\'slepki instsenirovkalarının\\' forması folklorlıq shıg\\'armalardın\\' formasına megzes bolg\\'anı menen mazmunına jan\\'a da\\'wir ruhı sin\\'dirilgen. \\\\n1925 jılı A\\'.O\\'tepov A.Begimov penen birgelikte Qon\\'ırat rayonınan teatr do\\'geregin sho\\'lkemlestiredi. A\\'.O\\'tepov do\\'gerek ushın bir aktli \\\\\"Sha\\'leke bay\\\\\" atlı pesa jazadı. Avtor shıg\\'armada qaharmanlar xarakterin ashıwda xalıq do\\'rtiwshiliginin\\' bay ta\\'jiriybesinen paydalanadı. \\\\nA\\'.O\\'tepov 1925-26 jılları Ayapbergen Muwsaev penen tanısadı, onın\\' ta\\'siri menen o\\'zinin\\' \\\\\"Shahizada\\\\\" da\\'stanın jazadı. 1927 jılı ol To\\'rtku\\'ldegi awıllıq ken\\'es basqarıwshıların tayarlaytug\\'ın u\\'sh aylıq kurske kirip oqıydı. Kursta oqıp ju\\'rip rus, tatar, o\\'zbek, qazaq teatr do\\'gereklarının\\' jumısları menen jaqınnan tanısadı. Pedtexnikum janındag\\'ı \\\\\"Tan\\' nurı\\\\\" truppasına qosılıp, onın\\' repertuarına o\\'zinin\\' shıg\\'armaların qayta islep kirgizedi. Usı jıldan A\\'.O\\'tepovqa milliy truppanı basqarıw wazıypası tapsırıladı.\\\\nQaraqalpaqstanda milliy teatrdın\\' ashılıwı A\\'.O\\'tepovtın\\' atı menen baylanıslı, ol teatrdın\\' birinshi direktorı boldı. 1932 jıl 23-apreldegi Oraylıq Komitettin\\' \\\\\"Ko\\'rkem a\\'debiyat sho\\'lkemlerin qayta du\\'ziw haqqındag\\'ı\\\\\" qararı A\\'.O\\'tepovtın\\' do\\'retiwshilik iskerliginde sezilerlik alg\\'a ilgerilew payda etti. A\\'sirese, onın\\' rus teatrının\\' ataqlı rejisserı V.E.Meyerxoldtın\\' sha\\'kirti İ.V.Korinman menen birge islesiwi do\\'retiwshiligine u\\'lken ta\\'sirin tiygizdi. 1932 jıldan baslap onın\\' shıg\\'armalarında turmıstı ko\\'rkem su\\'wretlewdin\\' agitatsiyalıq-illyustrativlik formasınan kem-kem quramalı formag\\'a o\\'tiwi seziledi. Ol turmıstan ken\\' xarakterli detallardı tabıwg\\'a talpınadı, qaharmanlardın\\' ha\\'reketlerin isenimli jaratadı. Rus dramaturglerinin\\' ha\\'m sol jılları durıs jolg\\'a tu\\'sken tuwısqan milliy respublikalardın\\' dramaturglerinin\\' ta\\'siri menen A\\'.O\\'tepov bahalı ko\\'rkem shıg\\'armalar do\\'retiwge kirisedi. A\\'.O\\'tepovtı rus dramaturgiyasının\\' en\\' jaqsı shıg\\'armaları menen tanıstırg\\'an, og\\'an sheberligin arttırıwda g\\'amxorlıq etken V.İ.Korinmannın\\' xızmetin ayrıqsha atap o\\'tiw kerek. A\\'.O\\'tepov o\\'zinin\\' do\\'retiwshilik ku\\'shinin\\' tolısıp rawajlang\\'an da\\'wirinde 29 jasında qaytıs boldı. A\\'.O\\'tepovtın\\' do\\'retiwshiligi 1920-1934 jıllar arasındagı 14 jıldı o\\'z ishine aladı. Ol a\\'debiyatımız tariyxında u\\'lken a\\'debiy miyras qaldırdı: 16 iri shıg\\'arma ha\\'m 40 tan aslam instsenirovka jazdı. Ko\\'lemli shıg\\'armalarının\\' qatarına \\\\\"Tenin tapqan qız\\\\\", \\\\\"Ashlıq zarı\\\\\", \\\\\"Eki baslı suwqabaq\\\\\", \\\\\"Odekolon\\\\\", \\\\\"900 gramm\\\\\", \\\\\"Jalqaw diyxan\\\\\", \\\\\"Kolxoz turmısı\\\\\", \\\\\"A\\'ne qalas\\\\\", \\\\\"Gu\\'man\\\\\", \\\\\"Gu\\'lzada\\\\\" h.t.b. shıg\\'armaları jatadı.\\\\nA\\'.O\\'tepovtın\\' do\\'retiwshiliginin\\' o\\'zgesheligi, onın\\' barlıq shıg\\'armalarının\\' derlik zamanago\\'y temag\\'a arnalıp jazılıwınan ibarat edi (\\\\\"Ashlıq zarı\\\\\" pesasınan tısqarı). Onın\\' shıg\\'armaları agitatsiyalıq xarakterge iye boldı, olardın\\' tiykarında sol da\\'wirdin\\' a\\'hmiyetli ma\\'seleleri turdı. A\\'. O\\'tepovtın\\' shıg\\'armalarının\\' tag\\'ı bir o\\'zgesheligi, onın\\' folklordın\\' en\\' jaqsı da\\'stu\\'rlerın sheber paydalanıwında korinedi. Ol o\\'zinin\\' shıg\\'armalarına folklordın\\' aytıs formasın orınlı kirgizedi, xalıqtın\\' su\\'yip tın\\'laytug\\'ın \\\\\"Bozataw\\\\\", \\\\\"Eshbay\\\\\" atlı qosıqların ken\\' paydalanadı. A\\'.O\\'tepovtın\\' do\\'retiwshilik jolı qısqa instsenirovkalardan baslanadı. Ol turmıslıq faktlerdi ha\\'m waqıyalardı saxnada ha\\'reket arqalı ko\\'rsetiwde onın\\' tamashago\\'ylerdi ta\\'rbiyalawshılıq, u\\'yretiwshilik roline u\\'lken a\\'hmiyet berdi. Bunın\\' ushın ol turmıslıq elementlerdi saxnanın\\' sharayatları menen, sonday-aq qaharmanlıq, lirikalıq elementlerdi ku\\'lkili, satiralıq elementler menen birlestire aldı.\\\\nA\\'.O\\'tepovtın\\' doretiwshiliginde iri ko\\'lemli ha\\'m en\\' xarakterli shıg\\'armalarınan onın\\' ko\\'p aktli \\\\\"Ten\\'in tapqan qız\\\\\", \\\\\"Boyawshı wa\\'kil\\\\\", \\\\\"Gu\\'man\\\\\" pesaları bolıp tabıladı. \\\\\"Ten\\'in tapqan qız\\\\\" shıg\\'armasının\\' birinshi variantı 1925-1927 jılları \\\\\"Sha\\'leke bay\\\\\" degen at penen jazılg\\'an edi. Son\\'g\\'ı jılları dramturg onı birneshe ret qayta islep shıg\\'ıp, ha\\'r saparı jan\\'alıqlar kirgizdi. Shıg\\'arma ja\\'miyetshilik ta\\'repinen joqarı bahalandı. Dramaturg bul shıg\\'armasında o\\'z da\\'wirinin\\'\\\\nen\\' a\\'hmiyetli ma\\'selesi-hayal-qızlar ten\\'ligin su\\'wretleydi.\\\\n\\\\\"Boyawshı wa\\'kil\\\\\" pesası da qaraqalpaq a\\'debiyatında drama janrının\\' qa\\'liplesiwinde belgili orın iyeleydi. Pesanın\\' waqıyası respublikanın\\' rayonlarındag\\'ı bir awılda boladı. Bul jerge rayonnan Palımbet degen wa\\'kil miynet protsesin sho\\'lkemlestiriwge ja\\'rdem beriw ushın jiberilgen. Biraq ol miynet ta\\'rtibin bosan\\'lastırıp, jumıs waqtında qız-jigitlerdi jıynap otırıspalar quradı. Awılga komissiya kelip. awıl adamlarının\\' ja\\'rdemi menen ko\\'z boyawshı wa\\'kil a\\'shkaralanadı. Pesanın\\' qısqasha mzmunı usınnan ibarat. \\\\\"Boyawshı wa\\'kil\\\\\" pesasında ayırım adamlardın\\' jeke ma\\'plerinin\\' ja\\'miyetlik ma\\'pke qarama-qarsı keliwi tiykarg\\'ı konfliktti du\\'zedi. Bul pesanı \\\\\"Ten\\'in tapqan qız\\\\\" pesası menen salıstırg\\'anda dramaturgtın\\' do\\'retiwshiligindegi o\\'siwshilikti seziwge boladı. Palımbettin\\' obrazı turmıstan alıngan. Onın\\' ha\\'reketleri pesanın\\' orayında turadı. Pesag\\'a qatnasıwshı qaharmanlardı tan\\'lap alıwda avtor turmıstın\\' tariyxıy rawajlanıw barısı menen sanasa otırıp, olardın\\' psixologiyasın isenimli jaratqan. \\\\nA\\'.O\\'tepovtın\\' sotsiallıq turmıs ma\\'selelerine arnalg\\'an \\\\\"Gu\\'man\\\\\" pesası 1932 jılı jazıldı. Pesada jan\\'a qaraqalpaq shan\\'arag\\'ının\\' mashqalaları ortag\\'a qoyılg\\'an. \\\\\"Gu\\'man\\\\\" pesası kompozitsiyalıq, syujetlik, fabulalıq qurılısı, obrazlar sisteması jag\\'ınan onın\\' burıng\\'ı shıg\\'armalarınan artıqmashılıqqa iye. Shıg\\'arma qaharmanı Murat rayonlıq atqarıw komitetinin\\' bo\\'lim baslıg\\'ı bolıp isleytug\\'ın o\\'mirlik joldası Ajarg\\'a gu\\'man menen qaraydı. Ajar jumısları ko\\'p bolg\\'anlıqtan u\\'yge waqtında kele almaydı, bug\\'an ku\\'yewi hesh isenbeydi. U\\'y xızmetkeri Ma\\'rziya olardın\\' arasına ot taslaydı, ja\\'njeldi o\\'z ma\\'pine paydalang\\'ısı keledi. O\\'sek so\\'zler aytadı. Pesanın\\' son\\'ında Murat gu\\'man ha\\'m qızg\\'anısh sebepli o\\'z hayalın atıp o\\'ltiredi. Dramaturg pesag\\'a qatnasıwshılardı su\\'wretlewde olardın\\' ha\\'r birinin\\' konkret xarakterin beriwge, adamnın\\' ishki du\\'nyasındag\\'ı o\\'zgerislerdi ashıwg\\'a ha\\'reket etedi. A\\'.O\\'tepovtın\\' shıg\\'armaları qaraqalpaq a\\'debiyatında drama janrının\\' tun\\'g\\'ısh do\\'retpeleri esaplanadı.\"}\\n',\n",
       " '{\"id\": \"149\", \"revid\": \"17\", \"url\": \"https://kaa.wikipedia.org/wiki?curid=149\", \"title\": \"A\\'bilg\\'azı Baxadırxan\", \"text\": \"Orta Aziyanın\\' oraylıq qatlamlarında XV-a\\'sirden baslap jazılg\\'an birqansha tu\\'rki qoljazbalar ushıraydı. Olardın\\' arasındag\\'ı en\\' dıqqatqa sazawar shıg\\'armalardın\\' biri sap tu\\'rki tilinde jazılg\\'an Xiywa xanı A\\'bilg\\'azı Bahadırxannın\\' (1663-1677 j.) \\'Shejiraiy tu\\'rk\\' (Tu\\'rikler shejiresi) dep atalg\\'an miyneti. Bul tu\\'rki xalıqlardın kelip shıg\\'ıwı haqqındag\\'ı da\\'slepki ilimiy miynetlerdin\\' biri bolıp o\\'z qunlılıg\\'ı menen a\\'dewir ajıralıp turadı.\\\\nA\\'bilg\\'azı 1603-jılı 23 avgustta U\\'rgenish qalasında tuwılg\\'an. O\\'zi Qon\\'ırat a\\'wladlarına tiyisli ha\\'kim a\\'wladlarınan bolıp on jeti jasınan baslap Xabash ha\\'m Jolbarıs Sultanlar menen taxtqa talasqan. Son\\'ınan Buxarag\\'a qashıp ketip İsfandiyar xan bolg\\'an (1623) jılları Xorezmge qaytıp keledi. U\\'rgenishke ha\\'kim etip tayınlanadı. Biraq son\\'ınan 1627-jılı İsfandiyar xan ta\\'repinen quwg\\'ıng\\'a ushıraydı. Bunnan keyin Turkstang\\'a qaraqalpaqlar arasına qashıp baradı. Ol jerde 1630-jılg\\'a shekem jasag\\'an. Son\\'ınan İrang\\'a o\\'tip ketip 12 jıl dawamında quwg\\'ınlıqta o\\'mir keshiredi. Son\\'ınan İsfandiyar o\\'liminen son\\' Xorezmge qaytıp kelip 1644-jılı qaraqalpaqlar ha\\'m Arallı o\\'zbeklerinin quwatlawı tiykarında Xiywag\\'a xan bolg\\'an. Ol Xiywa xanlıg\\'ın jigirma jıl dawamında basqarg\\'an. Son\\'ınan o\\'zinin\\' payg\\'ambar jasına jetiwine baylanıslı xanlıqtı balası Anusha xang\\'a (1663-1687) tapsırıp \\'Tu\\'rki mon\\'g\\'ol xalıqları shejiresi\\' kitabın jazıwdı qolg\\'a aladı. Biraq bir jıldan keyin A\\'bilg\\'azı tosattan qaytıs boladı. Kitap tamamlanbay qalg\\'an ushında Anusha xan onı dawam\\' etiw ushın saray diywanbegilerinen bolg\\'an Maxmud İbn Muxammed U\\'rgenishiyge tapsırılg\\'an. Sonın\\' ushında tariyxshılar bul kitaptın\\' I-VI bapla\\'rı Muxammed U\\'rgenishiy ta\\'repinen jazılg\\'an degen juwmaqqa keledi.\\\\nA\\'bilg\\'azı Bahadırxan shınında da talantlı ha\\'m ta\\'jiriybeli adam bolg\\'an. Sebebi onın\\' jig\\'irma jıllıq o\\'miri quwg\\'ıplıqta o\\'tip, ol bul arada Buxara, Turkstan, Tashkent ha\\'m İran xanlarının\\' turmısı menen jaqınnan tanıs bolg\\'an. A\\'sirese ol qazaq, qaraqalpaq ha\\'m tu\\'rkmen xalıqlarının\\' turmısın ha\\'m tariyxıy a\\'n\\'gimelerin jaqsı bilgen. Ma\\'selen onın 1630-jılı qazaq xanı Tursınnan ja\\'rdem sorap Tashkentke barıwı, 1631-jılı Xorezm tu\\'rkmenleri ta\\'repinen jaqsı qabıl alınıwı, 1643-jılı Qon\\'ırat qaraqalpaqları ha\\'m Arallı o\\'zbekleri arasında bolıwı onın\\' shınında da tu\\'rk tilles xalıqlar arasına pu\\'tkilley sin\\'isip ketken adam ekenligin bildiredi. Sonın\\' ushında onın\\' jazg\\'an \\'Turki xalıqları shejireleri\\' u\\'lken ta\\'jiriybeler tiykarında payda bolg\\'an ilimiy miynet. Bul kitap tog\\'ız baptan ibarat bolıp, birinshi bap - tap Adam Atadan Mon\\'g\\'ol xang\\'a shekem; ekinshi bap - Mong\\'ol xannan Shıng\\'ıs xang\\'a shekem; u\\'shinshi bap - Shıng\\'ıs xannın\\' tuwılıwı ha\\'m o\\'limi; to\\'rtinshi bap - U\\'gedey xan; besinshi bap - Shıg\\'atay xan; altınshı bap - A\\'l xan; jetinshi bap - Joshı xan; segizinshi bap - Shaybanıyxan; tog\\'ızınshı bap - Shaybanı xannın\\' Xorezmde patshalıq etken a\\'wladlarına bag\\'ıshlang\\'an. Ha\\'r bapta so\\'z etilgen xanlardın\\' tek o\\'zleri g\\'ana emes, ba\\'lki olardın\\' a\\'wladlarının\\' tajı, taxt saltanatların so\\'z etken.\\\\nA\\'lbette A\\'bilg\\'azıdan burında mon\\'g\\'ollar tariyxı haqqında tariyxıy shıg\\'armalar jazg\\'an alımlar bar. Ma\\'selen Rashidaddin, Mırza Ulug\\'bek ha\\'m basqalar. Lekin bul shıg\\'armalardın\\' ko\\'pshiligi parsı tilinde jazılg\\'an bolıp, tu\\'rki xalıqları ha\\'m patshaları haqqında arnawlı pikir bildirmegen. Al A\\'bilg\\'azı bolsa mon\\'g\\'ollar tariyxın jazıw menen birge turki xalıqlardın\\' kelip shıg\\'ıw tariyxında o\\'z aldına maqset etip qoyg\\'an. Onın u\\'stine tu\\'rki tilinde\\' jazılg\\'an. Sol jag\\'ınan qarag\\'anda bul shıg\\'armanın\\' tu\\'rki xalıqlar tariyxın u\\'yreniw jolındag\\'ı ornı bo\\'lek.\\\\nA\\'bilg\\'azının\\' bunnan tısqarı \\'Tu\\'rkmenler shejiresi\\' - dep atalg\\'anda belgili miyneti de bar.\"}\\n',\n",
       " '{\"id\": \"150\", \"revid\": \"8672\", \"url\": \"https://kaa.wikipedia.org/wiki?curid=150\", \"title\": \"A\\'bilqasım Ferdawsiy\", \"text\": \"A\\'bilqasım Ferdawsiy - Parsı-Ta\\'jik klassiklerinin\\' arasında ko\\'rnekli orındı iyeleydi. Ol X a\\'sirdin\\' aqırı XI a\\'sirdin\\' baslarında 934-jılı Tu\\'s qalasının\\' a\\'tirapındag\\'ı Bats awılında du\\'nyag\\'a kelgen. Onın\\' bizge miyras bolıp qalg\\'an Shaxnama (Shaxlar kitabı yamasa Shaxlar tarıyxı) kitabı 120 mın\\' qatardan aslam qosıq penen jazılg\\'an. Qırıq a\\'sirden aslam da\\'wir ishinde jasag\\'an 50 patshanın\\' o\\'mirin o\\'z ishine alg\\'an. Shayır 35 jıl o\\'mirin usı kitaptı jazıwg\\'a sarıplag\\'an. \\\\nShaxnamanı XIX a\\'sirde molla Moyın degen kisi qaraqalpaq tiline awdarg\\'an. Biraq bul awdarmanın\\' nusqası tabılmag\\'an. Prof. K.Ma\\'mbetov bılay deydi. Bizin\\' u\\'y arxivimizde (Qanlıko\\'lde jasawshı) Qa\\'dirimbet degen kisiden alıng\\'an XIX a\\'sirde ko\\'shirilgen qoljazba bar. Bulda tolıq emes Shaxnamanın\\' Zal, Ru\\'stem, Suxrab degen bo\\'limlerinen g\\'ana ibarat. Bul qara so\\'z benen awdarılg\\'an. Folklorlıq ekspeditsiyalar bul haqqında \\\\\"Eki iyninen jılan shıqqan patsha\\\\\", \\\\\"O\\'z balasın o\\'ltirgen palwan\\\\\" - dep atalg\\'an ayırım ertekler jazıp alıng\\'an. Bul ertek emes Shaxnamanın\\' ayırım bo\\'lekleri bolg\\'an.\\\\nFerdawsiy a\\'piwayı o\\'nermenttin\\' balası. Ol jaslayınan bir neshe til u\\'yrengen. Parsı-ta\\'jik folklorın jaqsı u\\'yrenip shıqqan. Ol Aziy ha\\'m İran tariyxın sonshelli bilgenligi ushın da \\\\\"Shaxnama\\\\\" jazıwdı niyet etedi. Hu\\'kimet basshısı Maxmud G\\'aznaviy o\\'z a\\'trapına shayırlardı jıynadı. Mine usı patshanın\\' usınısı menen \\\\\"Shaxnama\\\\\"nı jazadı. Ferdawsiy seksen jastan asqan shag\\'ında Bag\\'datta ju\\'rip a\\'yyemgi arab syujetleri tiykarında \\\\\"Yusup-Zulayxa\\\\\" degen da\\'stan da jazg\\'an. Shaxnama tiykarınan u\\'sh bo\\'limnen turadı:\\\\nHa\\'mmesi bolıp en\\' a\\'yyemgi da\\'wirden baslap tap arablar basıp kirgenge shekemgi İran tariyxın o\\'z ishine aladı. Birinshi bo\\'limde İran ha\\'m ta\\'jik xalıqları arasında payda bolg\\'an an\\'ızlar \\\\\"Shaxnama\\\\\"dag\\'ı erkinlik ta\\'repdarları Kayumars Xumanch, Ja\\'mshid ha\\'m Nova obrazları tiykarında su\\'wretlengen. Bunda Ja\\'mshidtin\\' patshalıq saltanatın, onın\\' dan\\'qın ta\\'riypleydi. Ferdawsiy Nova obrazın beriwde demokratiyanın\\' gu\\'resshen\\'lik xarakterdi su\\'wretleydi. Ol Zahhaq yag\\'nıy adamxor patshanı ko\\'teriliske shıg\\'ıp joq etedi.\\\\nShaxnamanın\\' ekinshi bo\\'limi Zal, Ru\\'stem ha\\'m Suhrab haqqıdag\\'ı qaharmanlıq epos. Bul qaraqalpaqlar arasında ko\\'p tarqalg\\'an bo\\'legi. Bunda Ru\\'stem ha\\'dden tısqarı batır sıpatında su\\'wretlengen. Ru\\'stem Turan sho\\'llerinde kiyik quwıp ha\\'lden tayıp, qulan go\\'shin jep, ma\\'y iship uyqlap qaladı. Oyansa Raxsh atlı atı joq. Samangan qalasına baradı. Qala patshası miyman qıladı. Patshanın\\' qızı Taxminanıxanım ashıq bolıp Ru\\'stem og\\'an u\\'ylenedi. Raxshtı da tawıp beredi. Ru\\'stem o\\'z jurtına ketedi. İran ha\\'m Turan arasındag\\'ı kelispewshilikler sebepli Ru\\'stem Turang\\'a qayta almaydı. Al Turanda tuwılg\\'an onın\\' balası Suhrab atasının\\' kim ekenligin bilmeydi de, a\\'ke ha\\'m bala sawashqa tu\\'sedi. Ru\\'stem tolıq ku\\'shine iye bolıp Suhrabtı bılg\\'ap tasqa uradı. O\\'lim halatında jatırg\\'an Suhrab o\\'z a\\'kesinin\\' atı Ru\\'stem ekenligin aytadı. Ru\\'stem o\\'z balası ekenligin bilip topıraq shashıp jılaydı. Ol balasın aman saqlap qalıw ushın Qay Qavustan balzam soraydı. Qay Qavus ata ha\\'m balanın\\' birigip ketiwinen qorqıp balzam bermeydi. Suhrab usılayınsha qaza tabadı. \\\\n\\\\\"Shaxnama\\\\\"nın\\' u\\'shinshi bo\\'limi tariyxıy da\\'wirler menen baylanısıp, jeti a\\'sirlik İran tariyxın o\\'z ishine aladı. Bul zardushtıylıq dini payda bolg\\'annan baslap İranda arab basqınshılarının\\' hu\\'kimranlıq da\\'wirine shekemgi waqıyalar so\\'z etiledi. Qa\\'nigelerdin\\' mag\\'lıwmatına qarag\\'anda bul bo\\'lim İrandag\\'ı tariyxıy waqıyalar menen a\\'dewir jaqın. Yag\\'nıy avtor ko\\'birek tariyxıy faktlerge tiykarlang\\'an. Bul bo\\'limde Samaniyler da\\'wirindegi waqıyalar ilimpaz Berzuiydin\\' Hindstannan \\\\\"Qalila ha\\'m Dimna\\\\\" dep atalg\\'an kitaptı alıp keliwi, shaxmat oyını ha\\'m qag\\'ıydaları haqqında pikirler bar.\\\\nShaxnamanın\\' barlıq ideyası basıp alıwshılıq, qaraqshılıqqa pu\\'tkilley qarsı, danıshpanlardın\\' o\\'limin o\\'z ko\\'zi menen ko\\'rgen shayır urısqa na\\'let aytadı. Ulıwma Ferdawsiydin\\' da\\'stanı epik traditsiyalar qollanılatug\\'ın a\\'yyemgi da\\'wir menen ko\\'rkem a\\'debiyatta realizm ha\\'m romantik tendentsiya ju\\'zege keltirgen orta a\\'sirdegi do\\'retpe.\"}\\n',\n",
       " '{\"id\": \"151\", \"revid\": \"3222\", \"url\": \"https://kaa.wikipedia.org/wiki?curid=151\", \"title\": \"A\\'debiyat\", \"text\": \"A\\'debiyat bir tilge, da\\'wirge yamasa ma\\'deniyatqa tiyisli jazba shıg\\'armalardın\\' toplamı. A\\'debiyat adamlardın\\' baxalı ha\\'m qızıq waqıyaların aytıwda ja\\'rdem beredi. Ko\\'plegen adamlardın\\' pikirinshe, a\\'debiyat basqa ma\\'deniyatlardı uyreniwdin\\' en\\' jaqsı jollarının\\' biri.\\\\nA\\'debiyat bir ma\\'mleket yamasa ma\\'deniyat jaratqan en\\' jaqsı jazbalar. Ol so\\'zlerdin\\' sanaatı esaplanadı.\\\\nA\\'debiyat degende, ko\\'rkem a\\'hmiyetliligi ushın qaralatug\\'ın qıyalıy yamasa do\\'retiwshilik shıg\\'armada na\\'zerde tutılıwı mu\\'mkin.\"}\\n',\n",
       " '{\"id\": \"152\", \"revid\": \"43321\", \"url\": \"https://kaa.wikipedia.org/wiki?curid=152\", \"title\": \"A\\'jiniyaz\", \"text\": \"A\\'jiniyaz Qosıbay ulı (a\\'debiy laqabı \\\\\"Ziywar\\\\\") - XIX a\\'sirdegi qaraqalpaq klassik a\\'debiyatının\\' en\\' o\\'rnekli wa\\'killerinin\\' biri. Ol do\\'retiwshiliginde o\\'zine ta\\'n o\\'zgeshelikke iye, og\\'ada talantlı, oqımıslı, medreseni ayrıqsha tamamlag\\'an aqun, ulama, ko\\'rkem so\\'z sheberi sıpatında basqalardan ayrılıp turatug\\'ın uqıplılıq penen o\\'z da\\'wirinin\\' progressiv idealların ju\\'zege shıg\\'ardı, anıq turmıs haqıyqatlıg\\'ın sheber qurılg\\'an poetikalıq obrazlı ibaralarda o\\'tkir oy-pikirler menen ta\\'sirli sa\\'wlelendirdi.\\\\nTuwiliwi.\\\\nA\\'jiniyaz shayır 1824-jılı Moynaq rayonı aymag\\'ında qaraslı \\\\\"Qamıs bo\\'get\\\\\" degen jerde orta xallı diyxan xojalıg\\'ında du\\'nyag\\'a keledi. Ol qaraqalpaqtın\\' Qon\\'ırat arısı ashamaylı urıwının\\' saqıw tiresinen. A\\'jiniyazdın\\' a\\'kesi Qosıbay, onın\\' a\\'kesi Baltabek, arg\\'ı atası Aqjigit o\\'z da\\'wirinin\\' batır, sawatlı adamları bolg\\'an. Anası Naziyra so\\'zge sheshen, dilwar, ha\\'zir juwap, o\\'tkir pikirli adam bolıp xalıq danalıqların, naqıl-maqallardı, ushırma so\\'zlerdi, da\\'stanlardı, terme-tolg\\'awlardı, xalıq qosıqlarların ju\\'da\\' jaqsı bilgen. \\\\nJaslig\\'i ha\\'m Mediresede oqiwi.\\\\nA\\'jiniyaz jasınan ziyrek bolıp, awıllıq meshit-mektepte oqıp bilim alg\\'an. Onın\\' tuwısqan dayısı Elmurat aqun degen adam o\\'z da\\'wirinin\\' og\\'ada sawatlı, bilimdan adamı bolıp ol Buxaradag\\'ı Mir Arab medresesinde oqıp kelgen. Elmurat axun diniy kitaplar menen birge o\\'zinin\\' uy kitapxanasında Xoja Axmet Yasawiy, Sulayman Baqırg\\'aniy, Suwpı Allayar, Rabguziy, Ferdawsiy, Bedil, Nawayı, Maqtımqulı, Xafız, Shiyraziy tag\\'ı da basqa kitaplardı saqlag\\'an, olarg\\'a qızıg\\'ıp ilim-bilim u\\'yrengen. A\\'jiniyazg\\'a dayısı ustazlıq etip ilim-bilim u\\'yreniwge bag\\'darlaydı. U\\'yindegi kitaplarınan oqıwına basshılıq etedi. Na\\'tiyjede A\\'jiniyazda so\\'z u\\'stinde islew – shayırlıq talantı ha\\'m ilim uyreniwge qızıg\\'ıw payda boladı. Usınday bag\\'darda ol ustazının\\' jolın dawam ettirip Xiywadag\\'ı Sherg\\'azı xan medresesine oqıwg\\'a baradı. 1840-1844 jıllarda Xorezm, Xiywada ilim-bilim uyrenedi. Sherg\\'azı xan medresesinde oqıg\\'an da\\'wirinde A\\'jiniyaz pu\\'tkil Shıg\\'ıs du\\'nyası, arab a\\'debiyatı, ma\\'deniyatı, Orta Aziya ha\\'m Qazaq dalasına belgili bolg\\'an ulama-mashayıqlar, pu\\'tkil Turan-Turkistan miyrasları menen o\\'zinin\\' tu\\'p nusqasında arab, parsı tillerinde tanısadı. \\\\nA\\'jiniyaz medresede ta\\'lim alg\\'an waqıtında a\\'yyemgi grek ma\\'deniyatı, arab a\\'debiyatı, tariyxı, ma\\'deniyatı, shıg\\'ıs xalıqları tilleri, a\\'debiyatı, filosofiyası boyınsha jeterli, tıyanaqlı bilim aldı. Din İslam qag\\'ıydaların uyretetug\\'ın sabaqlar menen birge du\\'nya sırların ashqan alımlardın\\' ha\\'m zulımlıq, a\\'dilsizlik sebeplerin ashkaralawshı shayır, oyshılardın\\' shıg\\'armaların terennen o\\'zlestiredi. Atap aytqanda Xoja Axmet Yassauiy Xikmetlerinen baslap, Sulayman Baqırg\\'aniy, Suwpı Allayar - XVII a\\'sirde jasag\\'an Orta Aziyalı shayır – oyshıl. Onın\\' \\\\\"Sufı Allayar\\\\\" yamasa \\\\\"Subatil-ajiyn\\\\\"- \\\\\"A\\'jizlerdin\\' ku\\'sheyiwi\\\\\" dep atalg\\'an miyneti ekinshi ret tu\\'rki tilinde jazılıp XIX a\\'sirde Baku, Kazan Tashkent, Xiywa bir neshe ma\\'rtebe basılıp xalıq arasına \\\\\"Suwfı Allayar\\\\\" degen at penen kennen taralg\\'an. Rabg\\'uziydin\\' \\\\\"Qıssasul-enbiya\\\\\"- Payg\\'ambarlardın\\' o\\'mir bayanları haqqında jazılg\\'an kitap, Ferdawsiydin\\' \\\\\"Shaxnama\\\\\", Quran kitapları: \\\\\"Xaftiyek\\\\\", \\\\\"Muxtaser\\\\\", \\\\\"Fikx Kaydaniy\\\\\", Xa\\'dislerden: \\\\\"Qırıq xa\\'dis\\\\\", \\\\\"Misbahil a\\'nwar\\\\\" - Nurlardın\\' shırag\\'ı, \\\\\"Muftaxil janan\\\\\"- Ja\\'nnetlerdin\\' gilti kitapların, Abulg\\'azı Baxadurxannın\\' \\\\\"Tu\\'rkler shejiresi\\\\\" t.b. miynetlerdi tu\\'p nusqada arab parsı tillerinde oqıp o\\'zlestirgen. Bulardan basqa A\\'jiniyaz Qorqıt Ata jırlarınan baslap Yusup Xas Xa\\'jibtin\\' \\\\\"Kutadgu bilik\\\\\", Maxmud Qashqariydin\\' \\\\\"Tu\\'rk so\\'zligi\\\\\", Axmet Yugnakiydin\\' \\\\\"Xibbat ul hikayıq\\\\\"-Xaqıyqatlar sıylıg\\'ı, Xorezmiydin\\' \\\\\"Muxabbatnama\\\\\", Abulg\\'azı biy Arab Muxamed xannın\\' \\\\\"Og\\'uznama\\\\\", bulardan basqa \\\\\"Qıpshaqlar so\\'zligi\\\\\", Saadiydin\\' \\\\\"Gulistan\\\\\", Xafız, Bedil Nawayı, Maqtımqulı shıg\\'armalarında teren\\' o\\'zlestiredi. A\\'jiniyaz usı jıllarda Orta Aziyalıq tu\\'rki a\\'debiy tilinde jazılg\\'an ha\\'m tas baspa usılında basılıp shıqqan \\\\\"Yusup-Zliyxa\\\\\", \\\\\"G\\'a\\'rip Shaxsa\\'nem\\\\\", \\\\\"Farxad-Shiyrin\\\\\", \\\\\"Zuxra-Tayır\\\\\" ha\\'m tag\\'ı basqada shıg\\'ıs xalıq da\\'stanların teren\\' o\\'zlestirgen. Bulardı uyrenip alıp qıssaxanlıq etip xalıq aldında aytıp berip ju\\'rgen. A\\'jiniyaz usınday bag\\'darda u\\'sh tildi teren\\' mengeriw menen pu\\'tkil shıg\\'ıs du\\'nyası da\\'stu\\'rlerin teren\\' o\\'zlestiriw negizinde pu\\'tkil ja\\'hang\\'a ma\\'lim klassik shayır ha\\'m axun bolıp jetilsken.\\\\nDo\\'retiwshiligi.\\\\nBozataw poeması A\\'jiniyaz shayırdın\\' tvorchestvasının\\' en\\' joqarg\\'ı shın\\'ı bolıp esaplanadı. Shayırdın\\' \\\\\"Bozataw\\\\\" poeması qaraqalpaq xalqının\\' tariyxında o\\'shpes iz qaldırg\\'an tariyxıy waqıya – 1858-1859 jıllardag\\'ı Qon\\'ırat ko\\'terilisi waqıyaları negizinde jazılg\\'an. A\\'jiniyaz bul da\\'wirde nag\\'ız shag\\'ına jetken jas jigit bolıp er jasqa shıqqan waqıtları edi. Mine usı waqıtları Qonıratta Bozataw waqıyası baslanadı. Paraxat otırg\\'an xalıqtın a\\'sirler ma\\'kan etken jerinen ayra tu\\'sip, dushpanlar aldında aydalıp baratırg\\'an xalıq penen shayır birge bolg\\'an. Ko\\'zge su\\'rme etip Watan topırag\\'ın artında qıyıp taslap kete almay, qattı qıynaladı. Shayır tuwılıp o\\'sken Watanın ma\\'ngi yadında saqlawg\\'a, onnan hasla gu\\'der u\\'zbewge ant etedi. A\\'jiniyazdın\\' bul poeması o\\'z waqtında do\\'regen shıg\\'arma bolıp tabıladı. Bul saltanatlı gimn retinde qaraqalpaq xalqının\\' azatlıq gu\\'reslerinin\\' negizinde turdı. A\\'jiniyaz bul poemasın jaw aldında aydawda baratırıp jolda shıg\\'arg\\'an degen ga\\'p bar xalıq arasında. Solay etip, poema ha\\'dden tıs qıyın-qıstaw waqıtta do\\'retilgen. Sog\\'an qaramastan barlıq o\\'miri, barlıq sezimleri ha\\'m aqıl-huwshı menen tuwılg\\'an jeri Bozatawg\\'a tıg\\'ız baylanıslı bolg\\'an shayır Bozataw waqıyasının\\' tariyxında, shabılıwına tiyisli bolg\\'an barlıq mag\\'lıwmatlardı o\\'zinin\\' ja\\'ne jawgershiliktin\\' saldarınan tuwılg\\'an elden ayrılg\\'an xalıqtın ashshı ta\\'g\\'diri menen awır sezimlerin qaldırmastan ko\\'rsete alg\\'an.\\\\nA\\'jiniyaz shayır Xiywadag\\'ı Sherg\\'azı xan medresesinde ta\\'lim alıp arab, parsı tillerin jetik men\\'gergennen keyin pu\\'tkil Shıg\\'ıs du\\'nyası, arab, parsı a\\'debiyatları, shıg\\'ısqa ma\\'lim bolg\\'an jazba tu\\'rdegi barlıq da\\'stanlar, Qurani ka\\'rim ayatları, Muxammed Payg\\'amber Xa\\'disleri menen tu\\'p nusqasında tanıs bolg\\'an, ba\\'rin negizgi nusqalarınan oqıp u\\'yreniwge mu\\'mkinshilik alg\\'an. A\\'bılqasım Ferdawsiy jazıp qaldırg\\'an Jamshid ha\\'m Zoxax obrazları, A\\'liysher Nawayı shıg\\'armalarında so\\'z etilgen Xarun-ar-Rashid, Ha\\'kim Lukman, Xatam-Tay, Layli, Majnun, Farxad, Shiyrin – bulardın\\' ha\\'mmesi de A\\'jiniyazdın\\' shıg\\'armalarında ken\\'nen qollanıladı. Bunday obrazlardı qollanıw sol da\\'wirde belgili sawatqa iye bolg\\'an shayırlar ushın u\\'lken da\\'stu\\'r bolg\\'an. \\\\nA\\'jiniyaz shıg\\'armaları:\\\\nBasqa Qaraqalpaq shayirlari.\\\\nBerdaq Garg\\'abay uli\\\\nKu\\'nxoja Ibrayim uli\"}\\n',\n",
       " '{\"id\": \"153\", \"revid\": \"1\", \"url\": \"https://kaa.wikipedia.org/wiki?curid=153\", \"title\": \"A\\'jiniyaz - Bozataw\", \"text\": \"Bozataw (A\\'jiniyaz).\\\\n&lt;poem&gt;\\\\nKeter boldıq endi bizler bash alıp,\\\\nXosh aman bol, bizden qaldın’, Bozataw,\\\\nXoshlasalı qara ko’zge yash alıp,\\\\nXosh aman bol, bizden qaldın’, Bozataw.\\\\nEr jigit basına mu’shkil is tu’sti,\\\\nYu’rek-bag’rım g’amnın’ otına tu’shti,\\\\nElatın’ u’stin’nen serpilip ko’shti,\\\\nXosh, aman bol, bizden qaldın’, Bozataw.\\\\nZiywarın’ xoshlasar qa’drini bilip,\\\\nKo’zini jaslatar, barını tilip,\\\\nAman bolsa, hal sorasar bir kelip,\\\\nXosh, aman bol, bizden qaldın’, Bozataw.\\\\nSen bag’ edin’ bu’lbil ushtı zag’ qaldı,\\\\nPu’tkil siynem jandı, ishte dag’ qaldı,\\\\nQıysıq porqan ataw, seni jaw aldı,\\\\nBası qutlı, son’ı wa’yran, Bozataw.\\\\nKimsenin’ anası, kimnin’ a’mmesi,\\\\nKimsenin’ ag’ası, kimnin’ inisi,\\\\nKimsenin’ qız-ug’lı, kimnin’ sin’lisi,\\\\nA’tirek, Gu’rlen, Xajar astı, Bozataw.\\\\n&lt;/poem&gt;\"}\\n',\n",
       " '{\"id\": \"154\", \"revid\": \"37676\", \"url\": \"https://kaa.wikipedia.org/wiki?curid=154\", \"title\": \"A\\'jiniyaz - Ellerim bardı\", \"text\": \"Ellerim bardı (A\\'jiniyaz).\\\\n&lt;poem&gt;\\\\nSorasan’ elimdi, Qojban, bizlerden,\\\\nQalpag’ı qazanday ellerim bardı,\\\\nQa’te shiqsa keshirin’ler so’zlerden,\\\\nQıtay, Qon’ırat atlı ellerim bardı.\\\\nJaylawım U’rgenish, arqası ten’iz,\\\\nJawırnı qaqpaqtay malları semiz.\\\\nRuxsatsız bir-birine salmas iz,\\\\nBirlikli Qon’ırattay ellerim bardı.\\\\nTabıladı izlegennin’ keregi,\\\\nKo’linde bar qasqaldag’ı, u’yregi,\\\\nQuwları, g’azının’ pu’tin bu’yregi,\\\\nDu’nyanın’ an’ları ko’limde bardı.\\\\nO’tirikti ras etip aytpag’an,\\\\nTuwrı joldan bas kesse de, qaytpag’an,\\\\nNa’mahramdı hasla joldas tutpag’an,\\\\nAtı qaraqalpaq ellerim bardı.\\\\n&lt;/poem&gt;\"}\\n',\n",
       " '{\"id\": \"155\", \"revid\": \"491\", \"url\": \"https://kaa.wikipedia.org/wiki?curid=155\", \"title\": \"A\\'liysher Nawayı\", \"text\": \"O\\'zbek xalqının\\' a\\'jayıp perzenti, danıshpan shayır ha\\'m oyshıl A\\'liysher Nawayı XV a\\'sirdin\\' o\\'zinde-aq pu\\'tku\\'l du\\'nyag\\'a dawrıq sala alg\\'an Ku\\'n shıg\\'ıs klassikalıq a\\'debiyatında \\'Jeti juldızdın\\' biri\\' esaplang\\'an en\\' ko\\'rnekli so\\'z ustalarının\\' biri edi. Onın\\' ismi tez waqıttın\\' ishinde-aq pu\\'tkil Ku\\'nshıg\\'ıs penen Batısqa taralıp ketti.\\\\nOnın\\' danıshpanlıq penen jazılg\\'an poeziyası aldında pu\\'tkil du\\'nya ju\\'gindi. Ol ha\\'tte wa\\'zir da\\'rejesine jetiwine qaramastan ma\\'nsaptan ko\\'re xalıqtın\\' ma\\'pin joqarı sanag\\'an, o\\'z do\\'retpelerinde a\\'piwayı xalıq ma\\'pin jırlag\\'an, barlıq na\\'rseden ko\\'re xalıqtı, xalıq ta\\'g\\'dirin oylag\\'an, o\\'z keleshegin ko\\'rkem do\\'retpege bag\\'ıshlag\\'an haqıyqıy insan edi.\\\\nA\\'liysher Nawayı 1441-jılı, 9-fevralda sol da\\'wirdin\\' en\\' ko\\'rnekli qalalarınan bolg\\'an Xirat qalasında tuwıldı. A\\'kesi G\\'iyasatdin kishkene saray ha\\'meldarlarınan biri bolg\\'an. Anası Temuriy shaxzadalardın\\' ta\\'rbiyashısı bolg\\'anı ushında jaslıg\\'ınan baslapaq shaxzada balaları menen birge ta\\'rbiyalanıp o\\'sti.\\\\nSaray shaxzadaları arasındag\\'ı talas-tartıslar jas A\\'liysherge de ta\\'sir qılmay qoymadı. Shaxruq mırzanın\\' o\\'liminen keyin A\\'liysher shan\\'arag\\'ı İraqqa ko\\'shti, son\\'ınan A\\'bilqasım Babur ja\\'rdeminde Xiratqa qaytıp keledi ha\\'m o\\'z oqıwın dawam etedi.\\\\nOl jas waqıtlarınan baslap-aq ko\\'rnekli parsı shayırı Saadiy Sheraziydin\\' \\'Gu\\'listan\\' ha\\'m \\'Bostan\\' shıg\\'armaların, sonday-aq Fadratdin Attardın\\' \\'Quslar tilin\\' qunt penen oqıy baslaydı.\\\\nOnın\\' Temuriy shaxzadalarınan bolg\\'an Xusayn Bayqara menen mektepke birge oqıwı ha\\'m doslasıwı keleshegi ushın u\\'lken jol ashıp beriwge ja\\'rdemlesedi. Nawayı on-on eki jaslarınan-aq qosıq jazıwg\\'a kirisedi. Bul jolda og\\'an o\\'z zamanının\\' en\\' ko\\'rnekli shayırlarınan bolg\\'an Lutfiydin\\' ustazlıq ja\\'rdeminin\\' ayrıqsha bolg\\'anlıg\\'ı ma\\'lim.\\\\nA\\'liysher ata-anasınan jetim qalıp, on bes jaslarınan baslap dostı Xusayn Bayqara menen birlikte A\\'bilqasım Babur sarayına xızmetke kiredi. Sol jılları ol o\\'z zamanının\\' en\\' a\\'jayıp adamları parsı-ta\\'jik a\\'debiyatının\\' ko\\'rnekli shayırı A\\'bdiraxman Ja\\'miy ha\\'m Mashxadtın\\' danıshpan adamları Sayd Xasan Ardasher ha\\'m Kamal Turbatiyler menen ushrasqan.\\\\nBiraq bul da\\'wirlerde de Xorasan taxtı ushın bolg\\'an sawash ja\\'njellerdin\\' izi u\\'zilmeydi. 1459-jılı Xorasan taxtın iyelegen\\' A\\'bdisayıt mırza zalım ha\\'m reyimsiz bolıp shıg\\'adı. Bunnan keyin Nawayı ilajsız Samarqandqa ketiwge ma\\'jbu\\'r boladı. Ol Samarqandta ko\\'p g\\'ana alımlar menen ushırasıp birneshe doslar arttırg\\'an. Son\\'ınan 1469-jılı o\\'zinin\\' dostı Xusayn Bayqaranın\\' Xorasan taxtın iyelewine baylanıslı\\\\nXiratqa qaytıp kelgen.\\\\nA\\'lisher Nawayı Xiratqa qaytıp kelgennen keyin sol waqıtları patsha bolıp turg\\'an o\\'zinin dostı Xusayn Bayqaranın\\' birinshi wa\\'ziri bolıp tayınlanadı. Ol wa\\'zir bolıp turg\\'an wag\\'ında a\\'tirapına ko\\'p g\\'ana alım ha\\'m dilwarlardı jıynap, Xorasannın\\' abadanlıg\\'ı ushın xızmet etken. Elde a\\'dalat ha\\'m ta\\'rtip ornatıwg\\'a belsene qatnasqan. Biraq o\\'zleri Temuriy a\\'wladlarınan esaplansa da bilimsiz ha\\'m parasatsız bolg\\'an ayırım saray a\\'meldarlarına Nawayının\\' bul ha\\'reketi unamaydı. A\\'sirese wa\\'zirlik orıng\\'a talasqan Majitdin bug\\'an jamanlıq isleydi. Solay etip Nawayı saraydan shetletilip, Astrabad qalasına ha\\'kim etip jiberiledi. Biraq bul sheshim negizinen alg\\'anda su\\'rgin menen barabar edi. Nawayı Astrabadta u\\'sh jılg\\'a shamalas bolg\\'an. Biraq den-sawlıg\\'ınan ayırılıp Xiratqa qaytıp kelgen. Keyingi o\\'mirinin\\' ha\\'mmesinde ko\\'rkem shıg\\'armalar jazıwg\\'a bag\\'ıshlag\\'an. Solay etip Nawayı 1501-jılı 3 yanvarda alpıs jasında qaytıs boladı.\\\\nA\\'liysher Nawayı ko\\'p g\\'ana epikalıq shıg\\'armalar jazdı. Bulardın\\' arasında 1482-1485 jıllarda jazılg\\'an \\'Xamsa\\' (Bes kitaptan ibarat da\\'stan). 1499-jılı jazılg\\'an \\'Lisanut-tayr\\' (Quslar tili) shıg\\'armaları ayrıqsha dıqqatqa iye. A\\'sirese \\'Xamsa\\' A\\'liysher Nawayının\\' dan\\'qın pu\\'tkil a\\'lemge jayg\\'an edi. A\\'lbette xamsa jazıw Ku\\'nshıg\\'ıs ellerinde burınnanaq bar da\\'stu\\'r. Xamsa do\\'retiw isinde eliwden artıq shayırlar qatnasqan bolsa da, bul bag\\'darda tek to\\'rt adam g\\'ana putkil du\\'nyag\\'a belgili bolıp qaldı. Bulardan en\\' birinshi ma\\'rtebe \\'Xamsa\\' jazıwdı baslag\\'an\\' ko\\'rnekli a\\'zerbayjan shayırı Nizamiy Ganjaviy (XII a\\'sir) ha\\'m bunnan eki a\\'sir keyin Hind elinde Xısıraw Dexleviy, Nawayının\\' zamanlası ko\\'rnekli parsı-ta\\'jik shayırı A\\'bdiraxman Ja\\'miy ha\\'m A\\'liysher Nawayının\\' o\\'zi. Bul jazılg\\'an Xamsalar negizinen\\\\nbir derekke tiykarlang\\'an bolsa da, biraq olardın\\' ha\\'r biri bir-birinen parıq qıladı. Sebebi ha\\'r Xamsada jaratılg\\'an obrazlarda shayırlardın\\' jasaw da\\'wirine qarap a\\'dewir o\\'zgerislerge ushırag\\'an. Bul jag\\'daylar ko\\'birek Xısıraw, Bahram, Farhad ha\\'m Shiyrin obrazlarında a\\'dewir ko\\'zge taslanadı. Bunnan tısqarı Nizamiy, Dexleviy, Ja\\'miyler Xamsanı parsı tilinde jazg\\'an bolsa, A\\'liysher Nawayı tu\\'rki tilinde jazadı. Bul jag\\'ınan qarag\\'anda da A\\'liysher Nawayının\\' miyneti og\\'ada u\\'lken. Nawayı Xamsa jazg\\'anda da o\\'zinen aldın o\\'tken ustazlarına u\\'lken hu\\'rmet penen qaraydı. En\\' birinshi ma\\'rtebe Xamsa jazıp qaldırg\\'an Nizamiy Ganjaviydi alg\\'ıslap:\\\\nEmes an\\'sat, bul zaman ishinde turmaq, \\\\nNizamiy pa\\'njesine pa\\'nje urmaq. \\\\n- dep ayta kelip, Xamsa avtorları bolg\\'an u\\'sh ustazına da u\\'lken minnetdarshılıq bildirmekshi boladı. Yag\\'nıy: \\\\nJollasa bul jolda Nizamiy jolım, \\\\nQollasa Xısıraw menen Ja\\'miy qolım. \\\\ndep jazıp, bul\\'hu\\'rmetli ustazları aldında bas iyedi. \\\\nNawayı bul a\\'jayıp kitaptı jazıw jolında o\\'z ustazları sıyaqlı bes kitapqa bo\\'ledi:\\\\n\\'Xayratul-abrar\\' Nawayının, o\\'z zamanına bolg\\'an filosofiyalıq ko\\'z-qaraslarında payda bolg\\'an. Sonın\\' ushında onı filosofiyalıq, sotsial-ekonomikalıq, ta\\'rbiyalıq ma\\'seleler tiykarında bahalaw mu\\'mkin.\\\\n\\'Leyli Ma\\'jnu\\'n\\', \\'Farxad ha\\'m Shiyrin\\' ha\\'m \\'Jeti ıqlım\\' da ıshqı muxabbat ma\\'seleleri menen birlikte a\\'dalatlı ha\\'m a\\'dalatsız patshalar obrazı menen ushırasamız. A\\'lbette bul da\\'standag\\'ı syujetler Ku\\'nshıg\\'ıs ellerine burınnan-aq ko\\'p tarqalg\\'an arablardın\\' \\'Qays ha\\'m La\\'yli\\', Mısır ha\\'m Assiriyanın \\'Jeti go\\'zzal\\', \\'Mehribanu ha\\'m Shiyrin\\' qıssalarınan alıng\\'an. Solay bolsada bul obrazlardı Nawayı o\\'z da\\'wirine a\\'dewir jaqınlastıradı. Usınday sebepler menen ha\\'r Xamsada patshalar obrazı ha\\'r qıylı. Xısıraw menen Bahram geyde a\\'dalatlı, bazda a\\'dalatsız bolıp ko\\'rinedi. Ashıqlar obrazında da tap sonday o\\'zgeshelikler bar. A\\'lbette bug\\'an sebepshi bolg\\'an jag\\'daylar da bar edi. Nawayı da\\'wirindegi belgili shayır qız Rabiyanın\\' bir quldı jaqsı ko\\'rip qalıwı, yaki bolmasa Temurdin\\' aqlıg\\'ı Xalil mırzanın\\' bir temirshinin qızı Shadimu\\'lkti jaqsı ko\\'riwi, “Ma\\'jgu\\'n” - dep atap onın\\' u\\'stinen ku\\'liw ha\\'m onın\\' ashıq bolg\\'anı ushın ayıplanıp su\\'rginde bolıwı, son\\'ınan Shadimu\\'lktin\\' o\\'z ashıg\\'ı qa\\'biri u\\'stine barıp ko\\'ksine qanjar urıp qaytıs bolıwı Nawayının\\' ashıqlıq haqqındag\\'ı da\\'stanlarg\\'a qol urıwına sebepshi bolg\\'anlıg\\'ına hesh kim gu\\'manlana almaydı. Sonın\\' ushında Nawayının\\' qa\\'lemine tiyisli bolg\\'an tu\\'rki tilindegi \\'La\\'yli ha\\'m Ma\\'jnu\\'n\\' a\\'dewir ta\\'sirli bolıp shıqqan.\\\\nAl Farxad obrazı bolsa Xamsada pu\\'tkilley jan\\'a obraz. Bul erte da\\'wirdegi qıssalardın\\' hesh birewinde de joq. Sonın\\' ushında Nawayı bul obrazdı sol waqıttag\\'ı Xorasandag\\'ı suw tansıqlıg\\'ı na\\'tiyjesinde o\\'zi oylap tapqan ha\\'reketshil obraz. Ol a\\'piwayı xalıq arasınan shıqan a\\'dalatlı, sadaqatlı ha\\'m batır jigit. Al İskender Zulqarnayın obrazı Nawayı xamsasında pu\\'tkilley o\\'zg\\'eshe. Nizamiy ha\\'m Dexleviyde İskender sha\\'wketli patsha bolıw menen bir qatarda payg\\'ambar sıpatında su\\'wretlegen. Al A\\'liysher Nawayı bolsa İskender Zulqarnayın (Aleksandr Makedonskiy) en\\' baslı sıpatı onın\\' aqıllı, ku\\'shli ha\\'m bilimli bolıwında dep biledi. Sonın, ushında İskender o\\'z a\\'tirapına ko\\'p g\\'ana alımlardı jıynag\\'an. Bular Nan\\'umojis (Aristoteldin\\' atası), Platon, Sokrat, Gippokrat, Pifagor ha\\'m tag\\'ı basqalar.\\\\nBul jolda Nawayı a\\'lbette realistlik joldan barg\\'an İskender Zulqarnayınnin\\' dan\\'qqa erisiwinde a\\'yyemgi Gretsiya alımlarının\\' tutqan ornın ashıp ko\\'rsetken. Solay etip, A\\'liysher Nawayının, qa\\'lemi menen tu\\'rki tilinde payda bolg\\'an Xamsa pu\\'tkil du\\'nya a\\'debiyatının\\' en\\' jarqın g\\'a\\'ziynelerinen orın aldı\"}\\n',\n",
       " '{\"id\": \"156\", \"revid\": \"3222\", \"url\": \"https://kaa.wikipedia.org/wiki?curid=156\", \"title\": \"A\\'yyemgi Gretsiyada Olimpiada oyınlarının\\' payda bolıwı\", \"text\": \"A\\'yyemgi Gretsiyada Olimpiada oyınlarının\\' payda bolıwı - A\\'yyemgi Olimpiada oyınları b.e.sh. 776 jılı payda boldı. A\\'yyemgi Gretsiyada Olimpiya oyınlarının\\' payda bolıwı bul Gretsiyada Sparta ha\\'m Elida qalaları arasında paraxatshılıqtın\\' ornawı bolıp sport bayramı sıpatında payda boldı. \\\\nA\\'yyemgi Greklerdin\\' Olimpiada oyınlar da\\'stu\\'rine ha\\'r qıylı aralıqlarg\\'a juwırıw, disk ılaqtırıw, nayza ılaqtırıw kirgizildi. B.e.sh. 490 jılı marafon aralıg\\'ına juwırıw payda boldı. Marafon aralıg\\'ına juwırıwdın\\' payda bolıwı, Marafon qalashasının\\' qasında b.e.sh. 490 jılı Afinalılar Persidler menen urısta jen\\'iske erisip, a\\'sker bası bir a\\'skerdi Afinag\\'a juwırıp barıp jen\\'iske eriskenligimizdi jetkeresen\\' dep tayınlaydı. Bul a\\'sker Marafon-Afina aralıg\\'ın juwırıp o\\'tip Afinag\\'a jetip kelip \\\\\"Biz jen\\'iske eristik\\\\\" dep o\\'lip qaladı. A\\'yyemgi Grek a\\'skerinin\\' hu\\'rmetine Marafon-Afina aralıg\\'ın o\\'lshep bul aralıqqa juwırıw boyınsha birinshi Olimpiada oyınlarında jarıs o\\'tkeriledi. Bul aralıq 40-kilometr dep belgilenedi. 1920 jıldan baslap Marafon aralıg\\'ı 42 km 195 m dep qabıllandı.\"}\\n',\n",
       " '{\"id\": \"157\", \"revid\": \"3543\", \"url\": \"https://kaa.wikipedia.org/wiki?curid=157\", \"title\": \"Hindistan filosofiyası\", \"text\": \"A\\'yyemgi Hindistan filosofiyası - Hindistanlıq ja\\'miyettin\\' birinshi deregi bolıp, Vedalar esaplanadı. \\\\nVedalar shama menen b.e.sh. 600-1500 jıllar aralıg\\'ında du\\'zildi. Olar diniy mazmung\\'a iye, degen menen ja\\'miyettin\\' ekonomikalıq rawajlanıwı ha\\'m sotsiallıq strukturası haqqında ko\\'p mag\\'lıwmatlardı saqlaydı. Vedalar samxitler o\\'zine ta\\'n to\\'rt tu\\'rge bo\\'linip jasaydı.\\\\nVedalarda arisvlerdin\\' a\\'yyemgi qa\\'wimlik ko\\'z-qarası, diniy-mifologiyalıq kompleksi ha\\'m magiyası su\\'wretlengen.\\\\nVedalıq a\\'debiyattın\\' ekinshi qatlamı bolıp Braxmanlar esaplanadı. Braxmannın\\' bas mazmunı - vedalıq rituallar menen praktikalıq basshılıq etiw, kultlıq praktika h.t.b. Olarda hesh qanday tutas diniy-filosofiyalıq sistemanı bizler taba almaymız, degen menen bir qatar tu\\'sinikler birinshi orında turadı.\\\\nVedalıq a\\'debiyattın\\' u\\'shinshi qatlamı bolıp Aranyaklar, yamasa \\\\\"Tog\\'ay kitapları\\\\\" esaplanadı. En\\' son\\'g\\'ı to\\'rtinshi qatlam Utanishadlar vedalıq a\\'debiyattı tamamlaydı. Utanishadlardın\\' en\\' iri bo\\'legi bolıp, o\\'mir turmıstın\\' u\\'zliksiz ha\\'reket etiw kontseptsiyası bolıp esaplanadı.\\\\nO\\'mirdin\\' u\\'zliksiz ha\\'reket etiw haqqındag\\'ı ta\\'limatı Adam turmısı qayta do\\'reliwlerdin\\' tawsılmaytug\\'ın dizbeginin\\' belgili forması sıpatında bo\\'linedi. Turmıstın\\' u\\'zliksiz ha\\'reket etiwi ma\\'n\\'gilik, du\\'nyadag\\'ı barlıq na\\'rseler og\\'an bag\\'ınadı.\\\\nB.e.sh. I-shi mın\\'ınshı jıllardın\\' ortasında İnonyada ideologiyadan g\\'a\\'rezsiz jan\\'a doktrinalar payda boldı. Olar adamnın\\' ja\\'miyettegi ornı haqqında ma\\'selege jan\\'asha qatnas jasawg\\'a umtıladı. Bulardın\\' ishinde Hindistan ushın a\\'hmiyetli djaynizm ha\\'m buddizm boldı.\\\\nJaynistlik ta\\'liymat dualizmdi ja\\'riyalaydı. Adamnın\\' insanlıg\\'ının\\' ma\\'nisi eki tu\\'rde ko\\'rinedi. Olar: materiallıq-adjiva, ruwxıy djiva.\\\\nAdjiva menen djivanı baylanıstırıwshı bolıp karma esaplanadı ha\\'m onı na\\'zik materiya dep tu\\'sindirip, karmanın\\' denesin usı materiya quraydı ha\\'m ol jannın\\' turpayı materiya menen birigiwinde mu\\'mkinshilik beredi. Jansız materiya karmanın\\' qatnası arqalı Jan menen birigiwi individtin\\' payda bolıwına alıp keledi.\\\\nB.e.sh. VI a\\'sirde Hindistannın\\' arqa betinde Buddizm ta\\'liymatı payda boldı. Onın\\' do\\'retiwshis suddxartxa Gautaliya, ol keyin ala Budda bolıp ataladı. Buddizmnin\\' orayında to\\'rt shınlıq turadı. Onın\\' uyg\\'artıwınsha, adamnın\\' jasawı qıynalıwshılıq penen baylanıslı. Tuwılıw, awırıw, g\\'arrılıq, qartayg\\'anlıq, o\\'lim, jag\\'ımsız na\\'rselerdin\\' ushırawı, unamlı na\\'rselerdin\\' ushırawı, a\\'rmanlardın\\' orınlanıwı h.t.b.lar ha\\'mmesi adamnın\\' azap shegiwine alıp keledi. Azap shegiwden qutılıwı ushın durıs pikir bildiriw, durıs so\\'ylew, durıs anıqlap alıw h.t.b.\\\\nJan\\'a eranın\\' basında Hindistannın\\' ruwxıy turmısında sheshiwshi pozitsiyalardı induizm iyeledi. Bul ayırım etnikalıq gruppalardın\\' ma\\'deniyatlarının\\' kem-kemnen rawajlanıwı bolıp tabıladı. İndualizmnin\\' en\\' tiykarg\\'ı shıg\\'armaları \\\\\"Bxadavashta\\\\\" (qudaytalanın\\' qosıg\\'ı) dep ataladı.\\\\nİndualizmnin\\' filosofiyalıq tiykarlanıwı altı sistemadan turadı. \\\\nSankxyanın\\' u\\'yretiliwi boyınsha du\\'nyanın\\' materiallıq birinshi sebepshisi prakritalar jasaydı. Olar sezimler arqalı qabıl etiledi ha\\'m u\\'sh elementti o\\'z ishine aladı radjasa-umtılıw, tamasa- qarang\\'ılıq, sattva anıqlıq.\\\\nHa\\'r bir zatta, onın\\' xarakteri boyınsha, usı u\\'sh elementlerden biri orap aladı.\\\\nYoga psixologiyalıq kategoriyalardı izertlewge ha\\'m praktikalıq psixologiyalıq u\\'yretiwge itibar beredi, burınnan qalg\\'an sistemalardın\\' medatatsiyası haqqında rejelerden ko\\'p waqıtta shıg\\'adı.\\\\nVeysheshikanın\\' da\\'liyllewinshe turaqlı o\\'zgerisler, payda bolıwdın\\' ha\\'m to\\'menlep qalıwdın\\' ma\\'n\\'gilik ha\\'m tsiklı protsessleri jasaydı. Usı protsesste, turaqlı element atası boladı. Bunda janlı jansız predmetler payda boladı. Jan ma\\'n\\'gi ha\\'m sheksiz jasaydı, ol eki formag\\'a iye 1. Absolyut jetsikenlik o\\'z ko\\'rinisin tabatug\\'ın individuallıq forma.\\\\nNsya ol vayshelmika menen tıg\\'ız baylanıslı, ayrıqsha dıqqatı, logika menen gnoseologiyanın\\' problemalarına qaratadı. Mimansa, Vedalarg\\'a qaytıp keliwdi usınadı. Onın\\' tu\\'sindiriwinshe samsarı jolınan azat etiwdin\\' birden-bir jolı Vedalar aytqanlardı izbe-iz orınlaw bolıp tabıladı. Mimansa vedalıq tekslerdi abıroylı dep qabaq etip qoymastan bularda en\\' joqarg\\'ı seziwshilik universallıq substantsiyanı ko\\'redi, bul ma\\'n\\'gi jasaydı ha\\'m absolyut bolıp tabıladı. Biliw teoriyasının\\' ja\\'rdeminen zatlardın\\' durıs tu\\'siniwine tek jetip qoymastan, al tu\\'p tiykarg\\'ı metafizikalıq tu\\'siniklerge erise alamız. Bug\\'an mısalı: sezimlik qabıllaw, logikalıq juwmaq jasaw yaki salıstırıw h.t.b.\\\\nVedanta degen tu\\'sinik vedanın\\' tamam bolıwı degendi an\\'latadı. Ol materiallıq ku\\'shlerdin\\' birden-bir reallıq penen o\\'z-ara baylanısının\\' o\\'nimli du\\'nya boladı degen rejeni du\\'nyanın\\' absolyutlıq ruwxıy ma\\'nisin tu\\'sinik, bunnan ha\\'mme na\\'rselerdi keltirip shıg\\'aradı.\\\\nA\\'yyemgi Hindistanda filosofiyanın\\' rawajlanıwı protsessinde materialistlik tendentsiyalar ha\\'m filosofiyalıq mektepler ko\\'rinedi. Bunday ta\\'liymatlardın\\' birine \\\\\"Lokayata\\\\\" ta\\'liymatı kiredi. Lokayatanın\\' do\\'retiwshisi bolıp Charvaktın\\' atı ataladı. Lokayatanın\\' tu\\'sindiriwinshe Adam 4 materiallıq elementlerden turadı: jer, suw, ot, hawa. Olar birigip deneni, seziwlerdi, organlardı du\\'zedi.\"}\\n',\n",
       " '{\"id\": \"158\", \"revid\": \"3543\", \"url\": \"https://kaa.wikipedia.org/wiki?curid=158\", \"title\": \"Qıtay filosofiyası\", \"text\": \"A\\'yyemgi Qıtay filosofiyası - erteden qa\\'liplesedi. Onda birinshi qosıqlardın\\' kitabı A\\'yyemgi xalıq poeziyasının\\' toplamı bolıp sanaladı. (b.e.sh. XI-VI a\\'sirler). Tariyx kitabı (b.e.sh. mın\\'ınshı jıldın\\' basında) ra\\'smiy hu\\'jjetlerdin\\' tariyxıy waqıyalardın\\' jazba su\\'wretlemelerinin\\' jıynag\\'ı bolıp tabıladı. Ta\\'rtib kitabı (b.e.sh. IV-I a\\'sirler) siyasiy ha\\'m diniy ta\\'rtiplestiriwler, ba\\'ha\\'r ha\\'m gu\\'z kitabı (b.e.sh. VI-IV a\\'sirler) etikalıq ha\\'m formal ma\\'selelerdi sheshiw.\\\\nFilosofiyanın\\' rawajlanıwının\\' en\\' a\\'hmiyetlisi bolıp jan\\'alıqlardı jasaw kitabı (b.e.sh. XII-VI a\\'sir) bolıp esaplanadı. Bunda du\\'nya ha\\'m Adam haqqındag\\'ı Qıtay filosofiyasında birinshi tu\\'sinikler o\\'z ko\\'rinisin tabadı. Bul kitaptın\\' u\\'sh a\\'hmiyetli bo\\'leklerinen birewi İnv ha\\'m Yan elementleri haqqındag\\'ı miflerdi beredi.\\\\nYan qanday bolmasın aktivligi menen ha\\'mme na\\'rselerge kirip otırıwshılıg\\'ı menen belgilenedi, al İnv ku\\'tip turıwshılıq penen ajıraladı.\\\\nQıtayda filosofiya \\\\\"urısıwshı ma\\'mleketler\\\\\" dep atalatug\\'ın da\\'wirde en\\' joqarg\\'ı gu\\'lleniwge eristi. Bul da\\'wirde Qıtay filosofiyasının\\' \\\\\"altın a\\'siri\\\\\" dep ataydı.\\\\nBul da\\'wirde tiykarg\\'ı filosofiyalıq altı bag\\'dar:\\\\nKonfutsiydin\\' (b.e.sh 551-479 jj) pikiri boyınsha \\\\\"İnsan o\\'zi ushın emes, ja\\'miyet ushın insan\\\\\" bolıp tabıladı. Konfutsiylik etika adamdı onın\\' sotsiallıq funktsiyası menen baylanısta tu\\'sinedi, al ta\\'biyat bul adamdı usı funktsiyanı tiyislik da\\'rejede orınlawg\\'a a\\'keliwi dep biledi.\\\\nDaosizmnin\\' dıqqat orayında ta\\'biyat, kosmos ha\\'m Adam turadı, biraq olar ratsionallıq jol menen emes, al logikalıq izbe-izlik formalardı konstruktsiya etiw menen emes, al tirishiliktin\\' ta\\'biyatına tikkeley eniwdin\\' ja\\'rdemi menen erise aladı.\\\\nİmen mektebi haqıyqatlıqtın\\' tilde aytılıwı. Ol zatlardın\\' qatnasın ha\\'m usı qatnasıqların ha\\'m son\\'ınan pikir juwırtıwlar menen izertleydi. \\\\nMonistlik mektep, onın\\' do\\'retiwshisi Mo tszi (b.e.sh 479-431 jj). Bunda bas dıqqat sotsiallıq etika problemalarına awdarıladı. Mektepte qara miynet onın\\' tın\\'lawshılardın\\' jasawının\\' deregi anıqlanadı. \\\\nMontrlerdin\\' ta\\'liymatı Konfutsiy ta\\'liymatına qarama-qarsı turadı. \\\\nEn\\' son\\'ında \\\\\"legizm\\\\\" urısıwshı ma\\'mleketlerdin\\' da\\'wirindegi sotsiallıq siyasiy o\\'zgerisler ma\\'selelerine dıqqat ayrıqsha awdarg\\'an ta\\'liymat sıpatında qa\\'liplesti. Onın\\' wa\\'killeri sotsiallıq teoriya menen ma\\'mleketlik basqarıwdın\\' problemaları menen shug\\'ıllandı.\"}\\n',\n",
       " '{\"id\": \"159\", \"revid\": \"491\", \"url\": \"https://kaa.wikipedia.org/wiki?curid=159\", \"title\": \"Abay Qunanbay ulı\", \"text\": \"XIX a\\'sirdegi qazaq a\\'debiyatının\\' ko\\'rnekli wa\\'kili Abay Qunanbay ulı tek qazaq a\\'debiyatı tariyxında g\\'ana emes, ba\\'lki tu\\'rk tilles xalıqlar arasında ken\\'nen ma\\'lim bolg\\'an ko\\'rkem so\\'z iyelerinin\\' biri edi. Abay qazaq a\\'debiy tilinin\\' tolıq qa\\'liplesiwi ushın gu\\'resti. Sonın\\' ushında onın\\' shıg\\'armaları Maqtumqulı ha\\'m Mashrab sıyaqlı ko\\'p u\\'lkelerdi aralamag\\'anı da ma\\'lim. Solay bolsada Abay tu\\'rk tilles xalıqlar a\\'debiyatında Qıpshaq dialekti tiykarında qosıq jazg\\'an shayırlar arasında Xoja Axmet Yassawiyden keyingi ko\\'pke tanımalı shayırlar qatarına kiredi. Bunnan tısqarı ol ulıwma XIX a\\'sir a\\'debiyatında da ayrıqsha orıng\\'a iye. Bul da\\'wirde ol bilimi, du\\'nyag\\'a ko\\'z-qarası, talantı jag\\'ınan a\\'zerbayjanlı Mırza Fatali Axundov sıyaqlı ko\\'pshilikke ma\\'lim bolıp qalg\\'an edi. Sonın\\' ushında ol ko\\'shpeli ha\\'m yarım ko\\'shpeli xalıqlar arasınan shıqqan en\\' iri tulg\\'a bolıp esaplanadı. \\\\nAbay (İbrayım) Qunanbay ulı 1845-jılı ha\\'zirgi Semey oblastı Abay rayonının\\' Shın\\'g\\'ıs tawında tuwılg\\'an. Ata-babaları burınnan shınjırma-shınjır kiyatırg\\'an qazaq feodalları bolıp, o\\'z atası Qunanbay sol u\\'lkenin\\' belgili bolısların\\'ın\\' biri edi. Al son\\'ınan bolsa Qardaralı okrugine ag\\'a sultan bolıp saylandı. Biraq Abaydın\\' jaslıg\\'ınan baslap shayır ta\\'biyatlı bolıwı a\\'kesi menen kelistire almadı. A\\'kesindegi awır qatallıq, jalgızlıq Abay minezindegi a\\'dalatlılıq, tuwrılıq penen talay ma\\'rtebe toqnastı. Solay etip, Abay menen a\\'kesi Qunanbay arasındag\\'ı mu\\'na\\'sibetlerdin\\' o\\'zi de XIX a\\'sirdegi Qazaqstannın\\' sotsial-ekonomikalıq jag\\'dayların pu\\'tkilley ashıp taslag\\'an edi. Abay jaslıg\\'ınan baslap eski mektepte sawatın ashıp, arab, parsı ha\\'m tu\\'rkiy tillerin u\\'yrendi. Bul tillerde qosıqlar jazg\\'an shayırlardın\\' shıg\\'armaları menen tanıstı. Son\\'ınan ja\\'ne orıssha mektepte u\\'sh jıl oqıdı. Bul jag\\'daylar onın\\' Shıg\\'ıs ha\\'m Evropa ma\\'deniyatın jaqınnan u\\'yreniwine sebepshi boldı. Ol bilim alıwdı ja\\'ne de dawam etpekshi edi. Biraq a\\'kesi onın\\' ha\\'kimshilik penen shug\\'ıllanıwın talap etti. Solay bolsada ol ha\\'mme na\\'rseden de shayırshılıqtı abzal ko\\'rdi. Onın\\' en\\' da\\'slepki qosıqları on jasınan baslap jazılg\\'an. Biran\\' jigirma jasınan baslap jazılg\\'an qosıqları tolıq saqlang\\'an. Basqa da tu\\'rkiy shayırlar sıyaqlı onın\\' en\\' da\\'slepki qosıqları \\'A\\'lipbe\\' qosıg\\'ınan baslanadı. Sebebi A\\'lipbe qosıq arab ha\\'ripleri tiykarında uyqas so\\'zlerdi izlew tiykarında payda bolıp, bul usıl derlik sol da\\'wirdin\\' ko\\'pshilik shayırlarında ushırasadı. Abaydın\\' bul qosıqtı jazıwında da eki tu\\'rli maqset bar. Birinshisi tolıq qazaq a\\'lipbesin du\\'ziw bolsa, ekinshisi - bul bag\\'darda o\\'zinin\\' shayırlıq talantında sınap ko\\'riw edi. Abay bul eki sınaqtanda u\\'lken na\\'tiyjelerge eristi. Solay etip ol on tog\\'ız jaslarınan baslap-aq, talantlı shayır sıpatında xalıq arasında tanıla basladı.\\\\nAbay jasag\\'an zaman qazaq dalasının\\' jan\\'adan oyanıp atırg\\'an da\\'wirleri edi. Sonın\\' ushında ko\\'shpeli xalıq arasınan jan\\'adan mektep ha\\'m medreseler ashılıp, ilimnin\\' paydası tusindirile baslanadı. Xalıqtın\\' shıg\\'ıs ha\\'m evropa tillerinde bilim alıwları keleshekke bolg\\'an isenimlerin a\\'dewir molayttı. A\\'sirese Abay sıyaqlı talantlı shayırlar ushın bul jan\\'alıqlar ayrıqsha edi, solay bolsada Abay ilimnin\\' paydasın keshirek tu\\'singenine a\\'dewir o\\'kinedi. \\\\nShayır lirikalıq qosıqlar menen bir qatarda bir neshe poemalar da jazg\\'an. Onın\\' poemaları arasında \\'Masg\\'ut\\', \\'İskender\\' poemaları ayrıqsha orındı iyeleydi.\\\\nAbay bunnan tısqarı qara so\\'z benen de na\\'siyatnamalar jazıp, ko\\'rnekli rus klassikleri A. S. Pushkin ha\\'m M. Yu. Lermontovtın\\' bir neshe shıg\\'armalaların qazaq tiline awdarg\\'an. A\\'sirese onın\\' awdarmasındag\\'ı A. S. Pushkinnin\\' \\'Evgeniy Onegin\\' poeması sa\\'tli shıqqan awdarmalardan esaplanadı. Solay etip, Abay XIX a\\'sirde ko\\'zge ko\\'ringen tu\\'rk tilles xalıqlar a\\'debiyatının\\' ko\\'rnekli wa\\'killerinin\\' biri bolıp qaldı.\"}\\n',\n",
       " '{\"id\": \"160\", \"revid\": \"6061\", \"url\": \"https://kaa.wikipedia.org/wiki?curid=160\", \"title\": \"Abdiraxman Ja\\'miy\", \"text\": \"Abdiraxman Ja\\'miy - ta\\'jik xalqının\\' shayırı.\\\\n1414-jılı Xorasannın\\' Jam qalasında tuwıladı. Ja\\'miydin\\' balalıq da\\'wirinde shan\\'arag\\'ı Xiratqa ko\\'ship keledi. Ol Xirattag\\'ı Dilkash ha\\'m Samarqandtag\\'ı Ulug\\'bek medresesinde oqıp ta\\'lim aladı. Ja\\'miy putin ku\\'sh-quwatın ilimge, ko\\'rkem do\\'retiwshilikke bag\\'ıshlaydı, til ha\\'m a\\'debiyat, filosofiya, matematika, astronomiya ha\\'m basqa pa\\'nler menen shug\\'ıllanadı. Kitap Ja\\'miydin\\' en\\' jaqın dostı boladı.\\\\nJa\\'miy bir qatar ko\\'rkem ilimiy ha\\'m turmıslıq shıg\\'armalar do\\'retti. Ol ko\\'pshilik ilim ha\\'m a\\'debiyat tarawlarındag\\'ı adamlarg\\'a ustaz boldı. Onın\\' jeti da\\'stannan ibarat \\\\\"Havt avrang\\\\\" atlı lirik divanları \\\\\"Ba\\'ha\\'rstan\\\\\" atlı prozalıq-ta\\'rbiyalıq (didaktikalıq) do\\'retpeleri ken\\' abıray-ataqqa iye boldı. A.Ja\\'miy 1492-jılı Xiratta qaytıs boladı.\\\\nA.Ja\\'miydin\\' ko\\'rkem do\\'retiwshiligi ta\\'jik xalqının\\' ma\\'deniy tariyxında g\\'ana emes, al pu\\'tkil orta shıg\\'ıs ma\\'deniy o\\'mirinde u\\'lken waqıya boldı. Onın\\' do\\'retpeleri Orta Aziyadag\\'ı ko\\'pshilik xalıqlarg\\'a ken\\'nen ma\\'lim. A.Ja\\'miy A\\'liysher Nawayının\\' zamanlası, ustazı, dostı boldı. Nawayı Ja\\'miydi ustaz, ullı so\\'z zergeri (ustası) dep bahalag\\'an. Ja\\'miy de Nawayını ullı so\\'z ustası sıpatında ko\\'rsetti. Og\\'an arnap ayırım shıg\\'armalar jazdı. Ol Nizamiy Ganjaviy, Xısraw Dehlaviyden keyin shıg\\'ıs a\\'debiyatında \\\\\"Xamsa\\\\\" jazg\\'an u\\'lken talant iyesi edi.\"}\\n',\n",
       " '{\"id\": \"161\", \"revid\": \"3543\", \"url\": \"https://kaa.wikipedia.org/wiki?curid=161\", \"title\": \"Advokatura\", \"text\": \"Advokatura – huqıqıy institut bolıp, ol advokatlıq xızmeti menen shug\\'ıllanıwshı shaxslar ha\\'mde jeke advokatlıq a\\'meliyat penen shug\\'ıllanıwshı ayırım shaxslardın\\' g\\'a\\'rezsiz, ka\\'siplik birlespelerin o\\'z ishine aladı.\\\\nAdvokatura funktsiyaları.\\\\nAdvokaturanın\\' atqaratug\\'ın funktsiyaları:\\\\nAdvokaturanın\\' tiykarg\\'ı maqsetleri:\"}\\n',\n",
       " '{\"id\": \"162\", \"revid\": \"3999\", \"url\": \"https://kaa.wikipedia.org/wiki?curid=162\", \"title\": \"Afrika\", \"text\": \"Afrika u\\'lkenligi boyınsha ekinshi materik bolıp ol du\\'nya ju\\'zi jerinin\\' besten bir bo\\'liminen azmaz ko\\'birek jerdi iyeleydi ha\\'m ol ulken ko\\'lemde suw menen qorshalg\\'an. Ol 61 ma\\'mleketten ibarat ha\\'m ol jerde du\\'nya ju\\'zi xalq ının\\' 14% i jasaydı. Ol adamzat jasag\\'an en\\' birinshi materik esaplanadı.\\\\nOl basqa kontinentler menen to\\'mendegi shegaralarg\\'a iye:\\\\nGeografiya.\\\\nAfrikada jasawshı adamlardın\\' ko\\'pshiligi jarlı ha\\'m olar awıllıq jerlerde jasaydı.\\\\nArqa yamasa Saxara Afrikası.\\\\nArqa Afrikanın\\' ko\\'pshilik bo\\'limin Saxara sho\\'listanlıg\\'ı iyelegeni ushın ol jerler qurg\\'aq ha\\'m jıllı ha\\'m jawınlı ma\\'wsim bolmaydı. Saxara Afrikasında da\\'rya yamasa basqa suw o\\'zekleri ju\\'da az. Bunın\\' jıllı ha\\'m qurg\\'aq bolıwının\\' sebebi, materik ju\\'da\\' ken\\' yag\\'nıy jawın ha\\'m samal alıp keliwshi okeannan alısta jaylasqan. Bulaq sıyaqlı jer astı suw o\\'zekleri sho\\'lde ju\\'da\\' a\\'hmiyetli. Bular a\\'dette oazislerdi payda etedi. Oazis bul sho\\'l ortasındag\\'ı jasıl (o\\'simlikli) jer.\\\\nSaxara sho\\'listanlıg\\'ının\\' arqasında jaylasqan ma\\'mleketlerde sho\\'listanlıqtın\\' qurg\\'aq samalının\\' ta\\'siri ku\\'shli.\\\\nAfrikanın\\' jıllı bolıwının\\' sebebi ol eki tropik arasında jaylasıwında:\\\\nTropikler ju\\'da\\' jıllı jerler esaplanıp, onın\\' orayında ekvator jaylasqan (on\\' ta\\'repte qızıl sızıq penen ko\\'rsetilgen). Bul sızıqlar haqıyqatında joq, olar tek adamlar ta\\'repinen quyashtın\\' nurları qay jerde en\\' ku\\'shli ekenligin ko\\'rsetiw ushın qollanıladı.\\\\nAlıs arqadag\\'ı ellerdin\\' hawa-rayı salqınraq ha\\'m Jer orta ten\\'izi boyındag\\'ı Evropa ma\\'mleketlerindegi hawa-rayına jaqın.\\\\nQubla yamasa Kishi Saxara Afrikası.\\\\nBul bo\\'lim Afrika kontinentinin\\' qublası haqqında, al Qubla Afrika ma\\'mleketi haqqında emes.\\\\nQubla Afrikada Arqag\\'a qarag\\'anda jawın ko\\'birek. Qubla jag\\'a boylap tawlı jerler ha\\'m az. Bul samaldın\\' bultlardı a\\'keliwin an\\'satlastıradı ha\\'m na\\'tiyjede jawın-shashın ko\\'p boladı. Qubla Afrika Arqa Afrikaday ken\\' emes. Qubla Afrikada bir neshe tropikalıq ıg\\'al tog\\'aylar bar.\\\\nHaywanatları.\\\\nAfrica has a lot of wildlife. There are many types of animals there. Some are cheetahs, elephants, lions, snakes, giraffes, and a lot more. Over 2,000 types of fish live in African lakes and rivers.\\\\nAfrika haywanlarg\\'a bay. Ol jerde haywanlardın\\' tu\\'rleri ko\\'p. Ma\\'selen gepard, pil, arıslan, jılan, jiraf ha\\'m ko\\'plegen basqa haywanlar. Afrika ko\\'l ha\\'m da\\'ryalarında balıqtın\\' 2,000 nan aslam tu\\'ri jasaydı.\"}\\n',\n",
       " '{\"id\": \"163\", \"revid\": \"3543\", \"url\": \"https://kaa.wikipedia.org/wiki?curid=163\", \"title\": \"Aktsiya\", \"text\": \"Aktsiya – bul ha\\'reket etiw mu\\'ddeti belgilenbegen, aktsionerlik ja\\'miyettin\\' ustavlıq kapitalına yuridikalıq yamasa fizikalıq shaxs ta\\'repinen belgili u\\'lestin\\' qosılg\\'anın tastıyıqlaytug\\'ın, usı ja\\'miyettin\\' mu\\'lkine onın\\' iyesinin\\' qatnasıwın tastıyıqlaytug\\'ın ha\\'m og\\'an dividend alıw, a\\'dette, bul ja\\'miyetti basqarıwg\\'a qatnasıw huqıqın beretug\\'ın bahalı qag\\'az. Yag\\'nıy aktsiya – bul aktsionerlik ja\\'miyet nege iye bolsa, sonın\\' ba\\'rin de aktsionerdin\\' u\\'lesi, kapitaldın\\', mu\\'lktin\\', da\\'ramattın\\' bir bo\\'legine onın\\' nızamlastırılg\\'an huqıqı. Ja\\'miyettin\\' o\\'zi qanshelli jasasa, ol da sonshelli waqıt jasaydı, bul waqıt ishinde usı aktsiyanın\\' ko\\'plegen iyeleri almassa da, eger aktsionerlik ja\\'miyet ashıq tu\\'rdegi bolsa, onda aktsioner aktsiyalardı ja\\'miyetke qaytarmaw huqıqına iye. Aktsioner kapitalı bo\\'linbeydi.\\\\nAktsiyalar emissiyası to\\'mendegi jag\\'daylarda: aktsionerleskende, yag\\'nıy ustavlıq kapitaldı du\\'ziw ushın aktsionerlik ja\\'miyetti sho\\'lkemlestirgende, ma\\'mleketlik ka\\'rxananın\\' aktsionerlik ja\\'miyetke aynaldırg\\'anda ha\\'m ustavlıq kapital (ekilenshi emissiya) ko\\'beygende a\\'melge asırıladı.\\\\nJa\\'miyettin\\' ustavlıq kapitalı ja\\'miyettin\\' aktsionerler ta\\'repinen satıp alıngan aktsiyalarının\\' nominal bahasınan qu\\'raladı. Ja\\'miyet ta\\'repinen shıg\\'arılatug\\'ın barlıq aktsiyalardın\\' nominal bahası bir qıylı bolıwı tiyis. Minimal ustavlıq fond (kapital) bizin\\' respublikamızdın\\' aymag\\'ında jan\\'adan du\\'zilgen ashıq aktsionerlik ja\\'miyetler ushın ja\\'miyet dizimge alıng\\'an sa\\'nege nızamshılıq penen belgilengen en\\' az xızmet xaqının\\' keminde eki ju\\'z ese summasın, al jabıq aktsionerlik ja\\'miyet ushın ja\\'miyet dizimge alıng\\'an sa\\'nege nızamshılıq penen belgilengen en\\' az xızmet xaqının\\' ju\\'z ese summasın qurawı tiyis.\\\\nJa\\'miyettin\\' ustavlıq kapitalı aktsiyalardın\\' nominal bahasın ko\\'beytiw yamasa qosımsha aktsiyalardı jaylastırıw jolı menen ko\\'beytiliwi mu\\'mkin.\\\\nAktsiyalardın\\' nominal bahasın ko\\'beytiw jolı menen ja\\'miyettin\\' ustavlıq kapitalın ko\\'beytiw haqqında ha\\'m ja\\'miyettin\\' ustavına tiyisli o\\'zgerisler kirgiziw haqqında sheshim aktsionerlerdin\\' ulıwma jıynalısında yamasa ja\\'miyettin\\' baqlaw ken\\'esi ta\\'repinen qabıl etiledi, eger ja\\'miyettin\\' ustavına yamasa aktsionerlerdin\\' ulıwma jıynalısının\\' sheshimine muwapıq ja\\'miyettin\\' Baqlaw ken\\'esine usınday sheshim qabıl etiw huqıqı berilse. Qosımsha aktsiyalar ja\\'miyettin\\' ustavı menen belgilengen ja\\'riyalang\\'an aktsiyalar mug\\'darı sheginde g\\'ana ja\\'miyet ta\\'repinen jaylastırılıwı mu\\'mkin.\\\\nQosımsha aktsiyalardı jaylastırıw jolı menen ja\\'miyettin\\' ustavlık fondın ko\\'beytiw haqqında sheshim aktsionerlerdin\\' ulıwma jıynalısında yamasa Baqlaw ken\\'esi ta\\'repinen qabıl etiledi, eger bul ustavta na\\'zerde tutılg\\'an bolsa.\\\\nJaylastırılatug\\'ın qosımsha jay (a\\'piwayı) aktsiyalardın\\' ha\\'m bul tu\\'rdegi ja\\'riyalang\\'an aktsiyalardın\\' mug\\'darı (u\\'lesi) sheginde artıqmashlı aktsiyalardın\\' ha\\'r tipinin\\' mug\\'darı olardı jaylastırıw mu\\'ddetleri ha\\'m sha\\'rtleri, sonday-aq nızamg\\'a muwapıq jaylastırılatug\\'ın aktsiyalardı artıqmashlı satıp alıw huqıqına iye aktsionerler ushın qosımsha aktsiyalardı jaylastırıw jolı menen ja\\'miyettin\\', ustavlıq fondın ko\\'beytiw haqqındag\\'ı sheshim menen belgilengen bolıwı tiyis.\\\\nAktsionerlerdin\\' ulıwma jıynalısında dawıslardın\\' jigirma bes protsentten aslamına iye ma\\'mleketke tiyisli aktsiyalar paketi bolg\\'anda qosımsha aktsiyalardı shıg\\'arıw jolı menen ja\\'miyettin\\' ustavlıq kapitalın ko\\'beytip barıw tek g\\'ana mu\\'lkti basqarıw boyınsha ma\\'mleketlik komitettin\\' wa\\'killigi bolıp tabıladı.\\\\nJa\\'miyettin\\' ustavlıq kapitalı aktsiyalardın\\' nominal bahasın azaytıw yamasa olardın\\' ulıwma sanın qısqartıw jolı menen, sonın\\' ishinde aktsiyalardın\\' bir bo\\'legin ja\\'miyet ta\\'repinen satıp alıp, son\\'ın ala o\\'tew jolı menen azaytılg\\'an bolıwı mu\\'mkin.\\\\nAktsiyalardın\\' bir bo\\'legin satıp alıw ha\\'m o\\'tew jolı menen ja\\'miyettin\\' ustavlıq kapitalın azaytıwg\\'a ruxsat etiledi, eger usınday imkaniyat ja\\'miyettin\\' ustavında na\\'zerde tutılg\\'an bolsa.\\\\nJa\\'miyet ustavlık kapitaldı azaytıwg\\'a haqlı emes, eger bunın\\' aqıbetinde onın\\' mug\\'darı ja\\'miyettin\\' ustavındag\\'ı tiyisli o\\'zgerisler dizimge alıng\\'an sa\\'nege belgilenetug\\'ın ja\\'miyettin\\' ustavlıq fondının\\' nızam menen belgilengen minimal mug\\'darınan az bolıp qalsa.\\\\nJa\\'miyettin\\' ustavlıq kapitalın azaytıw haqqında ha\\'m ustavına tiyisli o\\'zgerisler kirgiziw haqqında sheshim aktsionerlerdin\\' ulıwma jıynalısında qabıl etiledi. Ustavlıq kapitaldı azaytıw haqqında sheshim qabıl ete otırıp aktsionerlerdin\\' ulıwma jıynalısı fondtı azaytıw sebeplerin ko\\'rsetedi ha\\'m onı azaytıw ta\\'rtibin belgileydi. Ustavlıq kapitaldı azaytqanda ja\\'miyetti saplastırg\\'an jag\\'dayda na\\'zerde tutılg\\'an aktsionerlerdin\\' ma\\'plerin qorg\\'aw sha\\'rtlerin saqlaw za\\'ru\\'r.\\\\nAktsiya - belgili sharayatlarda o\\'z kapitalların ko\\'beytiwge, olardı inflyatsiyadan qorg\\'awg\\'a imkaniyat beretug\\'ın bahalı qag\\'azlardın\\' birden-bir tu\\'ri. Aktsiya – aktsionerlik ja\\'miyettin\\' aktsionerleri aldında qarız minnetlemesi.\\\\nJa\\'miyet o\\'z aktsiyaların satıp alıw huqıqına iye. Biraq bir qatar ellerdin\\' nızamlarında eger ja\\'miyet to\\'lewge uqıpsız bolsa, onda ol o\\'z aktsiyaların satıp alıw huqıqına iye emes degen reje bar. Eger usınday satıp alıw bul ja\\'miyettin\\' to\\'lew uqıpsızlıg\\'ına alıp kelgen jag\\'dayda da tap bunın\\' o\\'zi na\\'zerde tutılg\\'an. Nızamlarda aktsiyalardı bo\\'lsheklewge ruxsat etilgen. Aylanıstagı aktsiyalardın\\' ha\\'r biri aktsiyalardın\\' ko\\'p sanına bo\\'lingen bolıwı mu\\'mkin.\"}\\n',\n",
       " '{\"id\": \"164\", \"revid\": \"491\", \"url\": \"https://kaa.wikipedia.org/wiki?curid=164\", \"title\": \"Albert Einstein\", \"text\": \"Albert Einstein (aytılıwı:\\\\\"Albert Eynshteyn\\\\\"; 14 mart, 1879 - 18 aprel, 1955) fizik ha\\'m ilimpaz bolg\\'an. Einstein 1921-jılı fizika tarawı boyınsha Nobel sıylıg\\'ın alg\\'an.\\\\nEinstein o\\'zinin\\' jaqtılıq, materiya, awırlıq ku\\'shi, kosmos ha\\'m waqıt haqqındag\\'ı teoriyaları menen belgili. Bul teoriyalar ilimpazlarg\\'a zatlardı aldıng\\'ıdan jaqsıraq tu\\'siniwi ushın ja\\'rdem berdi. Onın\\' teoriyaları arnawlı qatnas ha\\'m ulıwma qatnas teoriyası dep ataladı. Onın\\' en\\' belgili ten\\'lemesi formula_1. Bul energiya ha\\'m massa bir zattın\\' o\\'zgeshe formaları ekenin ha\\'m bir bo\\'lek massada energiyanın\\' ko\\'lemi jaqtılıq tezligi menen ko\\'beytilgen massanın\\' ko\\'lemine ten\\' ekenin an\\'latadı.\\\\nOnın\\' o\\'miri.\\\\nEinstein Germaniyanın\\' Württemberg qalasının\\' Ulm degen jerinde tuwılg\\'an. Ol evrey shan\\'arag\\'ınan bolg\\'an, biraq shan\\'arag\\'ı diniy bolmag\\'an. Albert katolik mektebinde oqıg\\'an. Ol jaqsı oqıwshı bolmag\\'an ha\\'m ko\\'plegen adamlar onı aqılsız esaplag\\'an. Bir ku\\'ni onın\\' a\\'kesi og\\'an magnitlik kompas beredi. Ol ko\\'rinbes ku\\'shtin\\' qalay kompastın\\' iynesin qozg\\'altıwın tusiniwge qızıqqan ha\\'m usılay etip ilim ha\\'m matematikag\\'a qızıg\\'ıp baslag\\'an. \\\\nOl jası u\\'lkeygennen keyin Shveytsariyada mektepte oqıwg\\'a ketedi. Oqıwın pitkergennen keyin ol sol jerde patent byurosına jumısqa kiredi. Jumıs islewi dawamında ol onı ullı ilimpaz sıpatında belgili qılg\\'an jumısların jazg\\'an. \\\\nBirinshi du\\'nya ju\\'zlik urıs baslanbastan aldın, ol Germaniyag\\'a qaytadı ha\\'m sol jerde mektep direktorı boladı. Ol natsistlik hu\\'kimet ku\\'shke minemen degenshe Berlinde jasag\\'an. Natsistler evreylerdi yamasa evrey shan\\'arag\\'ınan kelip shıqqanlardı jaman ko\\'rer edi. Olar Einsteindi \\\\\"Evrey fizikasın\\\\\" jaratıwg\\'a ja\\'rdem beriwinde ayıplaydı ha\\'m nemis fizikleri onın\\' teoriyaları qa\\'te ekenligin da\\'liyllewge ha\\'reket etedi. Einstein AQShqa ko\\'ship ketedi ha\\'m 1940-jılı ol AQSh puxarasına aylanadı. \\\\nEkinshi du\\'nya ju\\'zlik urıs dawamında, Einstein AQSh prezidenti Franklin D. Rooseveltke (Franklin D. Ruzvelt) AQSh natsist hu\\'kimetinen aldın atom bombasın oylap tabıwı kerek ekenligin jazg\\'an alımlardın\\' biri bolg\\'an. \\\\n1952-jılı, İzrail hu\\'kimeti Einsteindi İzraildin\\' ekinshi Prezidenti bolıwg\\'a shaqırg\\'an, biraq ol razı bolmag\\'an. \\\\nEinstein 1955-jılı 18-aprelde ju\\'rek awırıwınan qaytıs bolg\\'an.\\\\nOnın\\' isenimleri.\\\\nKo\\'plegen ilimpazlar tek g\\'ana o\\'zlerinin\\' jumısları menen shug\\'ıllanadı, biraq Einstein siyasat ha\\'m du\\'nya paraxatshılıg\\'ı haqqında so\\'ylegen ha\\'m jazg\\'an. Ol sotsializm ha\\'m pu\\'tkil du\\'nya ushın bir hu\\'kimet bolıwı haqqında ideyalardı unatqan. Ol ja\\'ne İzraildin\\' jan\\'a ma\\'mleketin payda etiw ha\\'reketi ushın yag\\'nıy sionizm ushın jumıs islegen. \\\\nEinstein evrey shan\\'arag\\'ınan bolg\\'anı menen ol bul dinge jen\\'il qatnasıqta boldı. Ol evrey filosofı Baruch Spinoza ideyaların unatqan ha\\'m Buddizmdi jaqsı din esaplag\\'an. \\\\nEinstein ilimpazlarg\\'a du\\'nyanı jaqsıraq tu\\'siniwge ja\\'rdem beriwshi ko\\'plegen ideyalar haqqında oylag\\'an bolsada, ol onın\\' keyinirek o\\'mirinde oylap tabılg\\'an ko\\'plegen ilimiy teoriyalar haqqında o\\'zgeshe ko\\'z qarasta bolg\\'an. Ko\\'plegen ilimiy teoriyalar bizler anıq bilmeytug\\'ın, tek mu\\'mkin bolg\\'an zatlardı talıqlaydı. Einstein bunday teoriyalardı unatpadı; onın\\' pikirinshe, durıs teoriya bolsa qa\\'legen zattı tu\\'siniw mu\\'mkin edi. Ol bir ret bılay degen: \\\\\"Men qudaydın\\' a\\'lem menen su\\'yek oyının (dice) oynawına isenbeymen\\\\\".\\\\nEinstein ilimge ko\\'p u\\'lesin qosqanı sebepli, onın\\' atı ha\\'zirgi ku\\'nde ha\\'r qıylı jerlerde qollanıladı. Fotoximiyada qollanılatug\\'ın birlik onın\\' atı menen atalg\\'an. Ol Avogardo sanının\\' bir foton jaqtılıq energiyasına ko\\'beytkenge ten\\'. Einsteiniy ximiyalıq elementi de ilimpazdın atı menen atalg\\'an. So\\'ylesiwde de bizler ju\\'da\\' aqıllı adamdı \\\\\"Einstein\\\\\" dep ataymız. \\\\nOnın\\' en\\' bir ta\\'sirlendiriwshi aytqan so\\'zi: \\\\\"O\\'mirde jasawdın\\' eki jolı bar, biri hesh qanday ajayıbat jop degen halda, ekinshisi har qanday narse ajayıbat dep esaplagan halda\\\\\".\"}\\n',\n",
       " '{\"id\": \"165\", \"revid\": \"3543\", \"url\": \"https://kaa.wikipedia.org/wiki?curid=165\", \"title\": \"Aleksandr Pushkin\", \"text\": \"Aleksandr Sergeevich Pushkin (6 iyun, 1799, Moskva - 10 fevral 1837, Sankt Peterburg) orıs shayırı, dramaturg, roman ha\\'m qısqa gu\\'rrin\\'ler jazıwshısı bolg\\'an. Ko\\'pshiliktin\\' oyınsha, ol en\\' ullı orıs shayırı bolg\\'an. Ol orıs a\\'debiyatının\\' ullı da\\'stu\\'rin baslag\\'an.\\\\nPushkin hesh bir orıs shayırı qollanbag\\'an stilde jazg\\'an: ol eski shirkew kitablarına tiykarlan\\'gan emes, al awız eki orıs tilinen paydalang\\'an stilde jazg\\'an. Onın\\' basqa orıs jazıwshılarına ta\\'siri ku\\'shli bolg\\'an ha\\'m ko\\'plegen orıs kompozitorları onın\\' gu\\'rrin\\'lerine ha\\'m taqmaqlarına namalar do\\'retken. Pushkinnin\\' poemaları Rossiyadan basqa ma\\'mleketlerde aytarlıqtay ko\\'p adam ta\\'repinen oqılmaydı. Bunın\\' sebebi onın\\' poeziyasın basqa tilge jaqsı awdarıw ju\\'da\\' qıyın, sebebi \\\\nso\\'zler orıs ma\\'deniyatına tiyisli ma\\'nige tolı. Pushkin 1837-jılı 37 jasında duelde o\\'ltiriledi.\\\\nErte jılları.\\\\nPushkinnin\\' a\\'kesi eski aristokrat shan\\'araqtan bolg\\'an. Anası ta\\'repinen Pushkin afrikalıq tu\\'birge iye bolg\\'an. Onın\\' atası Abram Gannibal İstanbulda Abissiniyalı (Efiyopiyalı) bolg\\'an ha\\'m Tu\\'rk sultanının\\' sarayında jasag\\'an. Orıs elshisi onı Rossiya patshası Ullı Pyotrg\\'a sawg\\'a retinde satıp alg\\'an. Gannibal Ullı Pyotrge jaqsı ta\\'sir qaldırg\\'an ha\\'m ol oqıw ushın Parijge jiberilgen. Keyinshelik ol ju\\'da\\' bayıp ketedi. Pushkin o\\'zinin\\' ullı atası menen maqtanıshqa iye bog\\'an ha\\'m ol haqqında \\\\\"Ullı Pyotrdın\\' nergi\\\\\" dep atalg\\'an romanında jazg\\'an.\\\\n19-a\\'sirde Rossiyanın\\' barlıq aristokrat shan\\'araqları fransuz tilin uyrengen, solay etip Pushkin, onın\\' a\\'jag\\'ası ha\\'m a\\'japası orıs tiline qarag\\'anda fransuz tilinde jaqsıraq so\\'ylegen ha\\'m jazg\\'an. Balalardı Arina Rodionovna Yakovleva atlı ta\\'rbiyashı baqqan. Olardı orıs tilin jaqsı ko\\'riwge u\\'yretken usı ta\\'rbiyashı boladı. Ol balalarg\\'a orıs xalıq erteklerin aytıp bergen. Pushkin krestyanlar menen orıs tilinde so\\'ylesken ha\\'m a\\'kesinin\\' kitapxanasında ko\\'plegen kitaplardı oqıg\\'an.\\\\nOl 12 jasında Tsarskoye Seloda jaylasqan İmperator litseyi dep atalatug\\'ın taza mektepke baradı. Keyinshelik bul mektep olardın\\' ataqlı oqıwshısı hu\\'rmetine Pushkin dep atalg\\'an. Ol tez arada orıs ertekleri qaharamanlarınan ha\\'m waqıyalarınan paydalang\\'an halda, orıs tilinde romantikalıq poemalardı jaza baslag\\'an. \\\\\"Ruslan ha\\'m Lyudmila\\\\\" poeması keyinirek Mixail Glinka ta\\'repinen operag\\'a aylanadı.\\\\nEreseklik.\\\\n1817-jılı Pushkin Sankt Peterburgta sırt el firmasına jumısqa kiredi. Ol tez arada siyasat penen qızıg\\'ıp baslaydı ha\\'m 1825-jılı bir topar dvoryanlar ha\\'m armiya ofitserleri basshılıqqa jan\\'a patsha qoyıp onın\\' ku\\'shin azaytıwg\\'a ha\\'reket etken dekabristler ko\\'terilisin qollap quwatlaydı. Pushkin bir neshe siya\\'siy poemalardı jazg\\'an. Na\\'tiyjede ol Sankt Peterburgtan ketiwge ma\\'jbu\\'r bolg\\'an. Ol ma\\'mlekettin\\' qublasındag\\'ı Kavkaz ha\\'m Qırımda altı jıl su\\'rginde bolıwg\\'a ma\\'jbu\\'r boladı. Ol o\\'zinin\\' qublada basınan keshirgenlerin bir neshe romantikalıq gu\\'rrin\\' poemalarda (waqıyanı aytıp beriwshi uzın poemalarda) jazg\\'an. Ol \\\\\"Evgeniy Onegin\\\\\" dep atalg\\'an taqmaq tu\\'rindegi roman u\\'stinde jumısın baslag\\'an. Ol romandı 1833-jılg\\'a shekem pitkermegen. Bul onın\\' en\\' belgili jumısı bolg\\'an. Bul shıg\\'arma ko\\'plegen muzıkantlar ta\\'repinen qollanılg\\'an, ha\\'tte Tchaikovskiy onı operag\\'a aylandırg\\'an. Poema a\\'piwayı orıs adamların sol da\\'wir ja\\'miyetinde su\\'wretleydi.\\\\nPushkin ele su\\'rginde ekenligine ashıwlanadı ha\\'m doslarına ko\\'plegen xatlar jazadı. Bul xatlardın\\' ko\\'pshiligi keyinirek baspadan shıg\\'arılg\\'an. Ol ko\\'p waqtın ishiw, oynaw ha\\'m qılısh penen urısıw menen o\\'tkergen. Ol o\\'zi qol astında jumıs islep atırg\\'an graftın\\' qızın jaqsı ko\\'rip qaladı. Graf Pushkindi Rossiyanın\\' basqa shetine, Pskovqa jaqın jerde o\\'zinin\\' anasının\\' pomestieine su\\'rginge jiberedi. Pushkin bul jerde eki jıl o\\'tkeredi. Ol jalg\\'ız edi, biraq ol orıs tariyxın uyrenedi ha\\'m krestyanlar menen baylanısta boladı. Onın\\' jazg\\'an poemaları orıs ma\\'deniyatı ideyalarına tolı edi. Ol o\\'zinin\\' baslı jumıslarının\\' biri bolg\\'an tariyxıy waqıyag\\'a tiykarlang\\'an \\\\\"Boris Godunov\\\\\" dramasın jazg\\'an. Kompozitor Musorgskiy keyinirek bunı operag\\'a aylandırg\\'an. Boris Godunov 17-a\\'sirdegi jawız patsha bolg\\'an. Pushkinnin\\' pesası a\\'piwayı adamlarda u\\'lken ku\\'sh bolg\\'anlıg\\'ın ko\\'rsetedi. Sol sebepli onı baspadan shıg\\'arıw Pushkin ushın qıyın boladı.\\\\nSu\\'rginnen qaytıp keliwi.\\\\n1825-jılg\\'ı ko\\'terilisten keyin taza patsha Nikolay I sol waqıtqa kelip Pushkinnin\\' ju\\'da\\' belgili bolıp ketkenin tu\\'sinedi. Ol onın\\' ko\\'teriliste qatnaspag\\'anın da tu\\'sinedi ha\\'m onın\\' qaytıp keliwine ruxsat beredi. Patsha Pushkinnin\\' jumısları baspadan shıg\\'ıwınan aldın o\\'zi ko\\'rip shıg\\'atug\\'ınlıg\\'ın aytadı. Ol o\\'zinin\\' jaqsı patsha bolatug\\'ının ha\\'m jarlılardın\\' (qullardın\\') azat etiliwine ja\\'rdem beretug\\'ınlıg\\'ın aytadı. Pushkin qıyın jag\\'dayda edi, sebebi ol patshag\\'a unamaytug\\'ın hesh zat jaza almas edi. Ol ma\\'mleket basshıları haqqında jaman zat jazbaslıg\\'ı ushın ju\\'da\\' abaylı bolıwı kerek edi. Politsiya itibar menen onı baqlawdı dawam ettirdi. Degen menen, sol waqıtta Pushkin ko\\'plegen ullı shıg\\'armalardı jazadı, derlik ha\\'r biri orıs a\\'debiyatında o\\'z tarawının\\' birinshisi bolg\\'an. Bug\\'an \\\\\"Pikalı xanım (Пиковая дама)\\\\\" dep atalg\\'an qisqa gu\\'rrin\\'i mısal bola aladı. Bul shıg\\'arma Tchaikovsky ta\\'repinen operag\\'a aylandırilg\\'an ha\\'m Dostoevskiydin\\' romanlarına u\\'lken ta\\'sir ko\\'rsetken.\\\\nAqırgı jılları.\\\\nPushkin o\\'zinin\\' son\\'g\\'ı jıllarında Sankt Peterburgta hu\\'kimet xızmetinde bolg\\'an. Ol 1831-jılı uylengen ha\\'m patsha sarayı ja\\'miyetinde ko\\'p waqıt o\\'tkeriwge ma\\'jbu\\'r bolg\\'an. Ol ko\\'birek proza jaza baslag\\'an. Ol Ullı Pyotr tariyxın ha\\'m \\\\\"Kapitan qızı\\\\\" tariyxıy romanın jazg\\'an. Ol patshadan o\\'z jumısınan bosap, waqtın awılda jazıw menen o\\'tkeriwine ruxsat etiwin sorag\\'an. Patsha bug\\'an ruxsat bermegen. Pushkin 1837-jılı duelde o\\'ltiriledi. Ol hayalının\\' hu\\'rmetin qorg\\'awı ushın duelge shıg\\'ıwına ma\\'jbu\\'r boladı.\\\\nPushkinnin\\' jetiskenlikleri.\\\\nPushkin bolmag\\'anında bu\\'gingi ku\\'nde orıs tili ju\\'da\\' o\\'zgeshe bolar edi. Shıg\\'armalarında awız eki so\\'ylesiw tilin paydalanıwı arqalı ol onı an\\'sat sonın\\' menen birge teren\\' sezimlerdi bildire alatug\\'ın tilge aylandırdı. Onın\\' jumısları keyinirek Turgenev, Goncharov ha\\'m Lev Tolstoy sıyaqlı jazıwshılarg\\'a u\\'lken ta\\'sir ko\\'rsetken. \\\\\"Evgeniy Onegin\\\\\" da\\'wir ja\\'miyetin ashıp bergen birinshi orıs romanı bolg\\'an. Onın\\' jumısları barlıq baslı tillerge awdarılg\\'an.\"}\\n']"
      ]
     },
     "execution_count": 17,
     "metadata": {},
     "output_type": "execute_result"
    }
   ],
   "source": [
    "kaa[:20]"
   ]
  },
  {
   "cell_type": "markdown",
   "id": "dominant-block",
   "metadata": {},
   "source": [
    "The encoding is causing some weird display issues for some characters here, it's strange because it shows up fine in my text editor and in zsh with the `head` command. Either way, it gets corrected once it travels through the rest of my current data correction pipeline and the file which I'll show later displays fine."
   ]
  },
  {
   "cell_type": "markdown",
   "id": "middle-peace",
   "metadata": {},
   "source": [
    "# 3: Get the article text\n",
    "The next step in the pipeline is correcting the encoding for languages that do not use latin script, which look like a series of unicode codepoints (eg `\\u1324\\u3124...`) after the XML and Wikipedia formatting is extracted. Then, I grab just article text from the json objects."
   ]
  },
  {
   "cell_type": "code",
   "execution_count": 33,
   "id": "spectacular-character",
   "metadata": {},
   "outputs": [],
   "source": [
    "f = open('datagather/af-texts.txt')\n",
    "aftexts = f.readlines()\n",
    "f.close()"
   ]
  },
  {
   "cell_type": "code",
   "execution_count": 34,
   "id": "irish-lecture",
   "metadata": {},
   "outputs": [
    {
     "data": {
      "text/plain": [
       "1"
      ]
     },
     "execution_count": 34,
     "metadata": {},
     "output_type": "execute_result"
    }
   ],
   "source": [
    "len(aftexts)"
   ]
  },
  {
   "cell_type": "code",
   "execution_count": 35,
   "id": "cardiac-hawaii",
   "metadata": {},
   "outputs": [
    {
     "name": "stdout",
     "output_type": "stream",
     "text": [
      " AfrikaAfrika is die wêreld se tweede grootste kontinent (na Asië) in sowel oppervlakte as bevolking. Saam met die eilande beslaan dit ongeveer 30 221 532 km² wat 20,3% van die totale landoppervlakte van die aarde is en dit word bewoon deur meer as 1 miljard mense – ongeveer 'n sewende van die wêreldbevolking.Tale.Die meeste amptelike tale van Afrika is Indo-Europese tale soos Frans, Engels, Portu\n"
     ]
    }
   ],
   "source": [
    "aftexts = aftexts[0]\n",
    "print(aftexts[:400])"
   ]
  },
  {
   "cell_type": "markdown",
   "id": "valuable-pasta",
   "metadata": {},
   "source": [
    "As you can see, it's not perfectly clean - I still have a bug somewhere where some words are not being separated by spaces. This should start with \"Afrika Afrika\", not \"AfrikaAfrika\". Sometimes I'll also see other random things like links or remaining XML that managed to slip through too. "
   ]
  },
  {
   "cell_type": "markdown",
   "id": "alternative-mixture",
   "metadata": {},
   "source": [
    "After this step, I was planning to tokenize. I added this in and started to run the script on all the data, but disliked the results I was getting. I don't know what tool I could use to tokenize different languages since there are so many different rules, types of puntuation, and probably a lot of things I don't know about how to tokenize the languages I don't speak. So, I just took the tokenizing step out at least for now.\n",
    "# 4: Cleaning to remove punctuation, extra spaces\n",
    "Next, I just pass the text through a filter to remove all puntuation characters and replace sequences of multiple spaces in a row with just one space."
   ]
  },
  {
   "cell_type": "code",
   "execution_count": 63,
   "id": "korean-netherlands",
   "metadata": {},
   "outputs": [],
   "source": [
    "f = open('datagather/af2.txt', encoding='utf-8')\n",
    "afclean = f.readlines()\n",
    "f.close()"
   ]
  },
  {
   "cell_type": "code",
   "execution_count": 64,
   "id": "offensive-springer",
   "metadata": {},
   "outputs": [
    {
     "data": {
      "text/plain": [
       "' AfrikaAfrika is die wêreld se tweede grootste kontinent na Asië in sowel oppervlakte as bevolking Saam met die eilande beslaan dit ongeveer 30\\xa0221\\xa0532\\xa0km² wat 203 van die totale landoppervlakte van die aarde is en dit word bewoon deur meer as 1 miljard mense ongeveer n sewende van die wêreldbevolkingTaleDie meeste amptelike tale van Afrika is IndoEuropese tale soos Frans Engels Portugees Spaans e'"
      ]
     },
     "execution_count": 64,
     "metadata": {},
     "output_type": "execute_result"
    }
   ],
   "source": [
    "afclean[0][:400]"
   ]
  },
  {
   "cell_type": "markdown",
   "id": "million-qualification",
   "metadata": {},
   "source": [
    "Again, there is some strange encoding issue when I display it in Jupyter that is not occurring elsewhere. You can see it in the spaces between the numbers. "
   ]
  },
  {
   "cell_type": "markdown",
   "id": "nearby-contrast",
   "metadata": {},
   "source": [
    "# 5: Chunking and shuffling\n",
    "Originally I had the idea to make each line a sentence or a certain number of words. Then I realized not all languages separate words or sentences the same way, and decided the most language-neutral way to do this would be to simply make each line 500 characters long. I refer to each line as a chunk, and simply divide the long block of text every 500 characters. I'm sure there are better ways to handle this, but I chose this simple way for now at least. Then, if there are more than 100000 chunks, I randomly sample 100000 chunks to prevent any larger languages from being overrepresented in my data. This number is somewhat arbitrary so I might revisit later. Lastly, I shuffle the chunks."
   ]
  },
  {
   "cell_type": "code",
   "execution_count": 67,
   "id": "brief-genetics",
   "metadata": {},
   "outputs": [],
   "source": [
    "f = open('datagather/extracted/af.txt', encoding='utf-8')\n",
    "af = f.readlines()\n",
    "f.close()"
   ]
  },
  {
   "cell_type": "code",
   "execution_count": 68,
   "id": "available-payday",
   "metadata": {},
   "outputs": [
    {
     "data": {
      "text/plain": [
       "['07 en 191112 Ivan Haarburger 191214 en Sol Harris 1929Die gemeenskap het n goed ontwikkelde netwerk instellings gehad waaronder n doelmatige gemeenskapsentrum vir kultuur en opvoedingsaktiwiteite In 1965 is n groot nuwe sinagoge gebou In 1956 het die Hebreeuse gemeente Chevra Kaddisha talmoed tora en liefdadigheidsintellings saamgespan om die Verenigde Hebreeuse Instellings van Bloemfontein te vormDaar was ook onder meer n OVS provinsiale komitee van de SuidAfrikaanse Joodse Raad van Afgevaardig\\n',\n",
       " ' nie en het die lyding beëindig wat ander wesens nog ervaarSiddhartha Gautama word nie as die enigste Boeddha beskou nie Die Palikanon verwys na talle vorige Boeddhas sien Lys van bekende Boeddhas terwyl die Mahayanatradisie nog baie Boeddhas van hemelse eerder as historiese oorsprong noem n Algemene geloof is dat die volgende Boeddha se naam Maitreya sal weesTheravadaBoeddhismeIn die Theravadatradisie kan n persoon ontwaak word uit die slaap van onkunde deur die ware aard van realiteit te besef\\n',\n",
       " 'fort omskep Ná die vrede van 1847 is n behoorlike fort op die oostelike oewer van die rivier gebouIn 1867 het Jane Elizabeth Waterston SuidAfrika se eerste vrouedokter hier begin werk as n onderwyseresIn 1981 het dit deel van die onafhanklike tuisland Ciskei geword en moes nieswartes dit verlaatDistrikDaar word wol sybokhaar beesvleis melk sitrusvrugte tabak en hout gelewer in die distrik Die Universiteit van Fort Hare is opgerig waar die militêre fort in die 19de eeu op die oewers van die Tyhum\\n']"
      ]
     },
     "execution_count": 68,
     "metadata": {},
     "output_type": "execute_result"
    }
   ],
   "source": [
    "af[:3]"
   ]
  },
  {
   "cell_type": "code",
   "execution_count": 69,
   "id": "linear-temperature",
   "metadata": {},
   "outputs": [],
   "source": [
    "f = open('datagather/extracted/en.txt', encoding='utf-8')\n",
    "en = f.readlines()\n",
    "f.close()"
   ]
  },
  {
   "cell_type": "code",
   "execution_count": 72,
   "id": "czech-montreal",
   "metadata": {},
   "outputs": [
    {
     "data": {
      "text/plain": [
       "['e countries and the preventable deaths of several childrenMechanismAutisms symptoms result from maturationrelated changes in various systems of the brain How autism occurs is not well understood Its mechanism can be divided into two areas the pathophysiology of brain structures and processes associated with autism and the neuropsychological linkages between brain structures and behaviors The behaviors appear to have multiple pathophysiologiesThere is evidence that gutbrain axis abnormalities may\\n',\n",
       " 'and reflects less heat back into space This feedback loop results in a reduced albedo effectClimate and weatherAlbedo affects climate by determining how much radiation a planet absorbs The uneven heating of Earth from albedo variations between land ice or ocean surfaces can drive weatherAlbedotemperature feedbackWhen an areas albedo changes due to snowfall a snowtemperature feedback results A layer of snowfall increases local albedo reflecting away sunlight leading to local cooling In principle \\n',\n",
       " ' is to screen all children for ASD at 18 and 24 months using autismspecific formal screening tests In contrast in the UK children whose families or doctors recognize possible signs of autism are screened It is not known which approach is more effective Screening tools include the Modified Checklist for Autism in Toddlers MCHAT the Early Screening of Autistic Traits Questionnaire and the First Year Inventory initial data on MCHAT and its predecessor the Checklist for Autism in Toddlers CHAT on ch\\n',\n",
       " ' of external determinants Early influences on individualist forms of anarchism include William Godwin Max Stirner and Henry David Thoreau Through many countries individualist anarchism attracted a small yet diverse following of Bohemian artists and intellectuals as well as young anarchist outlaws in what became known as illegalism and individual reclamationPostclassical and contemporaryAnarchist principles undergird contemporary radical social movements of the left Interest in the anarchist move\\n',\n",
       " 'mpts would be the impetus for a revolution against capitalism and the state Many of these attacks were done by individual assailants and the majority took place in the late 1870s the early 1880s and the 1890s with some still occurring in the early 1900s Their decrease in prevalence was the result of further judicial power and targeting and cataloging by state institutionsAnarchist perspectives towards violence have always been perplexing and controversial On one hand anarchopacifists point out t\\n']"
      ]
     },
     "execution_count": 72,
     "metadata": {},
     "output_type": "execute_result"
    }
   ],
   "source": [
    "en[:5]"
   ]
  },
  {
   "cell_type": "markdown",
   "id": "invalid-participant",
   "metadata": {},
   "source": [
    "Despite having shuffled, some chunks look more related than I might have expected by chance, so I'm planning to check on that. On the bright side, the encoding issues from files I showed you mid-pipeline do not seem present in these written out files."
   ]
  },
  {
   "cell_type": "markdown",
   "id": "absolute-england",
   "metadata": {},
   "source": [
    "# To do\n",
    "Fixing things\n",
    "- Fix lack of space between some word\n",
    "- Check for shuffling bug\n",
    "- More data cleaning\n",
    "- Increase amount of each language processed\n",
    "- Reconsider arbitrary decisions: chunk size and splitting heuristic, maximum number of chunks, etc \n",
    "\n",
    "Next data gathering steps\n",
    "- Revisit tokenization?\n",
    "- Create corpus that has all languages mixed and shuffled together, with each chunk labeled for its language\n",
    "- Feature extraction\n",
    "- Split into train/dev/test sets, ensuring equal representation of languages"
   ]
  },
  {
   "cell_type": "markdown",
   "id": "secondary-raising",
   "metadata": {},
   "source": [
    "I also do have some ideas for how I will separate a language from its writing system automatically, so the classifier doesn't just pay attention to that. Lets say a sample of text starts:\n",
    "        \n",
    "        nfcdsoe fdjswlg afk\n",
    "\n",
    "The first character, 'n' will be represented by a 0, the 'f' by a 1, c by a 2, and so on until reaching the space character, which will still be represented by a space. The second word starts with 'f', which we already chose to represent by 2. The 'd' will be represented by 3 after being discovered in the first word. The 'j' is new, so it will be represented by '7' because it is the seventh new character to be discovered. Overall, the text will become (with dashes inserted for readability):\n",
    "\n",
    "        0-1-2-3-4-5-6 1-3-7-4-8-9-10 11-1-12\n",
    "        \n",
    "Then, I would store each number on disk as an integer. I don't know if Python will give me that much control over how things are written to disk, Python might store as string which is less efficient. I could do it in C if need be, but would like to stick to Python where possible since it's what we use in this class."
   ]
  },
  {
   "cell_type": "code",
   "execution_count": null,
   "id": "equivalent-works",
   "metadata": {},
   "outputs": [],
   "source": []
  }
 ],
 "metadata": {
  "kernelspec": {
   "display_name": "Python 3",
   "language": "python",
   "name": "python3"
  },
  "language_info": {
   "codemirror_mode": {
    "name": "ipython",
    "version": 3
   },
   "file_extension": ".py",
   "mimetype": "text/x-python",
   "name": "python",
   "nbconvert_exporter": "python",
   "pygments_lexer": "ipython3",
   "version": "3.8.5"
  }
 },
 "nbformat": 4,
 "nbformat_minor": 5
}
