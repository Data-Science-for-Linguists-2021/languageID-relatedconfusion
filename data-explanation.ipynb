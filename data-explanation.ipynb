{
 "cells": [
  {
   "cell_type": "markdown",
   "id": "selected-federation",
   "metadata": {},
   "source": []
  },
  {
   "cell_type": "code",
   "execution_count": 23,
   "id": "explicit-chicago",
   "metadata": {},
   "outputs": [],
   "source": [
    "import os\n",
    "import pandas\n",
    "import wikipedia\n",
    "langsdict = wikipedia.languages()"
   ]
  },
  {
   "cell_type": "markdown",
   "id": "failing-absence",
   "metadata": {},
   "source": [
    "# 1: Download raw wikipedia XML files\n",
    "The script downloads these automatically, they come in a compressed .xml.bz format."
   ]
  },
  {
   "cell_type": "code",
   "execution_count": 25,
   "id": "extended-excitement",
   "metadata": {},
   "outputs": [],
   "source": [
    "dumpspath = './datagather/dumps/'\n",
    "dumpsraw = dict()\n",
    "for f in os.listdir(dumpspath):\n",
    "    if f.startswith('.'): continue\n",
    "    lang = f[:f.index('.')-4]\n",
    "    dumpsraw[lang] = [langsdict[lang], os.path.getsize(dumpspath + f)]"
   ]
  },
  {
   "cell_type": "code",
   "execution_count": 50,
   "id": "earlier-winner",
   "metadata": {},
   "outputs": [
    {
     "data": {
      "text/html": [
       "<div>\n",
       "<style scoped>\n",
       "    .dataframe tbody tr th:only-of-type {\n",
       "        vertical-align: middle;\n",
       "    }\n",
       "\n",
       "    .dataframe tbody tr th {\n",
       "        vertical-align: top;\n",
       "    }\n",
       "\n",
       "    .dataframe thead th {\n",
       "        text-align: right;\n",
       "    }\n",
       "</style>\n",
       "<table border=\"1\" class=\"dataframe\">\n",
       "  <thead>\n",
       "    <tr style=\"text-align: right;\">\n",
       "      <th></th>\n",
       "      <th>name</th>\n",
       "      <th>fsize</th>\n",
       "    </tr>\n",
       "  </thead>\n",
       "  <tbody>\n",
       "    <tr>\n",
       "      <th>ht</th>\n",
       "      <td>Kreyòl ayisyen</td>\n",
       "      <td>13973117</td>\n",
       "    </tr>\n",
       "    <tr>\n",
       "      <th>li</th>\n",
       "      <td>Limburgs</td>\n",
       "      <td>14315808</td>\n",
       "    </tr>\n",
       "    <tr>\n",
       "      <th>ig</th>\n",
       "      <td>Igbo</td>\n",
       "      <td>2109360</td>\n",
       "    </tr>\n",
       "    <tr>\n",
       "      <th>tet</th>\n",
       "      <td>tetun</td>\n",
       "      <td>1222946</td>\n",
       "    </tr>\n",
       "    <tr>\n",
       "      <th>wuu</th>\n",
       "      <td>吴语</td>\n",
       "      <td>14397542</td>\n",
       "    </tr>\n",
       "  </tbody>\n",
       "</table>\n",
       "</div>"
      ],
      "text/plain": [
       "               name     fsize\n",
       "ht   Kreyòl ayisyen  13973117\n",
       "li         Limburgs  14315808\n",
       "ig             Igbo   2109360\n",
       "tet           tetun   1222946\n",
       "wuu              吴语  14397542"
      ]
     },
     "execution_count": 50,
     "metadata": {},
     "output_type": "execute_result"
    }
   ],
   "source": [
    "dumps = pandas.DataFrame.from_dict(dumpsraw, columns=['name', 'fsize'], orient='index')\n",
    "dumps.head()"
   ]
  },
  {
   "cell_type": "code",
   "execution_count": 45,
   "id": "precious-football",
   "metadata": {},
   "outputs": [
    {
     "name": "stdout",
     "output_type": "stream",
     "text": [
      "208 languages excluded:\n",
      " Qafár af, bahasa ambon, адыгабзэ, адыгабзэ, تونسي/Tûnsî, تونسي, Tûnsî, Akan, Gegë, алтай тил, Pangcah, अङ्गिका, ܐܪܡܝܐ, mapudungun, جازايرية, American sign language, Atikamekw, ᬩᬲᬩᬮᬶ, žemaitėška, Batak Toba, Batak Toba, جهلسری بلوچی, беларуская (тарашкевіца)‎, беларуская (тарашкевіца)‎, روچ کپتین بلوچی, भोजपुरी, Bislama, bamanankan, بختیاری, Bráhuí, Batak Mandailing, Iriga Bicolano, Chavacano de Zamboanga, Chamoru, Choctaw, ᏣᎳᎩ, Tsetsêhestâhese, Capiceño, Nēhiyawēwin / ᓀᐦᐃᔭᐍᐏᐣ, къырымтатарджа (Кирилл)‎, qırımtatarca (Latin)‎, словѣньскъ / ⰔⰎⰑⰂⰡⰐⰠⰔⰍⰟ, Österreichisches Deutsch, Schweizer Hochdeutsch, Deutsch (Sie-Form)‎, Thuɔŋjäŋ, Dusun Bundu-liwan, ཇོང་ཁ, eʋegbe, Emiliàn, Canadian English, British English, español de América Latina, español (formal)‎, Fulfulde, meänkieli, võro, Na Vosa Vakaviti, français cadien, 赣语（简体）‎, 贛語（繁體）‎, kriyòl gwiyannen, गोंयची कोंकणी, Gõychi Konknni, 𐌲𐌿𐍄𐌹𐍃𐌺, Ἀρχαία ἑλληνικὴ, Alemannisch, Hawaiʻi, Fiji Hindi, Ilonggo, Hiri Motu, Hunsrik, magyar (formal)‎, Otsiherero, ꆇꉙ, Iñupiak, ᐃᓄᒃᑎᑐᑦ, inuktitut, ᐃᓄᒃᑎᑐᑦ/inuktitut, Patois, jysk, Адыгэбзэ, Tyap, Kongo, کھوار, Gĩkũyũ, Kırmancki, Kwanyama, ဖၠုံလိက်, قازاقشا (تٴوتە)‏, قازاقشا (جۇنگو)‏, қазақша (кирил)‎, қазақша (Қазақстан)‎, qazaqşa (latın)‎, qazaqşa (Türkïya)‎, kalaallisut, 조선말, Kanuri, Krio, Kinaray-a, karjal, कॉशुर / کٲشُر, کٲشُر, कॉशुर, كوردي (عەرەبی)‏, kurdî (latînî)‎, къумукъ, Līvõ kēļ, لەکی, Ladin, Silozi, لۊری شومالی, latgaļu, Mizo ţawng, لئری دوٙمینی, 文言, Lazuri, Madhurâ, Basa Banyumasan, Ebon, ꯃꯤꯇꯩ ꯂꯣꯟ, молдовеняскэ, Mara, Mvskoke, Dorerin Naoero, Bân-lâm-gú, norsk bokmål, Nedersaksies, Oshiwambo, Li Niha, Niuē, Nederlands (informeel)‎, ߒߞߏ, Nyunga, Plautdietsch, पालि, Norfuk / Pitkern, Ποντιακά, Prūsiskan, português do Brasil, Runa shimi, Rumagnôl, Tarifit, romani čhib, Kirundi, armãneashti, tarandíne, armãneashti, Vlăheşte, Влахесте, Vlăheşte, Sassaresu, کوردی خوارگ, Cmique Itom, Koyraboro Senni, Sängö, žemaitėška, Taclḥit, Taclḥit, ⵜⴰⵛⵍⵃⵉⵜ, tacawit, سرائیکی, Schläsch, Gagana Samoa, åarjelsaemien, српски (ћирилица)‎, srpski (latinica)‎, Sranantongo, SiSwati, Sesotho, себертатар, Tayal, тоҷикӣ, tojikī, ትግርኛ, толышә зывон, lea faka-Tonga, Ṫuroyo, Seediq, татарча, tatarça, chiTumbuka, Twi, reo tahiti, ⵜⴰⵎⴰⵣⵉⵖⵜ, ئۇيغۇرچە, Uyghurche, ўзбекча, oʻzbekcha, Tshivenda, Mainfränkisch, Vaďďa, võro, saisiyat, 粵語, Vahcuengh, ⵜⴰⵎⴰⵣⵉⵖⵜ ⵜⴰⵏⴰⵡⴰⵢⵜ, 文言, 中文（中国大陆）‎, 中文（简体）‎, 中文（繁體）‎, 中文（香港）‎, Bân-lâm-gú, 中文（澳門）‎, 中文（马来西亚）‎, 中文（新加坡）‎, 中文（台灣）‎, 粵語\n"
     ]
    }
   ],
   "source": [
    "excluded = [langsdict[l] for l in langsdict.keys() if l not in dumps.index]\n",
    "print(len(excluded), 'languages excluded:\\n', ', '.join(excluded))"
   ]
  },
  {
   "cell_type": "code",
   "execution_count": 49,
   "id": "civilian-accreditation",
   "metadata": {},
   "outputs": [
    {
     "name": "stdout",
     "output_type": "stream",
     "text": [
      "246 languages included:\n",
      " Kreyòl ayisyen, Limburgs, Igbo, tetun, 吴语, коми, الدارجة, latviešu, la .lojban., भोजपुरी, мокшень, Zeêuws, oʻzbekcha/ўзбекча, تۆرکجه, සිංහල, norsk nynorsk, português, Bahasa Melayu, अवधी, 中文, тыва дыл, svenska, башҡортса, മലയാളം, Tagalog, arpetan, slovenščina, Afrikaans, Jawa, Yorùbá, Mirandés, ગુજરાતી, Frysk, Māori, Xitsonga, sicilianu, italiano, Aymar aru, Gagauz, davvisámegiella, føroyskt, తెలుగు, brezhoneg, català, Адыгэбзэ, dansk, 贛語, Pälzisch, Nāhuatl, Novial, qırımtatarca, Simple English, dolnoserbski, Oromoo, অসমীয়া, English, lumbaart, বাংলা, پنجابی, hrvatski, Nouormand, ລາວ, ଓଡ଼ିଆ, русский, 한국어, interlingua, Papiamentu, къарачай-малкъар, Кыргызча, Kotava, български, azərbaycanca, vepsän kel’, Alemannisch, Gaelg, Plattdüütsch, livvinkarjala, Soomaaliga, Piemontèis, Sunda, Ænglisc, galego, Hausa, Mìng-dĕ̤ng-ngṳ̄, کوردی, ייִדיש, emiliàn e rumagnòl, ਪੰਜਾਬੀ, авар, walon, română, Picard, kurdî, گیلکی, مصرى, suomi, မြန်မာဘာသာ, kaszëbsczi, Bahasa Indonesia, ၽႃႇသႃႇတႆး , vèneto, eesti, sardu, Kapampangan, удмурт, олык марий, 日本語, Ελληνικά, саха тыла, Runa Simi, Deitsch, bosanski, ᨅᨔ ᨕᨘᨁᨗ, español, سنڌي, кырык мары, aragonés, Ilokano, Banjar, Kinyarwanda, ភាសាខ្មែរ, 客家語/Hak-kâ-ngî, српски / srpski, Wolof, Türkçe, беларуская, Scots, Fiji Hindi, Чӑвашла, ދިވެހިބަސް, буряад, مازِرونی, anarâškielâ, хальмг, հայերեն, West-Vlams, ГӀалгӀай, ဘာသာ မန်, Zazaki, occitan, მარგალური, Avañe'ẽ, čeština, Tok Pisin, Sesotho sa Leboa, Kiswahili, Boarisch, ქართული, Seeltersk, Latina, Ido, ไทย, मराठी, norsk, эрзянь, srpskohrvatski / српскохрватски, Lingua Franca Nova, Аҧсшәа, ತುಳು, Taqbaylit, Winaray, Ripoarisch, rumantsch, मैथिली, русиньскый, kernowek, Chi-Chewa, лакку, Sakizaya, magyar, нохчийн, اردو, Volapük, Deutsch, Ligure, संस्कृतम्, лезги, asturianu, தமிழ், नेपाली, euskara, سرائیکی, Interlingue, Ladino, Napulitano, डोटेली, қазақша, Malagasy, Gàidhlig, lietuvių, Cymraeg, Qaraqalpaqsha, हिन्दी, перем коми, فارسی, ślůnski, Türkmençe, slovenčina, Nederlands, isiZulu, Lëtzebuergesch, corsu, татарча/tatarça, Cebuano, íslenska, монгол, Basa Bali, Acèh, বিষ্ণুপ্রিয়া মণিপুরী, Minangkabau, ئۇيغۇرچە / Uyghurche, Luganda, chiShona, estremeñu, furlan, Setswana, پښتو, Malti, Nordfriisk, עברית, Kabɩyɛ, hornjoserbsce, shqip, Diné bizaad, Pangasinan, polski, македонски, ᱥᱟᱱᱛᱟᱲᱤ, Tiếng Việt, Արեւմտահայերէն, ಕನ್ನಡ, गोंयची कोंकणी / Gõychi Konknni, Ирон, lingála, тоҷикӣ, አማርኛ, Bahasa Hulontalo, українська, Gaeilge, नेपाल भाषा, བོད་ཡིག, français, Bikol Central, isiXhosa, Esperanto, العربية\n"
     ]
    }
   ],
   "source": [
    "print(dumps.shape[0], 'languages included:\\n', ', '.join(dumps['name']))"
   ]
  },
  {
   "cell_type": "code",
   "execution_count": 37,
   "id": "expected-exposure",
   "metadata": {},
   "outputs": [
    {
     "data": {
      "text/html": [
       "<div>\n",
       "<style scoped>\n",
       "    .dataframe tbody tr th:only-of-type {\n",
       "        vertical-align: middle;\n",
       "    }\n",
       "\n",
       "    .dataframe tbody tr th {\n",
       "        vertical-align: top;\n",
       "    }\n",
       "\n",
       "    .dataframe thead th {\n",
       "        text-align: right;\n",
       "    }\n",
       "</style>\n",
       "<table border=\"1\" class=\"dataframe\">\n",
       "  <thead>\n",
       "    <tr style=\"text-align: right;\">\n",
       "      <th></th>\n",
       "      <th>name</th>\n",
       "      <th>fsize</th>\n",
       "    </tr>\n",
       "  </thead>\n",
       "  <tbody>\n",
       "    <tr>\n",
       "      <th>en</th>\n",
       "      <td>English</td>\n",
       "      <td>18267134864</td>\n",
       "    </tr>\n",
       "    <tr>\n",
       "      <th>de</th>\n",
       "      <td>Deutsch</td>\n",
       "      <td>5877797639</td>\n",
       "    </tr>\n",
       "    <tr>\n",
       "      <th>fr</th>\n",
       "      <td>français</td>\n",
       "      <td>4972442407</td>\n",
       "    </tr>\n",
       "    <tr>\n",
       "      <th>ru</th>\n",
       "      <td>русский</td>\n",
       "      <td>4224935955</td>\n",
       "    </tr>\n",
       "    <tr>\n",
       "      <th>ja</th>\n",
       "      <td>日本語</td>\n",
       "      <td>3309015603</td>\n",
       "    </tr>\n",
       "    <tr>\n",
       "      <th>es</th>\n",
       "      <td>español</td>\n",
       "      <td>3144443923</td>\n",
       "    </tr>\n",
       "    <tr>\n",
       "      <th>it</th>\n",
       "      <td>italiano</td>\n",
       "      <td>3129866871</td>\n",
       "    </tr>\n",
       "    <tr>\n",
       "      <th>zh</th>\n",
       "      <td>中文</td>\n",
       "      <td>2122775813</td>\n",
       "    </tr>\n",
       "    <tr>\n",
       "      <th>pl</th>\n",
       "      <td>polski</td>\n",
       "      <td>2024669975</td>\n",
       "    </tr>\n",
       "    <tr>\n",
       "      <th>pt</th>\n",
       "      <td>português</td>\n",
       "      <td>1831289660</td>\n",
       "    </tr>\n",
       "  </tbody>\n",
       "</table>\n",
       "</div>"
      ],
      "text/plain": [
       "         name        fsize\n",
       "en    English  18267134864\n",
       "de    Deutsch   5877797639\n",
       "fr   français   4972442407\n",
       "ru    русский   4224935955\n",
       "ja        日本語   3309015603\n",
       "es    español   3144443923\n",
       "it   italiano   3129866871\n",
       "zh         中文   2122775813\n",
       "pl     polski   2024669975\n",
       "pt  português   1831289660"
      ]
     },
     "execution_count": 37,
     "metadata": {},
     "output_type": "execute_result"
    }
   ],
   "source": [
    "dumps.sort_values('fsize', ascending=False).head(10) # largest wikis included"
   ]
  },
  {
   "cell_type": "code",
   "execution_count": 38,
   "id": "fabulous-consumer",
   "metadata": {},
   "outputs": [
    {
     "data": {
      "text/html": [
       "<div>\n",
       "<style scoped>\n",
       "    .dataframe tbody tr th:only-of-type {\n",
       "        vertical-align: middle;\n",
       "    }\n",
       "\n",
       "    .dataframe tbody tr th {\n",
       "        vertical-align: top;\n",
       "    }\n",
       "\n",
       "    .dataframe thead th {\n",
       "        text-align: right;\n",
       "    }\n",
       "</style>\n",
       "<table border=\"1\" class=\"dataframe\">\n",
       "  <thead>\n",
       "    <tr style=\"text-align: right;\">\n",
       "      <th></th>\n",
       "      <th>name</th>\n",
       "      <th>fsize</th>\n",
       "    </tr>\n",
       "  </thead>\n",
       "  <tbody>\n",
       "    <tr>\n",
       "      <th>jbo</th>\n",
       "      <td>la .lojban.</td>\n",
       "      <td>1074932</td>\n",
       "    </tr>\n",
       "    <tr>\n",
       "      <th>pdc</th>\n",
       "      <td>Deitsch</td>\n",
       "      <td>1085523</td>\n",
       "    </tr>\n",
       "    <tr>\n",
       "      <th>nov</th>\n",
       "      <td>Novial</td>\n",
       "      <td>1111229</td>\n",
       "    </tr>\n",
       "    <tr>\n",
       "      <th>mdf</th>\n",
       "      <td>мокшень</td>\n",
       "      <td>1119182</td>\n",
       "    </tr>\n",
       "    <tr>\n",
       "      <th>smn</th>\n",
       "      <td>anarâškielâ</td>\n",
       "      <td>1149766</td>\n",
       "    </tr>\n",
       "    <tr>\n",
       "      <th>lbe</th>\n",
       "      <td>лакку</td>\n",
       "      <td>1188547</td>\n",
       "    </tr>\n",
       "    <tr>\n",
       "      <th>tet</th>\n",
       "      <td>tetun</td>\n",
       "      <td>1222946</td>\n",
       "    </tr>\n",
       "    <tr>\n",
       "      <th>kbp</th>\n",
       "      <td>Kabɩyɛ</td>\n",
       "      <td>1316060</td>\n",
       "    </tr>\n",
       "    <tr>\n",
       "      <th>tpi</th>\n",
       "      <td>Tok Pisin</td>\n",
       "      <td>1371967</td>\n",
       "    </tr>\n",
       "    <tr>\n",
       "      <th>kaa</th>\n",
       "      <td>Qaraqalpaqsha</td>\n",
       "      <td>1386783</td>\n",
       "    </tr>\n",
       "  </tbody>\n",
       "</table>\n",
       "</div>"
      ],
      "text/plain": [
       "              name    fsize\n",
       "jbo    la .lojban.  1074932\n",
       "pdc        Deitsch  1085523\n",
       "nov         Novial  1111229\n",
       "mdf        мокшень  1119182\n",
       "smn    anarâškielâ  1149766\n",
       "lbe          лакку  1188547\n",
       "tet          tetun  1222946\n",
       "kbp         Kabɩyɛ  1316060\n",
       "tpi      Tok Pisin  1371967\n",
       "kaa  Qaraqalpaqsha  1386783"
      ]
     },
     "execution_count": 38,
     "metadata": {},
     "output_type": "execute_result"
    }
   ],
   "source": [
    "dumps.sort_values('fsize').head(10) # smallest wikis included"
   ]
  },
  {
   "cell_type": "code",
   "execution_count": 32,
   "id": "alternative-technician",
   "metadata": {},
   "outputs": [
    {
     "data": {
      "text/plain": [
       "<AxesSubplot:ylabel='Frequency'>"
      ]
     },
     "execution_count": 32,
     "metadata": {},
     "output_type": "execute_result"
    },
    {
     "data": {
      "image/png": "[encoded data removed]",
      "text/plain": [
       "<Figure size 432x288 with 1 Axes>"
      ]
     },
     "metadata": {
      "needs_background": "light"
     },
     "output_type": "display_data"
    }
   ],
   "source": [
    "dumps['fsize'].plot.hist(bins=20) # many small wikis, just a few big wikis"
   ]
  },
  {
   "cell_type": "code",
   "execution_count": 53,
   "id": "functional-screw",
   "metadata": {},
   "outputs": [
    {
     "data": {
      "text/plain": [
       "['<mediawiki xmlns=\"http://www.mediawiki.org/xml/export-0.10/\" xmlns:xsi=\"http://www.w3.org/2001/XMLSchema-instance\" xsi:schemaLocation=\"http://www.mediawiki.org/xml/export-0.10/ http://www.mediawiki.org/xml/export-0.10.xsd\" version=\"0.10\" xml:lang=\"kaa\">\\n',\n",
       " '  <siteinfo>\\n',\n",
       " '    <sitename>Wikipedia</sitename>\\n',\n",
       " '    <dbname>kaawiki</dbname>\\n',\n",
       " '    <base>https://kaa.wikipedia.org/wiki/Bas_bet</base>\\n',\n",
       " '    <generator>MediaWiki 1.36.0-wmf.31</generator>\\n',\n",
       " '    <case>first-letter</case>\\n',\n",
       " '    <namespaces>\\n',\n",
       " '      <namespace key=\"-2\" case=\"first-letter\">Media</namespace>\\n',\n",
       " '      <namespace key=\"-1\" case=\"first-letter\">Arnawlı</namespace>\\n',\n",
       " '      <namespace key=\"0\" case=\"first-letter\" />\\n',\n",
       " '      <namespace key=\"1\" case=\"first-letter\">Sa\\'wbet</namespace>\\n',\n",
       " '      <namespace key=\"2\" case=\"first-letter\">Paydalanıwshı</namespace>\\n',\n",
       " '      <namespace key=\"3\" case=\"first-letter\">Paydalanıwshı sa\\'wbeti</namespace>\\n',\n",
       " '      <namespace key=\"4\" case=\"first-letter\">Wikipedia</namespace>\\n',\n",
       " '      <namespace key=\"5\" case=\"first-letter\">Wikipedia sa\\'wbeti</namespace>\\n',\n",
       " '      <namespace key=\"6\" case=\"first-letter\">Su\\'wret</namespace>\\n',\n",
       " '      <namespace key=\"7\" case=\"first-letter\">Su\\'wret sa\\'wbeti</namespace>\\n',\n",
       " '      <namespace key=\"8\" case=\"first-letter\">MediaWiki</namespace>\\n',\n",
       " '      <namespace key=\"9\" case=\"first-letter\">MediaWiki sa\\'wbeti</namespace>\\n']"
      ]
     },
     "execution_count": 53,
     "metadata": {},
     "output_type": "execute_result"
    }
   ],
   "source": [
    "f = open('./datagather/kaa-raw.xml', 'r')\n",
    "exdump = f.readlines()\n",
    "f.close()\n",
    "exdump[:20]"
   ]
  },
  {
   "cell_type": "code",
   "execution_count": 54,
   "id": "scientific-checklist",
   "metadata": {},
   "outputs": [
    {
     "data": {
      "text/plain": [
       "['      <sha1>j4b51cvuaoqrzh27274l7fzp3q29453</sha1>\\n',\n",
       " '    </revision>\\n',\n",
       " '  </page>\\n',\n",
       " '  <page>\\n',\n",
       " \"    <title>A'jiniyaz</title>\\n\",\n",
       " '    <ns>0</ns>\\n',\n",
       " '    <id>152</id>\\n',\n",
       " '    <revision>\\n',\n",
       " '      <id>43321</id>\\n',\n",
       " '      <parentid>30626</parentid>\\n',\n",
       " '      <timestamp>2020-05-01T08:16:04Z</timestamp>\\n',\n",
       " '      <contributor>\\n',\n",
       " '        <ip>185.163.26.25</ip>\\n',\n",
       " '      </contributor>\\n',\n",
       " '      <model>wikitext</model>\\n',\n",
       " '      <format>text/x-wiki</format>\\n',\n",
       " '      <text bytes=\"7440\" xml:space=\"preserve\">\\'\\'\\'A\\'jiniyaz Qosıbay ulı\\'\\'\\' (a\\'debiy laqabı \\'\\'Ziywar\\'\\') - XIX a\\'sirdegi qaraqalpaq klassik a\\'debiyatının\\' en\\' o\\'rnekli wa\\'killerinin\\' biri. Ol do\\'retiwshiliginde o\\'zine ta\\'n o\\'zgeshelikke iye, og\\'ada talantlı, oqımıslı, medreseni ayrıqsha tamamlag\\'an aqun, ulama, ko\\'rkem so\\'z sheberi sıpatında basqalardan ayrılıp turatug\\'ın uqıplılıq penen o\\'z da\\'wirinin\\' progressiv idealların ju\\'zege shıg\\'ardı, anıq turmıs haqıyqatlıg\\'ın sheber qurılg\\'an poetikalıq obrazlı ibaralarda o\\'tkir oy-pikirler menen ta\\'sirli sa\\'wlelendirdi.\\n',\n",
       " '\\n',\n",
       " '=== Tuwiliwi ===\\n',\n",
       " \"A'jiniyaz shayır 1824-jılı [[Moynaq|Moynaq]] rayonı aymag'ında qaraslı &quot;Qamıs bo'get&quot; degen jerde orta xallı diyxan xojalıg'ında du'nyag'a keledi. Ol qaraqalpaqtın' Qon'ırat arısı ashamaylı [[Urıw|urıwının']] saqıw tiresinen. A'jiniyazdın' a'kesi Qosıbay, onın' a'kesi Baltabek, arg'ı atası Aqjigit o'z da'wirinin' batır, sawatlı adamları bolg'an. Anası Naziyra so'zge sheshen, dilwar, ha'zir juwap, o'tkir pikirli adam bolıp xalıq danalıqların, naqıl-maqallardı, ushırma so'zlerdi, da'stanlardı, terme-tolg'awlardı, xalıq qosıqlarların ju'da' jaqsı bilgen. \\n\"]"
      ]
     },
     "execution_count": 54,
     "metadata": {},
     "output_type": "execute_result"
    }
   ],
   "source": [
    "exdump[3745:3765]"
   ]
  },
  {
   "cell_type": "markdown",
   "id": "warming-specific",
   "metadata": {},
   "source": [
    "# 2: Remove the XML and wikipedia formatting"
   ]
  },
  {
   "cell_type": "code",
   "execution_count": null,
   "id": "focal-moscow",
   "metadata": {},
   "outputs": [],
   "source": []
  }
 ],
 "metadata": {
  "kernelspec": {
   "display_name": "Python 3",
   "language": "python",
   "name": "python3"
  },
  "language_info": {
   "codemirror_mode": {
    "name": "ipython",
    "version": 3
   },
   "file_extension": ".py",
   "mimetype": "text/x-python",
   "name": "python",
   "nbconvert_exporter": "python",
   "pygments_lexer": "ipython3",
   "version": "3.8.5"
  }
 },
 "nbformat": 4,
 "nbformat_minor": 5
}
